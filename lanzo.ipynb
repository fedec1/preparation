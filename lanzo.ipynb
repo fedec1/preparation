{
 "cells": [
  {
   "cell_type": "code",
   "id": "initial_id",
   "metadata": {
    "collapsed": true,
    "ExecuteTime": {
     "end_time": "2025-06-25T22:44:17.887083Z",
     "start_time": "2025-06-25T22:44:17.137979Z"
    }
   },
   "source": [
    "import pandas as pd\n",
    "import os\n",
    "import plotly.express as px"
   ],
   "outputs": [],
   "execution_count": 37
  },
  {
   "metadata": {
    "ExecuteTime": {
     "end_time": "2025-06-25T22:07:17.964840Z",
     "start_time": "2025-06-25T22:07:17.957906Z"
    }
   },
   "cell_type": "code",
   "source": "out_path = os.path.join(os.getcwd(), 'Datasets')",
   "id": "20f2db9bd7cdce3a",
   "outputs": [],
   "execution_count": 2
  },
  {
   "metadata": {
    "ExecuteTime": {
     "end_time": "2025-06-25T22:07:17.976197Z",
     "start_time": "2025-06-25T22:07:17.964840Z"
    }
   },
   "cell_type": "code",
   "source": "data_path = os.path.join(out_path, 'Lanzo_91_24.txt')",
   "id": "2809e7b3bebbae45",
   "outputs": [],
   "execution_count": 3
  },
  {
   "metadata": {},
   "cell_type": "markdown",
   "source": "E' possibile utilizzare il metodo read_csv anche su file .txt. In questo caso il delimitatore è il tab.",
   "id": "600890703db168b6"
  },
  {
   "metadata": {
    "ExecuteTime": {
     "end_time": "2025-06-25T22:07:18.019570Z",
     "start_time": "2025-06-25T22:07:17.976197Z"
    }
   },
   "cell_type": "code",
   "source": "df = pd.read_csv(data_path, delimiter='\\t')",
   "id": "494045844be213d7",
   "outputs": [],
   "execution_count": 4
  },
  {
   "metadata": {
    "ExecuteTime": {
     "end_time": "2025-06-25T22:07:18.026353Z",
     "start_time": "2025-06-25T22:07:18.019570Z"
    }
   },
   "cell_type": "code",
   "source": "df.columns = [\"Anno\", \"Mese\", \"Giorno\", \"Precipitazioni\", \"Tx\", \"Tn\"]",
   "id": "9b5223b2e1cf943e",
   "outputs": [],
   "execution_count": 5
  },
  {
   "metadata": {
    "ExecuteTime": {
     "end_time": "2025-06-25T22:07:18.117067Z",
     "start_time": "2025-06-25T22:07:18.026353Z"
    }
   },
   "cell_type": "code",
   "source": "df",
   "id": "a3dc6dabf95b7ddd",
   "outputs": [
    {
     "data": {
      "text/plain": [
       "       Anno  Mese  Giorno  Precipitazioni    Tx   Tn\n",
       "0      1991     1       2             0.0   7.5 -0.2\n",
       "1      1991     1       3             0.0   9.2  0.5\n",
       "2      1991     1       4             0.0   5.9  1.3\n",
       "3      1991     1       5             0.0  10.1 -0.6\n",
       "4      1991     1       6             0.0   6.7 -0.8\n",
       "...     ...   ...     ...             ...   ...  ...\n",
       "12413  2024    12      27             0.0  10.1  0.9\n",
       "12414  2024    12      28             0.0  15.2  3.0\n",
       "12415  2024    12      29             0.0  13.8  3.0\n",
       "12416  2024    12      30             0.0  13.0  2.7\n",
       "12417  2024    12      31             0.0  10.8  1.3\n",
       "\n",
       "[12418 rows x 6 columns]"
      ],
      "text/html": [
       "<div>\n",
       "<style scoped>\n",
       "    .dataframe tbody tr th:only-of-type {\n",
       "        vertical-align: middle;\n",
       "    }\n",
       "\n",
       "    .dataframe tbody tr th {\n",
       "        vertical-align: top;\n",
       "    }\n",
       "\n",
       "    .dataframe thead th {\n",
       "        text-align: right;\n",
       "    }\n",
       "</style>\n",
       "<table border=\"1\" class=\"dataframe\">\n",
       "  <thead>\n",
       "    <tr style=\"text-align: right;\">\n",
       "      <th></th>\n",
       "      <th>Anno</th>\n",
       "      <th>Mese</th>\n",
       "      <th>Giorno</th>\n",
       "      <th>Precipitazioni</th>\n",
       "      <th>Tx</th>\n",
       "      <th>Tn</th>\n",
       "    </tr>\n",
       "  </thead>\n",
       "  <tbody>\n",
       "    <tr>\n",
       "      <th>0</th>\n",
       "      <td>1991</td>\n",
       "      <td>1</td>\n",
       "      <td>2</td>\n",
       "      <td>0.0</td>\n",
       "      <td>7.5</td>\n",
       "      <td>-0.2</td>\n",
       "    </tr>\n",
       "    <tr>\n",
       "      <th>1</th>\n",
       "      <td>1991</td>\n",
       "      <td>1</td>\n",
       "      <td>3</td>\n",
       "      <td>0.0</td>\n",
       "      <td>9.2</td>\n",
       "      <td>0.5</td>\n",
       "    </tr>\n",
       "    <tr>\n",
       "      <th>2</th>\n",
       "      <td>1991</td>\n",
       "      <td>1</td>\n",
       "      <td>4</td>\n",
       "      <td>0.0</td>\n",
       "      <td>5.9</td>\n",
       "      <td>1.3</td>\n",
       "    </tr>\n",
       "    <tr>\n",
       "      <th>3</th>\n",
       "      <td>1991</td>\n",
       "      <td>1</td>\n",
       "      <td>5</td>\n",
       "      <td>0.0</td>\n",
       "      <td>10.1</td>\n",
       "      <td>-0.6</td>\n",
       "    </tr>\n",
       "    <tr>\n",
       "      <th>4</th>\n",
       "      <td>1991</td>\n",
       "      <td>1</td>\n",
       "      <td>6</td>\n",
       "      <td>0.0</td>\n",
       "      <td>6.7</td>\n",
       "      <td>-0.8</td>\n",
       "    </tr>\n",
       "    <tr>\n",
       "      <th>...</th>\n",
       "      <td>...</td>\n",
       "      <td>...</td>\n",
       "      <td>...</td>\n",
       "      <td>...</td>\n",
       "      <td>...</td>\n",
       "      <td>...</td>\n",
       "    </tr>\n",
       "    <tr>\n",
       "      <th>12413</th>\n",
       "      <td>2024</td>\n",
       "      <td>12</td>\n",
       "      <td>27</td>\n",
       "      <td>0.0</td>\n",
       "      <td>10.1</td>\n",
       "      <td>0.9</td>\n",
       "    </tr>\n",
       "    <tr>\n",
       "      <th>12414</th>\n",
       "      <td>2024</td>\n",
       "      <td>12</td>\n",
       "      <td>28</td>\n",
       "      <td>0.0</td>\n",
       "      <td>15.2</td>\n",
       "      <td>3.0</td>\n",
       "    </tr>\n",
       "    <tr>\n",
       "      <th>12415</th>\n",
       "      <td>2024</td>\n",
       "      <td>12</td>\n",
       "      <td>29</td>\n",
       "      <td>0.0</td>\n",
       "      <td>13.8</td>\n",
       "      <td>3.0</td>\n",
       "    </tr>\n",
       "    <tr>\n",
       "      <th>12416</th>\n",
       "      <td>2024</td>\n",
       "      <td>12</td>\n",
       "      <td>30</td>\n",
       "      <td>0.0</td>\n",
       "      <td>13.0</td>\n",
       "      <td>2.7</td>\n",
       "    </tr>\n",
       "    <tr>\n",
       "      <th>12417</th>\n",
       "      <td>2024</td>\n",
       "      <td>12</td>\n",
       "      <td>31</td>\n",
       "      <td>0.0</td>\n",
       "      <td>10.8</td>\n",
       "      <td>1.3</td>\n",
       "    </tr>\n",
       "  </tbody>\n",
       "</table>\n",
       "<p>12418 rows × 6 columns</p>\n",
       "</div>"
      ]
     },
     "execution_count": 6,
     "metadata": {},
     "output_type": "execute_result"
    }
   ],
   "execution_count": 6
  },
  {
   "metadata": {
    "ExecuteTime": {
     "end_time": "2025-06-25T22:07:18.128808Z",
     "start_time": "2025-06-25T22:07:18.117067Z"
    }
   },
   "cell_type": "code",
   "source": [
    "duplicati = df[\"Anno\"][df[\"Anno\"].duplicated()]\n",
    "print(duplicati)\n"
   ],
   "id": "4243c9858c05304",
   "outputs": [
    {
     "name": "stdout",
     "output_type": "stream",
     "text": [
      "1        1991\n",
      "2        1991\n",
      "3        1991\n",
      "4        1991\n",
      "5        1991\n",
      "         ... \n",
      "12413    2024\n",
      "12414    2024\n",
      "12415    2024\n",
      "12416    2024\n",
      "12417    2024\n",
      "Name: Anno, Length: 12384, dtype: int64\n"
     ]
    }
   ],
   "execution_count": 7
  },
  {
   "metadata": {
    "ExecuteTime": {
     "end_time": "2025-06-25T22:07:18.135530Z",
     "start_time": "2025-06-25T22:07:18.128808Z"
    }
   },
   "cell_type": "code",
   "source": [
    "print(df[\"Anno\"].max())\n",
    "print(df[\"Mese\"].max())\n",
    "print(df[\"Giorno\"].max())"
   ],
   "id": "b0f8d50b4a21fc57",
   "outputs": [
    {
     "name": "stdout",
     "output_type": "stream",
     "text": [
      "2024\n",
      "12\n",
      "31\n"
     ]
    }
   ],
   "execution_count": 8
  },
  {
   "metadata": {
    "ExecuteTime": {
     "end_time": "2025-06-25T22:07:18.141296Z",
     "start_time": "2025-06-25T22:07:18.135530Z"
    }
   },
   "cell_type": "code",
   "source": [
    "print(df[\"Precipitazioni\"].max())\n",
    "print(df[\"Precipitazioni\"].min())"
   ],
   "id": "a780d84e0917991a",
   "outputs": [
    {
     "name": "stdout",
     "output_type": "stream",
     "text": [
      "285.6\n",
      "-99.9\n"
     ]
    }
   ],
   "execution_count": 9
  },
  {
   "metadata": {
    "ExecuteTime": {
     "end_time": "2025-06-25T22:07:18.150048Z",
     "start_time": "2025-06-25T22:07:18.141296Z"
    }
   },
   "cell_type": "code",
   "source": [
    "print(df[\"Tx\"].max())\n",
    "print(df[\"Tx\"].min())"
   ],
   "id": "ed6ced0f65d42949",
   "outputs": [
    {
     "name": "stdout",
     "output_type": "stream",
     "text": [
      "37.2\n",
      "-99.9\n"
     ]
    }
   ],
   "execution_count": 10
  },
  {
   "metadata": {
    "ExecuteTime": {
     "end_time": "2025-06-25T22:07:18.213539Z",
     "start_time": "2025-06-25T22:07:18.150048Z"
    }
   },
   "cell_type": "code",
   "source": [
    "print(df[\"Tn\"].max())\n",
    "print(df[\"Tn\"].min())"
   ],
   "id": "ae30f09e5e2516fd",
   "outputs": [
    {
     "name": "stdout",
     "output_type": "stream",
     "text": [
      "22.6\n",
      "-99.9\n"
     ]
    }
   ],
   "execution_count": 11
  },
  {
   "metadata": {
    "ExecuteTime": {
     "end_time": "2025-06-25T22:07:18.265350Z",
     "start_time": "2025-06-25T22:07:18.213539Z"
    }
   },
   "cell_type": "code",
   "source": "df[\"Data\"] = pd.to_datetime(df['Anno'].astype(str) + df['Mese'].astype(str) + df['Giorno'].astype(str), format='%Y%m%d')",
   "id": "7f588786150bbe89",
   "outputs": [],
   "execution_count": 12
  },
  {
   "metadata": {
    "ExecuteTime": {
     "end_time": "2025-06-25T22:07:18.274016Z",
     "start_time": "2025-06-25T22:07:18.265350Z"
    }
   },
   "cell_type": "code",
   "source": "df.set_index('Data', inplace=True)",
   "id": "ee21724a811e2199",
   "outputs": [],
   "execution_count": 13
  },
  {
   "metadata": {
    "ExecuteTime": {
     "end_time": "2025-06-25T22:07:18.291795Z",
     "start_time": "2025-06-25T22:07:18.274016Z"
    }
   },
   "cell_type": "code",
   "source": "df",
   "id": "6cae7aaac4bd5ed3",
   "outputs": [
    {
     "data": {
      "text/plain": [
       "            Anno  Mese  Giorno  Precipitazioni    Tx   Tn\n",
       "Data                                                     \n",
       "1991-01-02  1991     1       2             0.0   7.5 -0.2\n",
       "1991-01-03  1991     1       3             0.0   9.2  0.5\n",
       "1991-01-04  1991     1       4             0.0   5.9  1.3\n",
       "1991-01-05  1991     1       5             0.0  10.1 -0.6\n",
       "1991-01-06  1991     1       6             0.0   6.7 -0.8\n",
       "...          ...   ...     ...             ...   ...  ...\n",
       "2024-12-27  2024    12      27             0.0  10.1  0.9\n",
       "2024-12-28  2024    12      28             0.0  15.2  3.0\n",
       "2024-12-29  2024    12      29             0.0  13.8  3.0\n",
       "2024-12-30  2024    12      30             0.0  13.0  2.7\n",
       "2024-12-31  2024    12      31             0.0  10.8  1.3\n",
       "\n",
       "[12418 rows x 6 columns]"
      ],
      "text/html": [
       "<div>\n",
       "<style scoped>\n",
       "    .dataframe tbody tr th:only-of-type {\n",
       "        vertical-align: middle;\n",
       "    }\n",
       "\n",
       "    .dataframe tbody tr th {\n",
       "        vertical-align: top;\n",
       "    }\n",
       "\n",
       "    .dataframe thead th {\n",
       "        text-align: right;\n",
       "    }\n",
       "</style>\n",
       "<table border=\"1\" class=\"dataframe\">\n",
       "  <thead>\n",
       "    <tr style=\"text-align: right;\">\n",
       "      <th></th>\n",
       "      <th>Anno</th>\n",
       "      <th>Mese</th>\n",
       "      <th>Giorno</th>\n",
       "      <th>Precipitazioni</th>\n",
       "      <th>Tx</th>\n",
       "      <th>Tn</th>\n",
       "    </tr>\n",
       "    <tr>\n",
       "      <th>Data</th>\n",
       "      <th></th>\n",
       "      <th></th>\n",
       "      <th></th>\n",
       "      <th></th>\n",
       "      <th></th>\n",
       "      <th></th>\n",
       "    </tr>\n",
       "  </thead>\n",
       "  <tbody>\n",
       "    <tr>\n",
       "      <th>1991-01-02</th>\n",
       "      <td>1991</td>\n",
       "      <td>1</td>\n",
       "      <td>2</td>\n",
       "      <td>0.0</td>\n",
       "      <td>7.5</td>\n",
       "      <td>-0.2</td>\n",
       "    </tr>\n",
       "    <tr>\n",
       "      <th>1991-01-03</th>\n",
       "      <td>1991</td>\n",
       "      <td>1</td>\n",
       "      <td>3</td>\n",
       "      <td>0.0</td>\n",
       "      <td>9.2</td>\n",
       "      <td>0.5</td>\n",
       "    </tr>\n",
       "    <tr>\n",
       "      <th>1991-01-04</th>\n",
       "      <td>1991</td>\n",
       "      <td>1</td>\n",
       "      <td>4</td>\n",
       "      <td>0.0</td>\n",
       "      <td>5.9</td>\n",
       "      <td>1.3</td>\n",
       "    </tr>\n",
       "    <tr>\n",
       "      <th>1991-01-05</th>\n",
       "      <td>1991</td>\n",
       "      <td>1</td>\n",
       "      <td>5</td>\n",
       "      <td>0.0</td>\n",
       "      <td>10.1</td>\n",
       "      <td>-0.6</td>\n",
       "    </tr>\n",
       "    <tr>\n",
       "      <th>1991-01-06</th>\n",
       "      <td>1991</td>\n",
       "      <td>1</td>\n",
       "      <td>6</td>\n",
       "      <td>0.0</td>\n",
       "      <td>6.7</td>\n",
       "      <td>-0.8</td>\n",
       "    </tr>\n",
       "    <tr>\n",
       "      <th>...</th>\n",
       "      <td>...</td>\n",
       "      <td>...</td>\n",
       "      <td>...</td>\n",
       "      <td>...</td>\n",
       "      <td>...</td>\n",
       "      <td>...</td>\n",
       "    </tr>\n",
       "    <tr>\n",
       "      <th>2024-12-27</th>\n",
       "      <td>2024</td>\n",
       "      <td>12</td>\n",
       "      <td>27</td>\n",
       "      <td>0.0</td>\n",
       "      <td>10.1</td>\n",
       "      <td>0.9</td>\n",
       "    </tr>\n",
       "    <tr>\n",
       "      <th>2024-12-28</th>\n",
       "      <td>2024</td>\n",
       "      <td>12</td>\n",
       "      <td>28</td>\n",
       "      <td>0.0</td>\n",
       "      <td>15.2</td>\n",
       "      <td>3.0</td>\n",
       "    </tr>\n",
       "    <tr>\n",
       "      <th>2024-12-29</th>\n",
       "      <td>2024</td>\n",
       "      <td>12</td>\n",
       "      <td>29</td>\n",
       "      <td>0.0</td>\n",
       "      <td>13.8</td>\n",
       "      <td>3.0</td>\n",
       "    </tr>\n",
       "    <tr>\n",
       "      <th>2024-12-30</th>\n",
       "      <td>2024</td>\n",
       "      <td>12</td>\n",
       "      <td>30</td>\n",
       "      <td>0.0</td>\n",
       "      <td>13.0</td>\n",
       "      <td>2.7</td>\n",
       "    </tr>\n",
       "    <tr>\n",
       "      <th>2024-12-31</th>\n",
       "      <td>2024</td>\n",
       "      <td>12</td>\n",
       "      <td>31</td>\n",
       "      <td>0.0</td>\n",
       "      <td>10.8</td>\n",
       "      <td>1.3</td>\n",
       "    </tr>\n",
       "  </tbody>\n",
       "</table>\n",
       "<p>12418 rows × 6 columns</p>\n",
       "</div>"
      ]
     },
     "execution_count": 14,
     "metadata": {},
     "output_type": "execute_result"
    }
   ],
   "execution_count": 14
  },
  {
   "metadata": {
    "ExecuteTime": {
     "end_time": "2025-06-25T22:07:18.315577Z",
     "start_time": "2025-06-25T22:07:18.291795Z"
    }
   },
   "cell_type": "code",
   "source": "df.describe()",
   "id": "11bdec88da417e66",
   "outputs": [
    {
     "data": {
      "text/plain": [
       "               Anno          Mese        Giorno  Precipitazioni            Tx  \\\n",
       "count  12418.000000  12418.000000  12418.000000    12418.000000  12418.000000   \n",
       "mean    2007.501691      6.523192     15.731358        3.021541     16.629022   \n",
       "std        9.810775      3.448675      8.800034       14.938434      9.613697   \n",
       "min     1991.000000      1.000000      1.000000      -99.900000    -99.900000   \n",
       "25%     1999.000000      4.000000      8.000000        0.000000     10.100000   \n",
       "50%     2008.000000      7.000000     16.000000        0.000000     16.600000   \n",
       "75%     2016.000000     10.000000     23.000000        0.800000     23.800000   \n",
       "max     2024.000000     12.000000     31.000000      285.600000     37.200000   \n",
       "\n",
       "                 Tn  \n",
       "count  12418.000000  \n",
       "mean       6.573748  \n",
       "std        8.284724  \n",
       "min      -99.900000  \n",
       "25%        1.300000  \n",
       "50%        6.800000  \n",
       "75%       12.300000  \n",
       "max       22.600000  "
      ],
      "text/html": [
       "<div>\n",
       "<style scoped>\n",
       "    .dataframe tbody tr th:only-of-type {\n",
       "        vertical-align: middle;\n",
       "    }\n",
       "\n",
       "    .dataframe tbody tr th {\n",
       "        vertical-align: top;\n",
       "    }\n",
       "\n",
       "    .dataframe thead th {\n",
       "        text-align: right;\n",
       "    }\n",
       "</style>\n",
       "<table border=\"1\" class=\"dataframe\">\n",
       "  <thead>\n",
       "    <tr style=\"text-align: right;\">\n",
       "      <th></th>\n",
       "      <th>Anno</th>\n",
       "      <th>Mese</th>\n",
       "      <th>Giorno</th>\n",
       "      <th>Precipitazioni</th>\n",
       "      <th>Tx</th>\n",
       "      <th>Tn</th>\n",
       "    </tr>\n",
       "  </thead>\n",
       "  <tbody>\n",
       "    <tr>\n",
       "      <th>count</th>\n",
       "      <td>12418.000000</td>\n",
       "      <td>12418.000000</td>\n",
       "      <td>12418.000000</td>\n",
       "      <td>12418.000000</td>\n",
       "      <td>12418.000000</td>\n",
       "      <td>12418.000000</td>\n",
       "    </tr>\n",
       "    <tr>\n",
       "      <th>mean</th>\n",
       "      <td>2007.501691</td>\n",
       "      <td>6.523192</td>\n",
       "      <td>15.731358</td>\n",
       "      <td>3.021541</td>\n",
       "      <td>16.629022</td>\n",
       "      <td>6.573748</td>\n",
       "    </tr>\n",
       "    <tr>\n",
       "      <th>std</th>\n",
       "      <td>9.810775</td>\n",
       "      <td>3.448675</td>\n",
       "      <td>8.800034</td>\n",
       "      <td>14.938434</td>\n",
       "      <td>9.613697</td>\n",
       "      <td>8.284724</td>\n",
       "    </tr>\n",
       "    <tr>\n",
       "      <th>min</th>\n",
       "      <td>1991.000000</td>\n",
       "      <td>1.000000</td>\n",
       "      <td>1.000000</td>\n",
       "      <td>-99.900000</td>\n",
       "      <td>-99.900000</td>\n",
       "      <td>-99.900000</td>\n",
       "    </tr>\n",
       "    <tr>\n",
       "      <th>25%</th>\n",
       "      <td>1999.000000</td>\n",
       "      <td>4.000000</td>\n",
       "      <td>8.000000</td>\n",
       "      <td>0.000000</td>\n",
       "      <td>10.100000</td>\n",
       "      <td>1.300000</td>\n",
       "    </tr>\n",
       "    <tr>\n",
       "      <th>50%</th>\n",
       "      <td>2008.000000</td>\n",
       "      <td>7.000000</td>\n",
       "      <td>16.000000</td>\n",
       "      <td>0.000000</td>\n",
       "      <td>16.600000</td>\n",
       "      <td>6.800000</td>\n",
       "    </tr>\n",
       "    <tr>\n",
       "      <th>75%</th>\n",
       "      <td>2016.000000</td>\n",
       "      <td>10.000000</td>\n",
       "      <td>23.000000</td>\n",
       "      <td>0.800000</td>\n",
       "      <td>23.800000</td>\n",
       "      <td>12.300000</td>\n",
       "    </tr>\n",
       "    <tr>\n",
       "      <th>max</th>\n",
       "      <td>2024.000000</td>\n",
       "      <td>12.000000</td>\n",
       "      <td>31.000000</td>\n",
       "      <td>285.600000</td>\n",
       "      <td>37.200000</td>\n",
       "      <td>22.600000</td>\n",
       "    </tr>\n",
       "  </tbody>\n",
       "</table>\n",
       "</div>"
      ]
     },
     "execution_count": 15,
     "metadata": {},
     "output_type": "execute_result"
    }
   ],
   "execution_count": 15
  },
  {
   "metadata": {
    "ExecuteTime": {
     "end_time": "2025-06-25T22:07:18.321036Z",
     "start_time": "2025-06-25T22:07:18.315577Z"
    }
   },
   "cell_type": "code",
   "source": [
    "count_nn =( df[\"Precipitazioni\"]==-99.9).sum()\n",
    "print(count_nn)"
   ],
   "id": "68d7867570ddd459",
   "outputs": [
    {
     "name": "stdout",
     "output_type": "stream",
     "text": [
      "84\n"
     ]
    }
   ],
   "execution_count": 16
  },
  {
   "metadata": {
    "ExecuteTime": {
     "end_time": "2025-06-25T22:07:18.331263Z",
     "start_time": "2025-06-25T22:07:18.321036Z"
    }
   },
   "cell_type": "code",
   "source": "df.replace(-99.9, pd.NA, inplace=True)",
   "id": "f9a64ee89d99130a",
   "outputs": [],
   "execution_count": 17
  },
  {
   "metadata": {
    "ExecuteTime": {
     "end_time": "2025-06-25T22:07:18.342730Z",
     "start_time": "2025-06-25T22:07:18.333289Z"
    }
   },
   "cell_type": "code",
   "source": "df",
   "id": "7cc13d47866371a4",
   "outputs": [
    {
     "data": {
      "text/plain": [
       "            Anno  Mese  Giorno Precipitazioni    Tx   Tn\n",
       "Data                                                    \n",
       "1991-01-02  1991     1       2            0.0   7.5 -0.2\n",
       "1991-01-03  1991     1       3            0.0   9.2  0.5\n",
       "1991-01-04  1991     1       4            0.0   5.9  1.3\n",
       "1991-01-05  1991     1       5            0.0  10.1 -0.6\n",
       "1991-01-06  1991     1       6            0.0   6.7 -0.8\n",
       "...          ...   ...     ...            ...   ...  ...\n",
       "2024-12-27  2024    12      27            0.0  10.1  0.9\n",
       "2024-12-28  2024    12      28            0.0  15.2  3.0\n",
       "2024-12-29  2024    12      29            0.0  13.8  3.0\n",
       "2024-12-30  2024    12      30            0.0  13.0  2.7\n",
       "2024-12-31  2024    12      31            0.0  10.8  1.3\n",
       "\n",
       "[12418 rows x 6 columns]"
      ],
      "text/html": [
       "<div>\n",
       "<style scoped>\n",
       "    .dataframe tbody tr th:only-of-type {\n",
       "        vertical-align: middle;\n",
       "    }\n",
       "\n",
       "    .dataframe tbody tr th {\n",
       "        vertical-align: top;\n",
       "    }\n",
       "\n",
       "    .dataframe thead th {\n",
       "        text-align: right;\n",
       "    }\n",
       "</style>\n",
       "<table border=\"1\" class=\"dataframe\">\n",
       "  <thead>\n",
       "    <tr style=\"text-align: right;\">\n",
       "      <th></th>\n",
       "      <th>Anno</th>\n",
       "      <th>Mese</th>\n",
       "      <th>Giorno</th>\n",
       "      <th>Precipitazioni</th>\n",
       "      <th>Tx</th>\n",
       "      <th>Tn</th>\n",
       "    </tr>\n",
       "    <tr>\n",
       "      <th>Data</th>\n",
       "      <th></th>\n",
       "      <th></th>\n",
       "      <th></th>\n",
       "      <th></th>\n",
       "      <th></th>\n",
       "      <th></th>\n",
       "    </tr>\n",
       "  </thead>\n",
       "  <tbody>\n",
       "    <tr>\n",
       "      <th>1991-01-02</th>\n",
       "      <td>1991</td>\n",
       "      <td>1</td>\n",
       "      <td>2</td>\n",
       "      <td>0.0</td>\n",
       "      <td>7.5</td>\n",
       "      <td>-0.2</td>\n",
       "    </tr>\n",
       "    <tr>\n",
       "      <th>1991-01-03</th>\n",
       "      <td>1991</td>\n",
       "      <td>1</td>\n",
       "      <td>3</td>\n",
       "      <td>0.0</td>\n",
       "      <td>9.2</td>\n",
       "      <td>0.5</td>\n",
       "    </tr>\n",
       "    <tr>\n",
       "      <th>1991-01-04</th>\n",
       "      <td>1991</td>\n",
       "      <td>1</td>\n",
       "      <td>4</td>\n",
       "      <td>0.0</td>\n",
       "      <td>5.9</td>\n",
       "      <td>1.3</td>\n",
       "    </tr>\n",
       "    <tr>\n",
       "      <th>1991-01-05</th>\n",
       "      <td>1991</td>\n",
       "      <td>1</td>\n",
       "      <td>5</td>\n",
       "      <td>0.0</td>\n",
       "      <td>10.1</td>\n",
       "      <td>-0.6</td>\n",
       "    </tr>\n",
       "    <tr>\n",
       "      <th>1991-01-06</th>\n",
       "      <td>1991</td>\n",
       "      <td>1</td>\n",
       "      <td>6</td>\n",
       "      <td>0.0</td>\n",
       "      <td>6.7</td>\n",
       "      <td>-0.8</td>\n",
       "    </tr>\n",
       "    <tr>\n",
       "      <th>...</th>\n",
       "      <td>...</td>\n",
       "      <td>...</td>\n",
       "      <td>...</td>\n",
       "      <td>...</td>\n",
       "      <td>...</td>\n",
       "      <td>...</td>\n",
       "    </tr>\n",
       "    <tr>\n",
       "      <th>2024-12-27</th>\n",
       "      <td>2024</td>\n",
       "      <td>12</td>\n",
       "      <td>27</td>\n",
       "      <td>0.0</td>\n",
       "      <td>10.1</td>\n",
       "      <td>0.9</td>\n",
       "    </tr>\n",
       "    <tr>\n",
       "      <th>2024-12-28</th>\n",
       "      <td>2024</td>\n",
       "      <td>12</td>\n",
       "      <td>28</td>\n",
       "      <td>0.0</td>\n",
       "      <td>15.2</td>\n",
       "      <td>3.0</td>\n",
       "    </tr>\n",
       "    <tr>\n",
       "      <th>2024-12-29</th>\n",
       "      <td>2024</td>\n",
       "      <td>12</td>\n",
       "      <td>29</td>\n",
       "      <td>0.0</td>\n",
       "      <td>13.8</td>\n",
       "      <td>3.0</td>\n",
       "    </tr>\n",
       "    <tr>\n",
       "      <th>2024-12-30</th>\n",
       "      <td>2024</td>\n",
       "      <td>12</td>\n",
       "      <td>30</td>\n",
       "      <td>0.0</td>\n",
       "      <td>13.0</td>\n",
       "      <td>2.7</td>\n",
       "    </tr>\n",
       "    <tr>\n",
       "      <th>2024-12-31</th>\n",
       "      <td>2024</td>\n",
       "      <td>12</td>\n",
       "      <td>31</td>\n",
       "      <td>0.0</td>\n",
       "      <td>10.8</td>\n",
       "      <td>1.3</td>\n",
       "    </tr>\n",
       "  </tbody>\n",
       "</table>\n",
       "<p>12418 rows × 6 columns</p>\n",
       "</div>"
      ]
     },
     "execution_count": 18,
     "metadata": {},
     "output_type": "execute_result"
    }
   ],
   "execution_count": 18
  },
  {
   "metadata": {
    "ExecuteTime": {
     "end_time": "2025-06-25T22:07:18.358220Z",
     "start_time": "2025-06-25T22:07:18.342730Z"
    }
   },
   "cell_type": "code",
   "source": "df.describe()",
   "id": "16f955fcb83e22fb",
   "outputs": [
    {
     "data": {
      "text/plain": [
       "               Anno          Mese        Giorno\n",
       "count  12418.000000  12418.000000  12418.000000\n",
       "mean    2007.501691      6.523192     15.731358\n",
       "std        9.810775      3.448675      8.800034\n",
       "min     1991.000000      1.000000      1.000000\n",
       "25%     1999.000000      4.000000      8.000000\n",
       "50%     2008.000000      7.000000     16.000000\n",
       "75%     2016.000000     10.000000     23.000000\n",
       "max     2024.000000     12.000000     31.000000"
      ],
      "text/html": [
       "<div>\n",
       "<style scoped>\n",
       "    .dataframe tbody tr th:only-of-type {\n",
       "        vertical-align: middle;\n",
       "    }\n",
       "\n",
       "    .dataframe tbody tr th {\n",
       "        vertical-align: top;\n",
       "    }\n",
       "\n",
       "    .dataframe thead th {\n",
       "        text-align: right;\n",
       "    }\n",
       "</style>\n",
       "<table border=\"1\" class=\"dataframe\">\n",
       "  <thead>\n",
       "    <tr style=\"text-align: right;\">\n",
       "      <th></th>\n",
       "      <th>Anno</th>\n",
       "      <th>Mese</th>\n",
       "      <th>Giorno</th>\n",
       "    </tr>\n",
       "  </thead>\n",
       "  <tbody>\n",
       "    <tr>\n",
       "      <th>count</th>\n",
       "      <td>12418.000000</td>\n",
       "      <td>12418.000000</td>\n",
       "      <td>12418.000000</td>\n",
       "    </tr>\n",
       "    <tr>\n",
       "      <th>mean</th>\n",
       "      <td>2007.501691</td>\n",
       "      <td>6.523192</td>\n",
       "      <td>15.731358</td>\n",
       "    </tr>\n",
       "    <tr>\n",
       "      <th>std</th>\n",
       "      <td>9.810775</td>\n",
       "      <td>3.448675</td>\n",
       "      <td>8.800034</td>\n",
       "    </tr>\n",
       "    <tr>\n",
       "      <th>min</th>\n",
       "      <td>1991.000000</td>\n",
       "      <td>1.000000</td>\n",
       "      <td>1.000000</td>\n",
       "    </tr>\n",
       "    <tr>\n",
       "      <th>25%</th>\n",
       "      <td>1999.000000</td>\n",
       "      <td>4.000000</td>\n",
       "      <td>8.000000</td>\n",
       "    </tr>\n",
       "    <tr>\n",
       "      <th>50%</th>\n",
       "      <td>2008.000000</td>\n",
       "      <td>7.000000</td>\n",
       "      <td>16.000000</td>\n",
       "    </tr>\n",
       "    <tr>\n",
       "      <th>75%</th>\n",
       "      <td>2016.000000</td>\n",
       "      <td>10.000000</td>\n",
       "      <td>23.000000</td>\n",
       "    </tr>\n",
       "    <tr>\n",
       "      <th>max</th>\n",
       "      <td>2024.000000</td>\n",
       "      <td>12.000000</td>\n",
       "      <td>31.000000</td>\n",
       "    </tr>\n",
       "  </tbody>\n",
       "</table>\n",
       "</div>"
      ]
     },
     "execution_count": 19,
     "metadata": {},
     "output_type": "execute_result"
    }
   ],
   "execution_count": 19
  },
  {
   "metadata": {
    "ExecuteTime": {
     "end_time": "2025-06-25T22:07:34.953852Z",
     "start_time": "2025-06-25T22:07:34.945280Z"
    }
   },
   "cell_type": "code",
   "source": [
    "print(df[\"Tn\"].max())\n",
    "print(df[\"Tn\"].min())"
   ],
   "id": "f5fbece12df26e55",
   "outputs": [
    {
     "name": "stdout",
     "output_type": "stream",
     "text": [
      "22.6\n",
      "-14.1\n"
     ]
    }
   ],
   "execution_count": 20
  },
  {
   "metadata": {
    "ExecuteTime": {
     "end_time": "2025-06-25T22:07:53.304670Z",
     "start_time": "2025-06-25T22:07:53.295006Z"
    }
   },
   "cell_type": "code",
   "source": [
    "print(df[\"Tx\"].max())\n",
    "print(df[\"Tx\"].min())"
   ],
   "id": "6196bd18c06d883d",
   "outputs": [
    {
     "name": "stdout",
     "output_type": "stream",
     "text": [
      "37.2\n",
      "-5.3\n"
     ]
    }
   ],
   "execution_count": 21
  },
  {
   "metadata": {
    "ExecuteTime": {
     "end_time": "2025-06-25T22:08:05.433045Z",
     "start_time": "2025-06-25T22:08:05.425202Z"
    }
   },
   "cell_type": "code",
   "source": [
    "print(df[\"Precipitazioni\"].max())\n",
    "print(df[\"Precipitazioni\"].min())"
   ],
   "id": "59dc6ee1dc76c781",
   "outputs": [
    {
     "name": "stdout",
     "output_type": "stream",
     "text": [
      "285.6\n",
      "0.0\n"
     ]
    }
   ],
   "execution_count": 22
  },
  {
   "metadata": {
    "ExecuteTime": {
     "end_time": "2025-06-25T22:14:53.052227Z",
     "start_time": "2025-06-25T22:14:53.034537Z"
    }
   },
   "cell_type": "code",
   "source": "df.isna().sum()",
   "id": "fba560533edebdb",
   "outputs": [
    {
     "data": {
      "text/plain": [
       "Anno               0\n",
       "Mese               0\n",
       "Giorno             0\n",
       "Precipitazioni    84\n",
       "Tx                24\n",
       "Tn                29\n",
       "dtype: int64"
      ]
     },
     "execution_count": 23,
     "metadata": {},
     "output_type": "execute_result"
    }
   ],
   "execution_count": 23
  },
  {
   "metadata": {
    "ExecuteTime": {
     "end_time": "2025-06-25T22:19:26.052272Z",
     "start_time": "2025-06-25T22:19:26.014343Z"
    }
   },
   "cell_type": "code",
   "source": "print(df.dtypes)",
   "id": "ab492ee0aeb9015a",
   "outputs": [
    {
     "name": "stdout",
     "output_type": "stream",
     "text": [
      "Anno               int64\n",
      "Mese               int64\n",
      "Giorno             int64\n",
      "Precipitazioni    object\n",
      "Tx                object\n",
      "Tn                object\n",
      "dtype: object\n"
     ]
    }
   ],
   "execution_count": 24
  },
  {
   "metadata": {
    "ExecuteTime": {
     "end_time": "2025-06-25T22:23:11.642640Z",
     "start_time": "2025-06-25T22:23:11.614559Z"
    }
   },
   "cell_type": "code",
   "source": [
    "df[\"Precipitazioni\"] = pd.to_numeric(df[\"Precipitazioni\"], errors=\"coerce\")\n",
    "df[\"Tx\"] = pd.to_numeric(df[\"Tx\"], errors=\"coerce\")\n",
    "df[\"Tn\"] = pd.to_numeric(df[\"Tn\"], errors=\"coerce\")"
   ],
   "id": "68d6aa4b26518654",
   "outputs": [],
   "execution_count": 27
  },
  {
   "metadata": {
    "ExecuteTime": {
     "end_time": "2025-06-25T22:23:29.648778Z",
     "start_time": "2025-06-25T22:23:29.631800Z"
    }
   },
   "cell_type": "code",
   "source": "df.describe()",
   "id": "b7115f1c968e17f3",
   "outputs": [
    {
     "data": {
      "text/plain": [
       "               Anno          Mese        Giorno  Precipitazioni            Tx  \\\n",
       "count  12418.000000  12418.000000  12418.000000    12334.000000  12394.000000   \n",
       "mean    2007.501691      6.523192     15.731358        3.722483     16.854672   \n",
       "std        9.810775      3.448675      8.800034       12.330351      8.139682   \n",
       "min     1991.000000      1.000000      1.000000        0.000000     -5.300000   \n",
       "25%     1999.000000      4.000000      8.000000        0.000000     10.100000   \n",
       "50%     2008.000000      7.000000     16.000000        0.000000     16.700000   \n",
       "75%     2016.000000     10.000000     23.000000        0.800000     23.800000   \n",
       "max     2024.000000     12.000000     31.000000      285.600000     37.200000   \n",
       "\n",
       "                 Tn  \n",
       "count  12389.000000  \n",
       "mean       6.822980  \n",
       "std        6.495874  \n",
       "min      -14.100000  \n",
       "25%        1.400000  \n",
       "50%        6.900000  \n",
       "75%       12.300000  \n",
       "max       22.600000  "
      ],
      "text/html": [
       "<div>\n",
       "<style scoped>\n",
       "    .dataframe tbody tr th:only-of-type {\n",
       "        vertical-align: middle;\n",
       "    }\n",
       "\n",
       "    .dataframe tbody tr th {\n",
       "        vertical-align: top;\n",
       "    }\n",
       "\n",
       "    .dataframe thead th {\n",
       "        text-align: right;\n",
       "    }\n",
       "</style>\n",
       "<table border=\"1\" class=\"dataframe\">\n",
       "  <thead>\n",
       "    <tr style=\"text-align: right;\">\n",
       "      <th></th>\n",
       "      <th>Anno</th>\n",
       "      <th>Mese</th>\n",
       "      <th>Giorno</th>\n",
       "      <th>Precipitazioni</th>\n",
       "      <th>Tx</th>\n",
       "      <th>Tn</th>\n",
       "    </tr>\n",
       "  </thead>\n",
       "  <tbody>\n",
       "    <tr>\n",
       "      <th>count</th>\n",
       "      <td>12418.000000</td>\n",
       "      <td>12418.000000</td>\n",
       "      <td>12418.000000</td>\n",
       "      <td>12334.000000</td>\n",
       "      <td>12394.000000</td>\n",
       "      <td>12389.000000</td>\n",
       "    </tr>\n",
       "    <tr>\n",
       "      <th>mean</th>\n",
       "      <td>2007.501691</td>\n",
       "      <td>6.523192</td>\n",
       "      <td>15.731358</td>\n",
       "      <td>3.722483</td>\n",
       "      <td>16.854672</td>\n",
       "      <td>6.822980</td>\n",
       "    </tr>\n",
       "    <tr>\n",
       "      <th>std</th>\n",
       "      <td>9.810775</td>\n",
       "      <td>3.448675</td>\n",
       "      <td>8.800034</td>\n",
       "      <td>12.330351</td>\n",
       "      <td>8.139682</td>\n",
       "      <td>6.495874</td>\n",
       "    </tr>\n",
       "    <tr>\n",
       "      <th>min</th>\n",
       "      <td>1991.000000</td>\n",
       "      <td>1.000000</td>\n",
       "      <td>1.000000</td>\n",
       "      <td>0.000000</td>\n",
       "      <td>-5.300000</td>\n",
       "      <td>-14.100000</td>\n",
       "    </tr>\n",
       "    <tr>\n",
       "      <th>25%</th>\n",
       "      <td>1999.000000</td>\n",
       "      <td>4.000000</td>\n",
       "      <td>8.000000</td>\n",
       "      <td>0.000000</td>\n",
       "      <td>10.100000</td>\n",
       "      <td>1.400000</td>\n",
       "    </tr>\n",
       "    <tr>\n",
       "      <th>50%</th>\n",
       "      <td>2008.000000</td>\n",
       "      <td>7.000000</td>\n",
       "      <td>16.000000</td>\n",
       "      <td>0.000000</td>\n",
       "      <td>16.700000</td>\n",
       "      <td>6.900000</td>\n",
       "    </tr>\n",
       "    <tr>\n",
       "      <th>75%</th>\n",
       "      <td>2016.000000</td>\n",
       "      <td>10.000000</td>\n",
       "      <td>23.000000</td>\n",
       "      <td>0.800000</td>\n",
       "      <td>23.800000</td>\n",
       "      <td>12.300000</td>\n",
       "    </tr>\n",
       "    <tr>\n",
       "      <th>max</th>\n",
       "      <td>2024.000000</td>\n",
       "      <td>12.000000</td>\n",
       "      <td>31.000000</td>\n",
       "      <td>285.600000</td>\n",
       "      <td>37.200000</td>\n",
       "      <td>22.600000</td>\n",
       "    </tr>\n",
       "  </tbody>\n",
       "</table>\n",
       "</div>"
      ]
     },
     "execution_count": 30,
     "metadata": {},
     "output_type": "execute_result"
    }
   ],
   "execution_count": 30
  },
  {
   "metadata": {
    "ExecuteTime": {
     "end_time": "2025-06-25T22:27:46.102998Z",
     "start_time": "2025-06-25T22:27:46.082208Z"
    }
   },
   "cell_type": "code",
   "source": "df_ristretto = df[(df[\"Anno\"] >= 1991) & (df[\"Anno\"] <= 2020)].copy()",
   "id": "1374c7ce3ac1c670",
   "outputs": [],
   "execution_count": 32
  },
  {
   "metadata": {
    "ExecuteTime": {
     "end_time": "2025-06-25T22:27:51.753859Z",
     "start_time": "2025-06-25T22:27:51.730336Z"
    }
   },
   "cell_type": "code",
   "source": "df_ristretto",
   "id": "ee77262f1f21f0b4",
   "outputs": [
    {
     "data": {
      "text/plain": [
       "            Anno  Mese  Giorno  Precipitazioni    Tx   Tn\n",
       "Data                                                     \n",
       "1991-01-02  1991     1       2             0.0   7.5 -0.2\n",
       "1991-01-03  1991     1       3             0.0   9.2  0.5\n",
       "1991-01-04  1991     1       4             0.0   5.9  1.3\n",
       "1991-01-05  1991     1       5             0.0  10.1 -0.6\n",
       "1991-01-06  1991     1       6             0.0   6.7 -0.8\n",
       "...          ...   ...     ...             ...   ...  ...\n",
       "2020-12-27  2020    12      27             0.0   1.0 -3.0\n",
       "2020-12-28  2020    12      28             0.6   2.6 -2.7\n",
       "2020-12-29  2020    12      29             0.0   4.8 -3.7\n",
       "2020-12-30  2020    12      30             0.0   5.8 -3.2\n",
       "2020-12-31  2020    12      31             0.0   4.5 -2.9\n",
       "\n",
       "[10957 rows x 6 columns]"
      ],
      "text/html": [
       "<div>\n",
       "<style scoped>\n",
       "    .dataframe tbody tr th:only-of-type {\n",
       "        vertical-align: middle;\n",
       "    }\n",
       "\n",
       "    .dataframe tbody tr th {\n",
       "        vertical-align: top;\n",
       "    }\n",
       "\n",
       "    .dataframe thead th {\n",
       "        text-align: right;\n",
       "    }\n",
       "</style>\n",
       "<table border=\"1\" class=\"dataframe\">\n",
       "  <thead>\n",
       "    <tr style=\"text-align: right;\">\n",
       "      <th></th>\n",
       "      <th>Anno</th>\n",
       "      <th>Mese</th>\n",
       "      <th>Giorno</th>\n",
       "      <th>Precipitazioni</th>\n",
       "      <th>Tx</th>\n",
       "      <th>Tn</th>\n",
       "    </tr>\n",
       "    <tr>\n",
       "      <th>Data</th>\n",
       "      <th></th>\n",
       "      <th></th>\n",
       "      <th></th>\n",
       "      <th></th>\n",
       "      <th></th>\n",
       "      <th></th>\n",
       "    </tr>\n",
       "  </thead>\n",
       "  <tbody>\n",
       "    <tr>\n",
       "      <th>1991-01-02</th>\n",
       "      <td>1991</td>\n",
       "      <td>1</td>\n",
       "      <td>2</td>\n",
       "      <td>0.0</td>\n",
       "      <td>7.5</td>\n",
       "      <td>-0.2</td>\n",
       "    </tr>\n",
       "    <tr>\n",
       "      <th>1991-01-03</th>\n",
       "      <td>1991</td>\n",
       "      <td>1</td>\n",
       "      <td>3</td>\n",
       "      <td>0.0</td>\n",
       "      <td>9.2</td>\n",
       "      <td>0.5</td>\n",
       "    </tr>\n",
       "    <tr>\n",
       "      <th>1991-01-04</th>\n",
       "      <td>1991</td>\n",
       "      <td>1</td>\n",
       "      <td>4</td>\n",
       "      <td>0.0</td>\n",
       "      <td>5.9</td>\n",
       "      <td>1.3</td>\n",
       "    </tr>\n",
       "    <tr>\n",
       "      <th>1991-01-05</th>\n",
       "      <td>1991</td>\n",
       "      <td>1</td>\n",
       "      <td>5</td>\n",
       "      <td>0.0</td>\n",
       "      <td>10.1</td>\n",
       "      <td>-0.6</td>\n",
       "    </tr>\n",
       "    <tr>\n",
       "      <th>1991-01-06</th>\n",
       "      <td>1991</td>\n",
       "      <td>1</td>\n",
       "      <td>6</td>\n",
       "      <td>0.0</td>\n",
       "      <td>6.7</td>\n",
       "      <td>-0.8</td>\n",
       "    </tr>\n",
       "    <tr>\n",
       "      <th>...</th>\n",
       "      <td>...</td>\n",
       "      <td>...</td>\n",
       "      <td>...</td>\n",
       "      <td>...</td>\n",
       "      <td>...</td>\n",
       "      <td>...</td>\n",
       "    </tr>\n",
       "    <tr>\n",
       "      <th>2020-12-27</th>\n",
       "      <td>2020</td>\n",
       "      <td>12</td>\n",
       "      <td>27</td>\n",
       "      <td>0.0</td>\n",
       "      <td>1.0</td>\n",
       "      <td>-3.0</td>\n",
       "    </tr>\n",
       "    <tr>\n",
       "      <th>2020-12-28</th>\n",
       "      <td>2020</td>\n",
       "      <td>12</td>\n",
       "      <td>28</td>\n",
       "      <td>0.6</td>\n",
       "      <td>2.6</td>\n",
       "      <td>-2.7</td>\n",
       "    </tr>\n",
       "    <tr>\n",
       "      <th>2020-12-29</th>\n",
       "      <td>2020</td>\n",
       "      <td>12</td>\n",
       "      <td>29</td>\n",
       "      <td>0.0</td>\n",
       "      <td>4.8</td>\n",
       "      <td>-3.7</td>\n",
       "    </tr>\n",
       "    <tr>\n",
       "      <th>2020-12-30</th>\n",
       "      <td>2020</td>\n",
       "      <td>12</td>\n",
       "      <td>30</td>\n",
       "      <td>0.0</td>\n",
       "      <td>5.8</td>\n",
       "      <td>-3.2</td>\n",
       "    </tr>\n",
       "    <tr>\n",
       "      <th>2020-12-31</th>\n",
       "      <td>2020</td>\n",
       "      <td>12</td>\n",
       "      <td>31</td>\n",
       "      <td>0.0</td>\n",
       "      <td>4.5</td>\n",
       "      <td>-2.9</td>\n",
       "    </tr>\n",
       "  </tbody>\n",
       "</table>\n",
       "<p>10957 rows × 6 columns</p>\n",
       "</div>"
      ]
     },
     "execution_count": 33,
     "metadata": {},
     "output_type": "execute_result"
    }
   ],
   "execution_count": 33
  },
  {
   "metadata": {
    "ExecuteTime": {
     "end_time": "2025-06-25T22:28:07.109370Z",
     "start_time": "2025-06-25T22:28:07.077588Z"
    }
   },
   "cell_type": "code",
   "source": "df_ristretto.describe()",
   "id": "4857f614840ef223",
   "outputs": [
    {
     "data": {
      "text/plain": [
       "               Anno          Mese        Giorno  Precipitazioni            Tx  \\\n",
       "count  10957.000000  10957.000000  10957.000000    10892.000000  10933.000000   \n",
       "mean    2005.501688      6.523227     15.731587        3.786945     16.814753   \n",
       "std        8.655516      3.448671      8.800026       12.542172      8.206135   \n",
       "min     1991.000000      1.000000      1.000000        0.000000     -5.300000   \n",
       "25%     1998.000000      4.000000      8.000000        0.000000     10.000000   \n",
       "50%     2006.000000      7.000000     16.000000        0.000000     16.600000   \n",
       "75%     2013.000000     10.000000     23.000000        0.800000     23.800000   \n",
       "max     2020.000000     12.000000     31.000000      285.600000     37.200000   \n",
       "\n",
       "                 Tn  \n",
       "count  10928.000000  \n",
       "mean       6.684517  \n",
       "std        6.473410  \n",
       "min      -14.100000  \n",
       "25%        1.200000  \n",
       "50%        6.800000  \n",
       "75%       12.100000  \n",
       "max       22.600000  "
      ],
      "text/html": [
       "<div>\n",
       "<style scoped>\n",
       "    .dataframe tbody tr th:only-of-type {\n",
       "        vertical-align: middle;\n",
       "    }\n",
       "\n",
       "    .dataframe tbody tr th {\n",
       "        vertical-align: top;\n",
       "    }\n",
       "\n",
       "    .dataframe thead th {\n",
       "        text-align: right;\n",
       "    }\n",
       "</style>\n",
       "<table border=\"1\" class=\"dataframe\">\n",
       "  <thead>\n",
       "    <tr style=\"text-align: right;\">\n",
       "      <th></th>\n",
       "      <th>Anno</th>\n",
       "      <th>Mese</th>\n",
       "      <th>Giorno</th>\n",
       "      <th>Precipitazioni</th>\n",
       "      <th>Tx</th>\n",
       "      <th>Tn</th>\n",
       "    </tr>\n",
       "  </thead>\n",
       "  <tbody>\n",
       "    <tr>\n",
       "      <th>count</th>\n",
       "      <td>10957.000000</td>\n",
       "      <td>10957.000000</td>\n",
       "      <td>10957.000000</td>\n",
       "      <td>10892.000000</td>\n",
       "      <td>10933.000000</td>\n",
       "      <td>10928.000000</td>\n",
       "    </tr>\n",
       "    <tr>\n",
       "      <th>mean</th>\n",
       "      <td>2005.501688</td>\n",
       "      <td>6.523227</td>\n",
       "      <td>15.731587</td>\n",
       "      <td>3.786945</td>\n",
       "      <td>16.814753</td>\n",
       "      <td>6.684517</td>\n",
       "    </tr>\n",
       "    <tr>\n",
       "      <th>std</th>\n",
       "      <td>8.655516</td>\n",
       "      <td>3.448671</td>\n",
       "      <td>8.800026</td>\n",
       "      <td>12.542172</td>\n",
       "      <td>8.206135</td>\n",
       "      <td>6.473410</td>\n",
       "    </tr>\n",
       "    <tr>\n",
       "      <th>min</th>\n",
       "      <td>1991.000000</td>\n",
       "      <td>1.000000</td>\n",
       "      <td>1.000000</td>\n",
       "      <td>0.000000</td>\n",
       "      <td>-5.300000</td>\n",
       "      <td>-14.100000</td>\n",
       "    </tr>\n",
       "    <tr>\n",
       "      <th>25%</th>\n",
       "      <td>1998.000000</td>\n",
       "      <td>4.000000</td>\n",
       "      <td>8.000000</td>\n",
       "      <td>0.000000</td>\n",
       "      <td>10.000000</td>\n",
       "      <td>1.200000</td>\n",
       "    </tr>\n",
       "    <tr>\n",
       "      <th>50%</th>\n",
       "      <td>2006.000000</td>\n",
       "      <td>7.000000</td>\n",
       "      <td>16.000000</td>\n",
       "      <td>0.000000</td>\n",
       "      <td>16.600000</td>\n",
       "      <td>6.800000</td>\n",
       "    </tr>\n",
       "    <tr>\n",
       "      <th>75%</th>\n",
       "      <td>2013.000000</td>\n",
       "      <td>10.000000</td>\n",
       "      <td>23.000000</td>\n",
       "      <td>0.800000</td>\n",
       "      <td>23.800000</td>\n",
       "      <td>12.100000</td>\n",
       "    </tr>\n",
       "    <tr>\n",
       "      <th>max</th>\n",
       "      <td>2020.000000</td>\n",
       "      <td>12.000000</td>\n",
       "      <td>31.000000</td>\n",
       "      <td>285.600000</td>\n",
       "      <td>37.200000</td>\n",
       "      <td>22.600000</td>\n",
       "    </tr>\n",
       "  </tbody>\n",
       "</table>\n",
       "</div>"
      ]
     },
     "execution_count": 34,
     "metadata": {},
     "output_type": "execute_result"
    }
   ],
   "execution_count": 34
  },
  {
   "metadata": {
    "ExecuteTime": {
     "end_time": "2025-06-25T22:43:58.764764Z",
     "start_time": "2025-06-25T22:43:58.727064Z"
    }
   },
   "cell_type": "code",
   "source": [
    "df_ristretto['T_media'] = (df_ristretto['Tx'] + df_ristretto['Tn']) / 2\n",
    "media_annua = df_ristretto.groupby('Anno')['T_media'].mean().reset_index()\n"
   ],
   "id": "4e98fe14927c6367",
   "outputs": [],
   "execution_count": 35
  },
  {
   "metadata": {
    "ExecuteTime": {
     "end_time": "2025-06-25T22:44:26.700514Z",
     "start_time": "2025-06-25T22:44:23.597930Z"
    }
   },
   "cell_type": "code",
   "source": [
    "fig = px.line(media_annua, x='Anno', y='T_media', title='Temperatura media annuale')\n",
    "fig.show()"
   ],
   "id": "88c8430a9910fa6f",
   "outputs": [
    {
     "data": {
      "application/vnd.plotly.v1+json": {
       "data": [
        {
         "hovertemplate": "Anno=%{x}<br>T_media=%{y}<extra></extra>",
         "legendgroup": "",
         "line": {
          "color": "#636efa",
          "dash": "solid"
         },
         "marker": {
          "symbol": "circle"
         },
         "mode": "lines",
         "name": "",
         "orientation": "v",
         "showlegend": false,
         "x": {
          "dtype": "i2",
          "bdata": "xwfIB8kHygfLB8wHzQfOB88H0AfRB9IH0wfUB9UH1gfXB9gH2QfaB9sH3AfdB94H3wfgB+EH4gfjB+QH"
         },
         "xaxis": "x",
         "y": {
          "dtype": "f8",
          "bdata": "6c/Zjg/BJUCrDxjuv2YmQLYPkF3F4SVAl5oINbiKJ0CO5ViO5dglQJAACZAAKSVABlqgBVrgJ0DTAZPoxrYmQEGeEuQpeSZAYVOSV32AJ0Bd1mVd1sUmQNRe3D1nICdA4dddA+hKKEBKw2JF2HkmQBPPikYC3iVAhBL8m6iOJ0CasHWZelYoQI0Hp4kc/iZA6aAO6qDOJ0Ccicu18MwlQOK4mpGyJylAQcpNRfPEKEBNXK6FZ14nQL7XPkB2FSlA2+gEPa0NKkCbLU+n7skoQAXBoMZ4QylALUTabPj1KUDo5Xk7WCsoQGIWkC8SJShA"
         },
         "yaxis": "y",
         "type": "scatter"
        }
       ],
       "layout": {
        "template": {
         "data": {
          "histogram2dcontour": [
           {
            "type": "histogram2dcontour",
            "colorbar": {
             "outlinewidth": 0,
             "ticks": ""
            },
            "colorscale": [
             [
              0.0,
              "#0d0887"
             ],
             [
              0.1111111111111111,
              "#46039f"
             ],
             [
              0.2222222222222222,
              "#7201a8"
             ],
             [
              0.3333333333333333,
              "#9c179e"
             ],
             [
              0.4444444444444444,
              "#bd3786"
             ],
             [
              0.5555555555555556,
              "#d8576b"
             ],
             [
              0.6666666666666666,
              "#ed7953"
             ],
             [
              0.7777777777777778,
              "#fb9f3a"
             ],
             [
              0.8888888888888888,
              "#fdca26"
             ],
             [
              1.0,
              "#f0f921"
             ]
            ]
           }
          ],
          "choropleth": [
           {
            "type": "choropleth",
            "colorbar": {
             "outlinewidth": 0,
             "ticks": ""
            }
           }
          ],
          "histogram2d": [
           {
            "type": "histogram2d",
            "colorbar": {
             "outlinewidth": 0,
             "ticks": ""
            },
            "colorscale": [
             [
              0.0,
              "#0d0887"
             ],
             [
              0.1111111111111111,
              "#46039f"
             ],
             [
              0.2222222222222222,
              "#7201a8"
             ],
             [
              0.3333333333333333,
              "#9c179e"
             ],
             [
              0.4444444444444444,
              "#bd3786"
             ],
             [
              0.5555555555555556,
              "#d8576b"
             ],
             [
              0.6666666666666666,
              "#ed7953"
             ],
             [
              0.7777777777777778,
              "#fb9f3a"
             ],
             [
              0.8888888888888888,
              "#fdca26"
             ],
             [
              1.0,
              "#f0f921"
             ]
            ]
           }
          ],
          "heatmap": [
           {
            "type": "heatmap",
            "colorbar": {
             "outlinewidth": 0,
             "ticks": ""
            },
            "colorscale": [
             [
              0.0,
              "#0d0887"
             ],
             [
              0.1111111111111111,
              "#46039f"
             ],
             [
              0.2222222222222222,
              "#7201a8"
             ],
             [
              0.3333333333333333,
              "#9c179e"
             ],
             [
              0.4444444444444444,
              "#bd3786"
             ],
             [
              0.5555555555555556,
              "#d8576b"
             ],
             [
              0.6666666666666666,
              "#ed7953"
             ],
             [
              0.7777777777777778,
              "#fb9f3a"
             ],
             [
              0.8888888888888888,
              "#fdca26"
             ],
             [
              1.0,
              "#f0f921"
             ]
            ]
           }
          ],
          "contourcarpet": [
           {
            "type": "contourcarpet",
            "colorbar": {
             "outlinewidth": 0,
             "ticks": ""
            }
           }
          ],
          "contour": [
           {
            "type": "contour",
            "colorbar": {
             "outlinewidth": 0,
             "ticks": ""
            },
            "colorscale": [
             [
              0.0,
              "#0d0887"
             ],
             [
              0.1111111111111111,
              "#46039f"
             ],
             [
              0.2222222222222222,
              "#7201a8"
             ],
             [
              0.3333333333333333,
              "#9c179e"
             ],
             [
              0.4444444444444444,
              "#bd3786"
             ],
             [
              0.5555555555555556,
              "#d8576b"
             ],
             [
              0.6666666666666666,
              "#ed7953"
             ],
             [
              0.7777777777777778,
              "#fb9f3a"
             ],
             [
              0.8888888888888888,
              "#fdca26"
             ],
             [
              1.0,
              "#f0f921"
             ]
            ]
           }
          ],
          "surface": [
           {
            "type": "surface",
            "colorbar": {
             "outlinewidth": 0,
             "ticks": ""
            },
            "colorscale": [
             [
              0.0,
              "#0d0887"
             ],
             [
              0.1111111111111111,
              "#46039f"
             ],
             [
              0.2222222222222222,
              "#7201a8"
             ],
             [
              0.3333333333333333,
              "#9c179e"
             ],
             [
              0.4444444444444444,
              "#bd3786"
             ],
             [
              0.5555555555555556,
              "#d8576b"
             ],
             [
              0.6666666666666666,
              "#ed7953"
             ],
             [
              0.7777777777777778,
              "#fb9f3a"
             ],
             [
              0.8888888888888888,
              "#fdca26"
             ],
             [
              1.0,
              "#f0f921"
             ]
            ]
           }
          ],
          "mesh3d": [
           {
            "type": "mesh3d",
            "colorbar": {
             "outlinewidth": 0,
             "ticks": ""
            }
           }
          ],
          "scatter": [
           {
            "marker": {
             "line": {
              "color": "#283442"
             }
            },
            "type": "scatter"
           }
          ],
          "parcoords": [
           {
            "type": "parcoords",
            "line": {
             "colorbar": {
              "outlinewidth": 0,
              "ticks": ""
             }
            }
           }
          ],
          "scatterpolargl": [
           {
            "type": "scatterpolargl",
            "marker": {
             "colorbar": {
              "outlinewidth": 0,
              "ticks": ""
             }
            }
           }
          ],
          "bar": [
           {
            "error_x": {
             "color": "#f2f5fa"
            },
            "error_y": {
             "color": "#f2f5fa"
            },
            "marker": {
             "line": {
              "color": "rgb(17,17,17)",
              "width": 0.5
             },
             "pattern": {
              "fillmode": "overlay",
              "size": 10,
              "solidity": 0.2
             }
            },
            "type": "bar"
           }
          ],
          "scattergeo": [
           {
            "type": "scattergeo",
            "marker": {
             "colorbar": {
              "outlinewidth": 0,
              "ticks": ""
             }
            }
           }
          ],
          "scatterpolar": [
           {
            "type": "scatterpolar",
            "marker": {
             "colorbar": {
              "outlinewidth": 0,
              "ticks": ""
             }
            }
           }
          ],
          "histogram": [
           {
            "marker": {
             "pattern": {
              "fillmode": "overlay",
              "size": 10,
              "solidity": 0.2
             }
            },
            "type": "histogram"
           }
          ],
          "scattergl": [
           {
            "marker": {
             "line": {
              "color": "#283442"
             }
            },
            "type": "scattergl"
           }
          ],
          "scatter3d": [
           {
            "type": "scatter3d",
            "line": {
             "colorbar": {
              "outlinewidth": 0,
              "ticks": ""
             }
            },
            "marker": {
             "colorbar": {
              "outlinewidth": 0,
              "ticks": ""
             }
            }
           }
          ],
          "scattermap": [
           {
            "type": "scattermap",
            "marker": {
             "colorbar": {
              "outlinewidth": 0,
              "ticks": ""
             }
            }
           }
          ],
          "scattermapbox": [
           {
            "type": "scattermapbox",
            "marker": {
             "colorbar": {
              "outlinewidth": 0,
              "ticks": ""
             }
            }
           }
          ],
          "scatterternary": [
           {
            "type": "scatterternary",
            "marker": {
             "colorbar": {
              "outlinewidth": 0,
              "ticks": ""
             }
            }
           }
          ],
          "scattercarpet": [
           {
            "type": "scattercarpet",
            "marker": {
             "colorbar": {
              "outlinewidth": 0,
              "ticks": ""
             }
            }
           }
          ],
          "carpet": [
           {
            "aaxis": {
             "endlinecolor": "#A2B1C6",
             "gridcolor": "#506784",
             "linecolor": "#506784",
             "minorgridcolor": "#506784",
             "startlinecolor": "#A2B1C6"
            },
            "baxis": {
             "endlinecolor": "#A2B1C6",
             "gridcolor": "#506784",
             "linecolor": "#506784",
             "minorgridcolor": "#506784",
             "startlinecolor": "#A2B1C6"
            },
            "type": "carpet"
           }
          ],
          "table": [
           {
            "cells": {
             "fill": {
              "color": "#506784"
             },
             "line": {
              "color": "rgb(17,17,17)"
             }
            },
            "header": {
             "fill": {
              "color": "#2a3f5f"
             },
             "line": {
              "color": "rgb(17,17,17)"
             }
            },
            "type": "table"
           }
          ],
          "barpolar": [
           {
            "marker": {
             "line": {
              "color": "rgb(17,17,17)",
              "width": 0.5
             },
             "pattern": {
              "fillmode": "overlay",
              "size": 10,
              "solidity": 0.2
             }
            },
            "type": "barpolar"
           }
          ],
          "pie": [
           {
            "automargin": true,
            "type": "pie"
           }
          ]
         },
         "layout": {
          "autotypenumbers": "strict",
          "colorway": [
           "#636efa",
           "#EF553B",
           "#00cc96",
           "#ab63fa",
           "#FFA15A",
           "#19d3f3",
           "#FF6692",
           "#B6E880",
           "#FF97FF",
           "#FECB52"
          ],
          "font": {
           "color": "#f2f5fa"
          },
          "hovermode": "closest",
          "hoverlabel": {
           "align": "left"
          },
          "paper_bgcolor": "rgb(17,17,17)",
          "plot_bgcolor": "rgb(17,17,17)",
          "polar": {
           "bgcolor": "rgb(17,17,17)",
           "angularaxis": {
            "gridcolor": "#506784",
            "linecolor": "#506784",
            "ticks": ""
           },
           "radialaxis": {
            "gridcolor": "#506784",
            "linecolor": "#506784",
            "ticks": ""
           }
          },
          "ternary": {
           "bgcolor": "rgb(17,17,17)",
           "aaxis": {
            "gridcolor": "#506784",
            "linecolor": "#506784",
            "ticks": ""
           },
           "baxis": {
            "gridcolor": "#506784",
            "linecolor": "#506784",
            "ticks": ""
           },
           "caxis": {
            "gridcolor": "#506784",
            "linecolor": "#506784",
            "ticks": ""
           }
          },
          "coloraxis": {
           "colorbar": {
            "outlinewidth": 0,
            "ticks": ""
           }
          },
          "colorscale": {
           "sequential": [
            [
             0.0,
             "#0d0887"
            ],
            [
             0.1111111111111111,
             "#46039f"
            ],
            [
             0.2222222222222222,
             "#7201a8"
            ],
            [
             0.3333333333333333,
             "#9c179e"
            ],
            [
             0.4444444444444444,
             "#bd3786"
            ],
            [
             0.5555555555555556,
             "#d8576b"
            ],
            [
             0.6666666666666666,
             "#ed7953"
            ],
            [
             0.7777777777777778,
             "#fb9f3a"
            ],
            [
             0.8888888888888888,
             "#fdca26"
            ],
            [
             1.0,
             "#f0f921"
            ]
           ],
           "sequentialminus": [
            [
             0.0,
             "#0d0887"
            ],
            [
             0.1111111111111111,
             "#46039f"
            ],
            [
             0.2222222222222222,
             "#7201a8"
            ],
            [
             0.3333333333333333,
             "#9c179e"
            ],
            [
             0.4444444444444444,
             "#bd3786"
            ],
            [
             0.5555555555555556,
             "#d8576b"
            ],
            [
             0.6666666666666666,
             "#ed7953"
            ],
            [
             0.7777777777777778,
             "#fb9f3a"
            ],
            [
             0.8888888888888888,
             "#fdca26"
            ],
            [
             1.0,
             "#f0f921"
            ]
           ],
           "diverging": [
            [
             0,
             "#8e0152"
            ],
            [
             0.1,
             "#c51b7d"
            ],
            [
             0.2,
             "#de77ae"
            ],
            [
             0.3,
             "#f1b6da"
            ],
            [
             0.4,
             "#fde0ef"
            ],
            [
             0.5,
             "#f7f7f7"
            ],
            [
             0.6,
             "#e6f5d0"
            ],
            [
             0.7,
             "#b8e186"
            ],
            [
             0.8,
             "#7fbc41"
            ],
            [
             0.9,
             "#4d9221"
            ],
            [
             1,
             "#276419"
            ]
           ]
          },
          "xaxis": {
           "gridcolor": "#283442",
           "linecolor": "#506784",
           "ticks": "",
           "title": {
            "standoff": 15
           },
           "zerolinecolor": "#283442",
           "automargin": true,
           "zerolinewidth": 2
          },
          "yaxis": {
           "gridcolor": "#283442",
           "linecolor": "#506784",
           "ticks": "",
           "title": {
            "standoff": 15
           },
           "zerolinecolor": "#283442",
           "automargin": true,
           "zerolinewidth": 2
          },
          "scene": {
           "xaxis": {
            "backgroundcolor": "rgb(17,17,17)",
            "gridcolor": "#506784",
            "linecolor": "#506784",
            "showbackground": true,
            "ticks": "",
            "zerolinecolor": "#C8D4E3",
            "gridwidth": 2
           },
           "yaxis": {
            "backgroundcolor": "rgb(17,17,17)",
            "gridcolor": "#506784",
            "linecolor": "#506784",
            "showbackground": true,
            "ticks": "",
            "zerolinecolor": "#C8D4E3",
            "gridwidth": 2
           },
           "zaxis": {
            "backgroundcolor": "rgb(17,17,17)",
            "gridcolor": "#506784",
            "linecolor": "#506784",
            "showbackground": true,
            "ticks": "",
            "zerolinecolor": "#C8D4E3",
            "gridwidth": 2
           }
          },
          "shapedefaults": {
           "line": {
            "color": "#f2f5fa"
           }
          },
          "annotationdefaults": {
           "arrowcolor": "#f2f5fa",
           "arrowhead": 0,
           "arrowwidth": 1
          },
          "geo": {
           "bgcolor": "rgb(17,17,17)",
           "landcolor": "rgb(17,17,17)",
           "subunitcolor": "#506784",
           "showland": true,
           "showlakes": true,
           "lakecolor": "rgb(17,17,17)"
          },
          "title": {
           "x": 0.05
          },
          "updatemenudefaults": {
           "bgcolor": "#506784",
           "borderwidth": 0
          },
          "sliderdefaults": {
           "bgcolor": "#C8D4E3",
           "borderwidth": 1,
           "bordercolor": "rgb(17,17,17)",
           "tickwidth": 0
          },
          "mapbox": {
           "style": "dark"
          }
         }
        },
        "xaxis": {
         "anchor": "y",
         "domain": [
          0.0,
          1.0
         ],
         "title": {
          "text": "Anno"
         }
        },
        "yaxis": {
         "anchor": "x",
         "domain": [
          0.0,
          1.0
         ],
         "title": {
          "text": "T_media"
         }
        },
        "legend": {
         "tracegroupgap": 0
        },
        "title": {
         "text": "Temperatura media annuale"
        }
       },
       "config": {
        "plotlyServerURL": "https://plot.ly"
       }
      }
     },
     "metadata": {},
     "output_type": "display_data"
    }
   ],
   "execution_count": 38
  },
  {
   "metadata": {
    "ExecuteTime": {
     "end_time": "2025-06-25T22:53:05.020321Z",
     "start_time": "2025-06-25T22:53:05.012614Z"
    }
   },
   "cell_type": "code",
   "source": [
    "print(df_ristretto[df_ristretto[\"Anno\"] == 1991][\"Tx\"].max())\n",
    "print(df_ristretto[df_ristretto[\"Anno\"] == 1991][\"Tn\"].min())"
   ],
   "id": "12a9d2c5919268a7",
   "outputs": [
    {
     "name": "stdout",
     "output_type": "stream",
     "text": [
      "31.6\n",
      "-13.5\n"
     ]
    }
   ],
   "execution_count": 43
  },
  {
   "metadata": {},
   "cell_type": "code",
   "outputs": [],
   "execution_count": null,
   "source": "",
   "id": "d8ed894b8c99b664"
  }
 ],
 "metadata": {
  "kernelspec": {
   "display_name": "Python 3",
   "language": "python",
   "name": "python3"
  },
  "language_info": {
   "codemirror_mode": {
    "name": "ipython",
    "version": 2
   },
   "file_extension": ".py",
   "mimetype": "text/x-python",
   "name": "python",
   "nbconvert_exporter": "python",
   "pygments_lexer": "ipython2",
   "version": "2.7.6"
  }
 },
 "nbformat": 4,
 "nbformat_minor": 5
}
