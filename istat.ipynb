{
 "cells": [
  {
   "metadata": {},
   "cell_type": "markdown",
   "source": "Tavola 8.6  - Abbonamenti alla radio e alla televisione italiana – Anni 1936-2014 ",
   "id": "2737362e541997dd"
  },
  {
   "cell_type": "code",
   "id": "initial_id",
   "metadata": {
    "collapsed": true,
    "ExecuteTime": {
     "end_time": "2025-06-19T14:00:51.727117Z",
     "start_time": "2025-06-19T14:00:50.967916Z"
    }
   },
   "source": [
    "import sqlite3\n",
    "\n",
    "import pandas as pd\n",
    "import os\n",
    "import plotly.express as px\n",
    "import sqlite3 as db"
   ],
   "outputs": [],
   "execution_count": 1
  },
  {
   "metadata": {},
   "cell_type": "markdown",
   "source": "Qui vengono caricati i path della cartella dedicata ai Datasets e del percorso specifico della serie Istat",
   "id": "3a79b0b945e10b06"
  },
  {
   "metadata": {
    "ExecuteTime": {
     "end_time": "2025-06-19T14:00:51.734316Z",
     "start_time": "2025-06-19T14:00:51.729121Z"
    }
   },
   "cell_type": "code",
   "source": [
    "df_dir = os.path.join(os.getcwd(), 'Datasets')\n",
    "df_path = (os.path.join(df_dir, 'Tavola_8.6.xlsx'))"
   ],
   "id": "d38dbf9a8826690a",
   "outputs": [],
   "execution_count": 2
  },
  {
   "metadata": {},
   "cell_type": "markdown",
   "source": "La struttura della tabella non è pulita, dunque si è scelto di saltare le prime cinque righe (contenenti un'intestazione dell'Istat) e la sesta, in quanto quest'ultima è aggregata a quella successiva per la riga di intestazione della tabella. Inoltre saltiamo le ultime righe contenente solo una legenda.",
   "id": "8b4bd9e75602b047"
  },
  {
   "metadata": {
    "ExecuteTime": {
     "end_time": "2025-06-19T14:00:52.050611Z",
     "start_time": "2025-06-19T14:00:51.734316Z"
    }
   },
   "cell_type": "code",
   "source": [
    "df1 = pd.read_excel(df_path, sheet_name='Tavola 8.6', skiprows=6, skipfooter=5) # sheet_name indica il foglio specifico da cui voglio creare il df dal file\n",
    "df2 = pd.read_excel(df_path, sheet_name='Tavola 8.6 (segue)', skiprows=6 , skipfooter=6) # il parametro skiprows viene speficicato per dedicere quante righe saltare al file della creazione del df"
   ],
   "id": "2a035e7c8a369202",
   "outputs": [],
   "execution_count": 3
  },
  {
   "metadata": {
    "ExecuteTime": {
     "end_time": "2025-06-19T14:00:52.070331Z",
     "start_time": "2025-06-19T14:00:52.051612Z"
    }
   },
   "cell_type": "code",
   "source": "df1",
   "id": "702538a2449abdb5",
   "outputs": [
    {
     "data": {
      "text/plain": [
       "    Unnamed: 0  Unnamed: 1  Unnamed: 2 Ad uso privato Speciali (b)   Totale  \\\n",
       "0          NaN         NaN         NaN            NaN          NaN      NaN   \n",
       "1       1936.0    697062.0         NaN              -            -        -   \n",
       "2       1937.0    825732.0         NaN              -            -        -   \n",
       "3       1938.0    965577.0         NaN              -            -        -   \n",
       "4       1939.0   1130540.0         NaN              -            -        -   \n",
       "5       1940.0   1329723.0         NaN              -            -        -   \n",
       "6       1941.0   1638317.0         NaN              -            -        -   \n",
       "7       1942.0   1827950.0         NaN              -            -        -   \n",
       "8       1943.0   1784246.0         NaN              -            -        -   \n",
       "9       1944.0   1608247.0         NaN              -            -        -   \n",
       "10      1945.0   1646466.0         NaN              -            -        -   \n",
       "11      1946.0   1850479.0         NaN              -            -        -   \n",
       "12      1947.0   2011454.0         NaN              -            -        -   \n",
       "13      1948.0   2204580.0         NaN              -            -        -   \n",
       "14      1949.0   2566258.0         NaN              -            -        -   \n",
       "15      1950.0   3135195.0         NaN              -            -        -   \n",
       "16      1951.0   3682588.0         NaN              -            -        -   \n",
       "17      1952.0   4227609.0         NaN              -            -        -   \n",
       "18      1953.0   4800170.0         NaN              -            -        -   \n",
       "19      1954.0   5391274.0         NaN          72539        16136    88675   \n",
       "20      1955.0   5636802.0         NaN         149819        32597   182416   \n",
       "21      1956.0   5862226.0         NaN         313125        63400   376525   \n",
       "22      1957.0   6009390.0         NaN         609309        84295   693604   \n",
       "23      1958.0   6041863.0         NaN        1031348        93356  1124704   \n",
       "24      1959.0   6014238.0         NaN        1515730       103249  1618979   \n",
       "25      1960.0   5881823.0         NaN        2103638        19698  2123336   \n",
       "26      1961.0   5726122.0         NaN        2756234       109891  2866125   \n",
       "27      1962.0   5579574.0         NaN        3484711       107617  3592328   \n",
       "28      1963.0   5279316.0         NaN        4343776       104474  4448250   \n",
       "29      1964.0   4886496.0         NaN        5281825       100529  5382354   \n",
       "30      1965.0   4570501.0         NaN        6078934        96344  6175278   \n",
       "31      1966.0   4196187.0         NaN        6901729        93255  6994984   \n",
       "32      1967.0   3844488.0         NaN        7725738        91165  7816903   \n",
       "33      1968.0   2553413.0         NaN        8470301        89556  8559857   \n",
       "34      1969.0   2196785.0         NaN        9178151        87209  9265360   \n",
       "35      1970.0   1822676.0         NaN        9893679        85322  9979001   \n",
       "\n",
       "   Unnamed: 6 Unnamed: 7  \n",
       "0         NaN        NaN  \n",
       "1           -          -  \n",
       "2           -          -  \n",
       "3           -          -  \n",
       "4           -          -  \n",
       "5           -          -  \n",
       "6           -          -  \n",
       "7           -          -  \n",
       "8           -          -  \n",
       "9           -          -  \n",
       "10          -          -  \n",
       "11          -          -  \n",
       "12          -          -  \n",
       "13          -          -  \n",
       "14          -          -  \n",
       "15          -          -  \n",
       "16          -          -  \n",
       "17          -          -  \n",
       "18          -          -  \n",
       "19        1.8        0.7  \n",
       "20        3.8        1.5  \n",
       "21        7.7          3  \n",
       "22       14.1        5.5  \n",
       "23       22.7        8.7  \n",
       "24       32.5       12.4  \n",
       "25       42.3       16.7  \n",
       "26       56.7       21.2  \n",
       "27       70.6       26.3  \n",
       "28       86.8       31.7  \n",
       "29      104.2       37.4  \n",
       "30      118.5       41.9  \n",
       "31      133.2       46.4  \n",
       "32      147.8       51.1  \n",
       "33      160.8       55.2  \n",
       "34      173.1       58.8  \n",
       "35      185.4       62.5  "
      ],
      "text/html": [
       "<div>\n",
       "<style scoped>\n",
       "    .dataframe tbody tr th:only-of-type {\n",
       "        vertical-align: middle;\n",
       "    }\n",
       "\n",
       "    .dataframe tbody tr th {\n",
       "        vertical-align: top;\n",
       "    }\n",
       "\n",
       "    .dataframe thead th {\n",
       "        text-align: right;\n",
       "    }\n",
       "</style>\n",
       "<table border=\"1\" class=\"dataframe\">\n",
       "  <thead>\n",
       "    <tr style=\"text-align: right;\">\n",
       "      <th></th>\n",
       "      <th>Unnamed: 0</th>\n",
       "      <th>Unnamed: 1</th>\n",
       "      <th>Unnamed: 2</th>\n",
       "      <th>Ad uso privato</th>\n",
       "      <th>Speciali (b)</th>\n",
       "      <th>Totale</th>\n",
       "      <th>Unnamed: 6</th>\n",
       "      <th>Unnamed: 7</th>\n",
       "    </tr>\n",
       "  </thead>\n",
       "  <tbody>\n",
       "    <tr>\n",
       "      <th>0</th>\n",
       "      <td>NaN</td>\n",
       "      <td>NaN</td>\n",
       "      <td>NaN</td>\n",
       "      <td>NaN</td>\n",
       "      <td>NaN</td>\n",
       "      <td>NaN</td>\n",
       "      <td>NaN</td>\n",
       "      <td>NaN</td>\n",
       "    </tr>\n",
       "    <tr>\n",
       "      <th>1</th>\n",
       "      <td>1936.0</td>\n",
       "      <td>697062.0</td>\n",
       "      <td>NaN</td>\n",
       "      <td>-</td>\n",
       "      <td>-</td>\n",
       "      <td>-</td>\n",
       "      <td>-</td>\n",
       "      <td>-</td>\n",
       "    </tr>\n",
       "    <tr>\n",
       "      <th>2</th>\n",
       "      <td>1937.0</td>\n",
       "      <td>825732.0</td>\n",
       "      <td>NaN</td>\n",
       "      <td>-</td>\n",
       "      <td>-</td>\n",
       "      <td>-</td>\n",
       "      <td>-</td>\n",
       "      <td>-</td>\n",
       "    </tr>\n",
       "    <tr>\n",
       "      <th>3</th>\n",
       "      <td>1938.0</td>\n",
       "      <td>965577.0</td>\n",
       "      <td>NaN</td>\n",
       "      <td>-</td>\n",
       "      <td>-</td>\n",
       "      <td>-</td>\n",
       "      <td>-</td>\n",
       "      <td>-</td>\n",
       "    </tr>\n",
       "    <tr>\n",
       "      <th>4</th>\n",
       "      <td>1939.0</td>\n",
       "      <td>1130540.0</td>\n",
       "      <td>NaN</td>\n",
       "      <td>-</td>\n",
       "      <td>-</td>\n",
       "      <td>-</td>\n",
       "      <td>-</td>\n",
       "      <td>-</td>\n",
       "    </tr>\n",
       "    <tr>\n",
       "      <th>5</th>\n",
       "      <td>1940.0</td>\n",
       "      <td>1329723.0</td>\n",
       "      <td>NaN</td>\n",
       "      <td>-</td>\n",
       "      <td>-</td>\n",
       "      <td>-</td>\n",
       "      <td>-</td>\n",
       "      <td>-</td>\n",
       "    </tr>\n",
       "    <tr>\n",
       "      <th>6</th>\n",
       "      <td>1941.0</td>\n",
       "      <td>1638317.0</td>\n",
       "      <td>NaN</td>\n",
       "      <td>-</td>\n",
       "      <td>-</td>\n",
       "      <td>-</td>\n",
       "      <td>-</td>\n",
       "      <td>-</td>\n",
       "    </tr>\n",
       "    <tr>\n",
       "      <th>7</th>\n",
       "      <td>1942.0</td>\n",
       "      <td>1827950.0</td>\n",
       "      <td>NaN</td>\n",
       "      <td>-</td>\n",
       "      <td>-</td>\n",
       "      <td>-</td>\n",
       "      <td>-</td>\n",
       "      <td>-</td>\n",
       "    </tr>\n",
       "    <tr>\n",
       "      <th>8</th>\n",
       "      <td>1943.0</td>\n",
       "      <td>1784246.0</td>\n",
       "      <td>NaN</td>\n",
       "      <td>-</td>\n",
       "      <td>-</td>\n",
       "      <td>-</td>\n",
       "      <td>-</td>\n",
       "      <td>-</td>\n",
       "    </tr>\n",
       "    <tr>\n",
       "      <th>9</th>\n",
       "      <td>1944.0</td>\n",
       "      <td>1608247.0</td>\n",
       "      <td>NaN</td>\n",
       "      <td>-</td>\n",
       "      <td>-</td>\n",
       "      <td>-</td>\n",
       "      <td>-</td>\n",
       "      <td>-</td>\n",
       "    </tr>\n",
       "    <tr>\n",
       "      <th>10</th>\n",
       "      <td>1945.0</td>\n",
       "      <td>1646466.0</td>\n",
       "      <td>NaN</td>\n",
       "      <td>-</td>\n",
       "      <td>-</td>\n",
       "      <td>-</td>\n",
       "      <td>-</td>\n",
       "      <td>-</td>\n",
       "    </tr>\n",
       "    <tr>\n",
       "      <th>11</th>\n",
       "      <td>1946.0</td>\n",
       "      <td>1850479.0</td>\n",
       "      <td>NaN</td>\n",
       "      <td>-</td>\n",
       "      <td>-</td>\n",
       "      <td>-</td>\n",
       "      <td>-</td>\n",
       "      <td>-</td>\n",
       "    </tr>\n",
       "    <tr>\n",
       "      <th>12</th>\n",
       "      <td>1947.0</td>\n",
       "      <td>2011454.0</td>\n",
       "      <td>NaN</td>\n",
       "      <td>-</td>\n",
       "      <td>-</td>\n",
       "      <td>-</td>\n",
       "      <td>-</td>\n",
       "      <td>-</td>\n",
       "    </tr>\n",
       "    <tr>\n",
       "      <th>13</th>\n",
       "      <td>1948.0</td>\n",
       "      <td>2204580.0</td>\n",
       "      <td>NaN</td>\n",
       "      <td>-</td>\n",
       "      <td>-</td>\n",
       "      <td>-</td>\n",
       "      <td>-</td>\n",
       "      <td>-</td>\n",
       "    </tr>\n",
       "    <tr>\n",
       "      <th>14</th>\n",
       "      <td>1949.0</td>\n",
       "      <td>2566258.0</td>\n",
       "      <td>NaN</td>\n",
       "      <td>-</td>\n",
       "      <td>-</td>\n",
       "      <td>-</td>\n",
       "      <td>-</td>\n",
       "      <td>-</td>\n",
       "    </tr>\n",
       "    <tr>\n",
       "      <th>15</th>\n",
       "      <td>1950.0</td>\n",
       "      <td>3135195.0</td>\n",
       "      <td>NaN</td>\n",
       "      <td>-</td>\n",
       "      <td>-</td>\n",
       "      <td>-</td>\n",
       "      <td>-</td>\n",
       "      <td>-</td>\n",
       "    </tr>\n",
       "    <tr>\n",
       "      <th>16</th>\n",
       "      <td>1951.0</td>\n",
       "      <td>3682588.0</td>\n",
       "      <td>NaN</td>\n",
       "      <td>-</td>\n",
       "      <td>-</td>\n",
       "      <td>-</td>\n",
       "      <td>-</td>\n",
       "      <td>-</td>\n",
       "    </tr>\n",
       "    <tr>\n",
       "      <th>17</th>\n",
       "      <td>1952.0</td>\n",
       "      <td>4227609.0</td>\n",
       "      <td>NaN</td>\n",
       "      <td>-</td>\n",
       "      <td>-</td>\n",
       "      <td>-</td>\n",
       "      <td>-</td>\n",
       "      <td>-</td>\n",
       "    </tr>\n",
       "    <tr>\n",
       "      <th>18</th>\n",
       "      <td>1953.0</td>\n",
       "      <td>4800170.0</td>\n",
       "      <td>NaN</td>\n",
       "      <td>-</td>\n",
       "      <td>-</td>\n",
       "      <td>-</td>\n",
       "      <td>-</td>\n",
       "      <td>-</td>\n",
       "    </tr>\n",
       "    <tr>\n",
       "      <th>19</th>\n",
       "      <td>1954.0</td>\n",
       "      <td>5391274.0</td>\n",
       "      <td>NaN</td>\n",
       "      <td>72539</td>\n",
       "      <td>16136</td>\n",
       "      <td>88675</td>\n",
       "      <td>1.8</td>\n",
       "      <td>0.7</td>\n",
       "    </tr>\n",
       "    <tr>\n",
       "      <th>20</th>\n",
       "      <td>1955.0</td>\n",
       "      <td>5636802.0</td>\n",
       "      <td>NaN</td>\n",
       "      <td>149819</td>\n",
       "      <td>32597</td>\n",
       "      <td>182416</td>\n",
       "      <td>3.8</td>\n",
       "      <td>1.5</td>\n",
       "    </tr>\n",
       "    <tr>\n",
       "      <th>21</th>\n",
       "      <td>1956.0</td>\n",
       "      <td>5862226.0</td>\n",
       "      <td>NaN</td>\n",
       "      <td>313125</td>\n",
       "      <td>63400</td>\n",
       "      <td>376525</td>\n",
       "      <td>7.7</td>\n",
       "      <td>3</td>\n",
       "    </tr>\n",
       "    <tr>\n",
       "      <th>22</th>\n",
       "      <td>1957.0</td>\n",
       "      <td>6009390.0</td>\n",
       "      <td>NaN</td>\n",
       "      <td>609309</td>\n",
       "      <td>84295</td>\n",
       "      <td>693604</td>\n",
       "      <td>14.1</td>\n",
       "      <td>5.5</td>\n",
       "    </tr>\n",
       "    <tr>\n",
       "      <th>23</th>\n",
       "      <td>1958.0</td>\n",
       "      <td>6041863.0</td>\n",
       "      <td>NaN</td>\n",
       "      <td>1031348</td>\n",
       "      <td>93356</td>\n",
       "      <td>1124704</td>\n",
       "      <td>22.7</td>\n",
       "      <td>8.7</td>\n",
       "    </tr>\n",
       "    <tr>\n",
       "      <th>24</th>\n",
       "      <td>1959.0</td>\n",
       "      <td>6014238.0</td>\n",
       "      <td>NaN</td>\n",
       "      <td>1515730</td>\n",
       "      <td>103249</td>\n",
       "      <td>1618979</td>\n",
       "      <td>32.5</td>\n",
       "      <td>12.4</td>\n",
       "    </tr>\n",
       "    <tr>\n",
       "      <th>25</th>\n",
       "      <td>1960.0</td>\n",
       "      <td>5881823.0</td>\n",
       "      <td>NaN</td>\n",
       "      <td>2103638</td>\n",
       "      <td>19698</td>\n",
       "      <td>2123336</td>\n",
       "      <td>42.3</td>\n",
       "      <td>16.7</td>\n",
       "    </tr>\n",
       "    <tr>\n",
       "      <th>26</th>\n",
       "      <td>1961.0</td>\n",
       "      <td>5726122.0</td>\n",
       "      <td>NaN</td>\n",
       "      <td>2756234</td>\n",
       "      <td>109891</td>\n",
       "      <td>2866125</td>\n",
       "      <td>56.7</td>\n",
       "      <td>21.2</td>\n",
       "    </tr>\n",
       "    <tr>\n",
       "      <th>27</th>\n",
       "      <td>1962.0</td>\n",
       "      <td>5579574.0</td>\n",
       "      <td>NaN</td>\n",
       "      <td>3484711</td>\n",
       "      <td>107617</td>\n",
       "      <td>3592328</td>\n",
       "      <td>70.6</td>\n",
       "      <td>26.3</td>\n",
       "    </tr>\n",
       "    <tr>\n",
       "      <th>28</th>\n",
       "      <td>1963.0</td>\n",
       "      <td>5279316.0</td>\n",
       "      <td>NaN</td>\n",
       "      <td>4343776</td>\n",
       "      <td>104474</td>\n",
       "      <td>4448250</td>\n",
       "      <td>86.8</td>\n",
       "      <td>31.7</td>\n",
       "    </tr>\n",
       "    <tr>\n",
       "      <th>29</th>\n",
       "      <td>1964.0</td>\n",
       "      <td>4886496.0</td>\n",
       "      <td>NaN</td>\n",
       "      <td>5281825</td>\n",
       "      <td>100529</td>\n",
       "      <td>5382354</td>\n",
       "      <td>104.2</td>\n",
       "      <td>37.4</td>\n",
       "    </tr>\n",
       "    <tr>\n",
       "      <th>30</th>\n",
       "      <td>1965.0</td>\n",
       "      <td>4570501.0</td>\n",
       "      <td>NaN</td>\n",
       "      <td>6078934</td>\n",
       "      <td>96344</td>\n",
       "      <td>6175278</td>\n",
       "      <td>118.5</td>\n",
       "      <td>41.9</td>\n",
       "    </tr>\n",
       "    <tr>\n",
       "      <th>31</th>\n",
       "      <td>1966.0</td>\n",
       "      <td>4196187.0</td>\n",
       "      <td>NaN</td>\n",
       "      <td>6901729</td>\n",
       "      <td>93255</td>\n",
       "      <td>6994984</td>\n",
       "      <td>133.2</td>\n",
       "      <td>46.4</td>\n",
       "    </tr>\n",
       "    <tr>\n",
       "      <th>32</th>\n",
       "      <td>1967.0</td>\n",
       "      <td>3844488.0</td>\n",
       "      <td>NaN</td>\n",
       "      <td>7725738</td>\n",
       "      <td>91165</td>\n",
       "      <td>7816903</td>\n",
       "      <td>147.8</td>\n",
       "      <td>51.1</td>\n",
       "    </tr>\n",
       "    <tr>\n",
       "      <th>33</th>\n",
       "      <td>1968.0</td>\n",
       "      <td>2553413.0</td>\n",
       "      <td>NaN</td>\n",
       "      <td>8470301</td>\n",
       "      <td>89556</td>\n",
       "      <td>8559857</td>\n",
       "      <td>160.8</td>\n",
       "      <td>55.2</td>\n",
       "    </tr>\n",
       "    <tr>\n",
       "      <th>34</th>\n",
       "      <td>1969.0</td>\n",
       "      <td>2196785.0</td>\n",
       "      <td>NaN</td>\n",
       "      <td>9178151</td>\n",
       "      <td>87209</td>\n",
       "      <td>9265360</td>\n",
       "      <td>173.1</td>\n",
       "      <td>58.8</td>\n",
       "    </tr>\n",
       "    <tr>\n",
       "      <th>35</th>\n",
       "      <td>1970.0</td>\n",
       "      <td>1822676.0</td>\n",
       "      <td>NaN</td>\n",
       "      <td>9893679</td>\n",
       "      <td>85322</td>\n",
       "      <td>9979001</td>\n",
       "      <td>185.4</td>\n",
       "      <td>62.5</td>\n",
       "    </tr>\n",
       "  </tbody>\n",
       "</table>\n",
       "</div>"
      ]
     },
     "execution_count": 4,
     "metadata": {},
     "output_type": "execute_result"
    }
   ],
   "execution_count": 4
  },
  {
   "metadata": {
    "ExecuteTime": {
     "end_time": "2025-06-19T14:00:52.090261Z",
     "start_time": "2025-06-19T14:00:52.071318Z"
    }
   },
   "cell_type": "code",
   "source": "df2",
   "id": "52926374bd4e4cb0",
   "outputs": [
    {
     "data": {
      "text/plain": [
       "   Unnamed: 0 Unnamed: 1  Unnamed: 2  Ad uso privato  Speciali (b)  \\\n",
       "0         NaN        NaN         NaN             NaN           NaN   \n",
       "1        1971    1506342         NaN      10559128.0       83834.0   \n",
       "2        1972    1252791         NaN      11186821.0       82103.0   \n",
       "3        1973    1021624         NaN      11720275.0       79932.0   \n",
       "4        1974     824835         NaN      12164423.0       79140.0   \n",
       "5        1975     714891         NaN      12415740.0       74082.0   \n",
       "6        1976     647389         NaN      12677432.0       71134.0   \n",
       "7        1977     611000         NaN      13027633.0       66389.0   \n",
       "8        1978     532800         NaN      13337794.0       77720.0   \n",
       "9        1979     464135         NaN      13637644.0       69894.0   \n",
       "10       1980     420008         NaN      13911580.0       71261.0   \n",
       "11       1981     402158         NaN      14005076.0       69611.0   \n",
       "12       1982     377695         NaN      14158034.0       66786.0   \n",
       "13       1983     381521         NaN      14310610.0       65870.0   \n",
       "14       1984     368332         NaN      14392912.0       67556.0   \n",
       "15       1985         ….         NaN      14452439.0       68811.0   \n",
       "16       1986         ….         NaN      14534210.0       71238.0   \n",
       "17       1987     229533         NaN      14614075.0       73051.0   \n",
       "18       1988     184084         NaN      14641499.0       75514.0   \n",
       "19       1989     157958         NaN      14773078.0       78232.0   \n",
       "20       1990         ….         NaN      14916903.0       84613.0   \n",
       "21       1991         ….         NaN      15005822.0       88673.0   \n",
       "22       1992         ….         NaN      15173122.0       94049.0   \n",
       "23       1993         ….         NaN      15579001.0       96301.0   \n",
       "24       1994         ….         NaN      15763384.0      100317.0   \n",
       "25       1995         ….         NaN      15986779.0      104566.0   \n",
       "26       1996         ….         NaN      16007373.0      107199.0   \n",
       "27       1997         ….         NaN      15962819.0      109145.0   \n",
       "28       1998         ….         NaN      15798237.0      113733.0   \n",
       "29       1999         ….         NaN      15819938.0      121194.0   \n",
       "30       2000         ….         NaN      15886306.0      132117.0   \n",
       "31       2001         ….         NaN      15991452.0      139850.0   \n",
       "32   2002 (c)         ….         NaN      16068316.0      147690.0   \n",
       "33       2003         ….         NaN      16122740.0      153890.0   \n",
       "34       2004         ….         NaN      16164924.0      157560.0   \n",
       "35       2005         ….         NaN      16234791.0      163237.0   \n",
       "36       2006         ….         NaN      16294594.0      171554.0   \n",
       "37       2007         ….         NaN      16387184.0      174600.0   \n",
       "38       2008         ….         NaN      16491966.0      186613.0   \n",
       "39       2009         ….         NaN      16756491.0      191752.0   \n",
       "40       2010         ….         NaN      16654612.0      206512.0   \n",
       "41       2011         ….         NaN      16706617.0      228347.0   \n",
       "42       2012         ….         NaN      16813317.0      270396.0   \n",
       "43       2013         ….         NaN      16809202.0      273423.0   \n",
       "44       2014         ….         NaN      16720087.0      289907.0   \n",
       "\n",
       "        Totale  Unnamed: 6  Unnamed: 7  \n",
       "0          NaN         NaN         NaN  \n",
       "1   10642962.0  196.800000        65.8  \n",
       "2   11268924.0  207.200000        70.6  \n",
       "3   11800207.0  215.500000        72.5  \n",
       "4   12243563.0  222.200000        73.9  \n",
       "5   12489822.0  225.300000        74.0  \n",
       "6   12748566.0  228.800000        74.2  \n",
       "7   13094022.0  234.000000        74.9  \n",
       "8   13415514.0  238.900000        75.7  \n",
       "9   13707538.0  243.400000        76.4  \n",
       "10  13982841.0  247.800000        76.9  \n",
       "11  14074687.0  249.100000        76.3  \n",
       "12  14224820.0  251.600000        76.7  \n",
       "13  14376480.0  254.200000        76.2  \n",
       "14  14460468.0  255.600000        75.3  \n",
       "15  14521250.0  256.600000        74.3  \n",
       "16  14605448.0  258.100000        73.6  \n",
       "17  14687126.0  259.500000        73.1  \n",
       "18  14717013.0  259.900000        72.6  \n",
       "19  14851310.0  262.100000        72.6  \n",
       "20  15001516.0  264.500000        72.7  \n",
       "21  15094495.0  265.900000        76.4  \n",
       "22  15267171.0  268.800000        77.2  \n",
       "23  15675302.0  275.800000        79.3  \n",
       "24  15863701.0  279.100000        79.7  \n",
       "25  16091345.0  283.100000        80.7  \n",
       "26  16114572.0  283.400000        80.7  \n",
       "27  16071964.0  282.500000        80.4  \n",
       "28  15911970.0  279.600000        79.2  \n",
       "29  15941132.0  280.100000        79.0  \n",
       "30  16018423.0  281.300000        79.0  \n",
       "31  16131302.0  283.100000        79.4  \n",
       "32  16216006.0  281.962080        79.8  \n",
       "33  16276630.0  282.208948        73.9  \n",
       "34  16322484.0  281.149160        74.1  \n",
       "35  16398028.0  280.515944        72.6  \n",
       "36  16466148.0  280.630579        71.3  \n",
       "37  16561784.0  281.451911        68.5  \n",
       "38  16678579.0  281.179158        67.9  \n",
       "39  16564739.0  284.005501        67.2  \n",
       "40  16861124.0  281.374755        66.9  \n",
       "41  16934964.0  281.423469        66.4  \n",
       "42  17083713.0  283.080082        66.8  \n",
       "43  17082625.0  281.630863        65.0  \n",
       "44  17009994.0  275.079847        64.8  "
      ],
      "text/html": [
       "<div>\n",
       "<style scoped>\n",
       "    .dataframe tbody tr th:only-of-type {\n",
       "        vertical-align: middle;\n",
       "    }\n",
       "\n",
       "    .dataframe tbody tr th {\n",
       "        vertical-align: top;\n",
       "    }\n",
       "\n",
       "    .dataframe thead th {\n",
       "        text-align: right;\n",
       "    }\n",
       "</style>\n",
       "<table border=\"1\" class=\"dataframe\">\n",
       "  <thead>\n",
       "    <tr style=\"text-align: right;\">\n",
       "      <th></th>\n",
       "      <th>Unnamed: 0</th>\n",
       "      <th>Unnamed: 1</th>\n",
       "      <th>Unnamed: 2</th>\n",
       "      <th>Ad uso privato</th>\n",
       "      <th>Speciali (b)</th>\n",
       "      <th>Totale</th>\n",
       "      <th>Unnamed: 6</th>\n",
       "      <th>Unnamed: 7</th>\n",
       "    </tr>\n",
       "  </thead>\n",
       "  <tbody>\n",
       "    <tr>\n",
       "      <th>0</th>\n",
       "      <td>NaN</td>\n",
       "      <td>NaN</td>\n",
       "      <td>NaN</td>\n",
       "      <td>NaN</td>\n",
       "      <td>NaN</td>\n",
       "      <td>NaN</td>\n",
       "      <td>NaN</td>\n",
       "      <td>NaN</td>\n",
       "    </tr>\n",
       "    <tr>\n",
       "      <th>1</th>\n",
       "      <td>1971</td>\n",
       "      <td>1506342</td>\n",
       "      <td>NaN</td>\n",
       "      <td>10559128.0</td>\n",
       "      <td>83834.0</td>\n",
       "      <td>10642962.0</td>\n",
       "      <td>196.800000</td>\n",
       "      <td>65.8</td>\n",
       "    </tr>\n",
       "    <tr>\n",
       "      <th>2</th>\n",
       "      <td>1972</td>\n",
       "      <td>1252791</td>\n",
       "      <td>NaN</td>\n",
       "      <td>11186821.0</td>\n",
       "      <td>82103.0</td>\n",
       "      <td>11268924.0</td>\n",
       "      <td>207.200000</td>\n",
       "      <td>70.6</td>\n",
       "    </tr>\n",
       "    <tr>\n",
       "      <th>3</th>\n",
       "      <td>1973</td>\n",
       "      <td>1021624</td>\n",
       "      <td>NaN</td>\n",
       "      <td>11720275.0</td>\n",
       "      <td>79932.0</td>\n",
       "      <td>11800207.0</td>\n",
       "      <td>215.500000</td>\n",
       "      <td>72.5</td>\n",
       "    </tr>\n",
       "    <tr>\n",
       "      <th>4</th>\n",
       "      <td>1974</td>\n",
       "      <td>824835</td>\n",
       "      <td>NaN</td>\n",
       "      <td>12164423.0</td>\n",
       "      <td>79140.0</td>\n",
       "      <td>12243563.0</td>\n",
       "      <td>222.200000</td>\n",
       "      <td>73.9</td>\n",
       "    </tr>\n",
       "    <tr>\n",
       "      <th>5</th>\n",
       "      <td>1975</td>\n",
       "      <td>714891</td>\n",
       "      <td>NaN</td>\n",
       "      <td>12415740.0</td>\n",
       "      <td>74082.0</td>\n",
       "      <td>12489822.0</td>\n",
       "      <td>225.300000</td>\n",
       "      <td>74.0</td>\n",
       "    </tr>\n",
       "    <tr>\n",
       "      <th>6</th>\n",
       "      <td>1976</td>\n",
       "      <td>647389</td>\n",
       "      <td>NaN</td>\n",
       "      <td>12677432.0</td>\n",
       "      <td>71134.0</td>\n",
       "      <td>12748566.0</td>\n",
       "      <td>228.800000</td>\n",
       "      <td>74.2</td>\n",
       "    </tr>\n",
       "    <tr>\n",
       "      <th>7</th>\n",
       "      <td>1977</td>\n",
       "      <td>611000</td>\n",
       "      <td>NaN</td>\n",
       "      <td>13027633.0</td>\n",
       "      <td>66389.0</td>\n",
       "      <td>13094022.0</td>\n",
       "      <td>234.000000</td>\n",
       "      <td>74.9</td>\n",
       "    </tr>\n",
       "    <tr>\n",
       "      <th>8</th>\n",
       "      <td>1978</td>\n",
       "      <td>532800</td>\n",
       "      <td>NaN</td>\n",
       "      <td>13337794.0</td>\n",
       "      <td>77720.0</td>\n",
       "      <td>13415514.0</td>\n",
       "      <td>238.900000</td>\n",
       "      <td>75.7</td>\n",
       "    </tr>\n",
       "    <tr>\n",
       "      <th>9</th>\n",
       "      <td>1979</td>\n",
       "      <td>464135</td>\n",
       "      <td>NaN</td>\n",
       "      <td>13637644.0</td>\n",
       "      <td>69894.0</td>\n",
       "      <td>13707538.0</td>\n",
       "      <td>243.400000</td>\n",
       "      <td>76.4</td>\n",
       "    </tr>\n",
       "    <tr>\n",
       "      <th>10</th>\n",
       "      <td>1980</td>\n",
       "      <td>420008</td>\n",
       "      <td>NaN</td>\n",
       "      <td>13911580.0</td>\n",
       "      <td>71261.0</td>\n",
       "      <td>13982841.0</td>\n",
       "      <td>247.800000</td>\n",
       "      <td>76.9</td>\n",
       "    </tr>\n",
       "    <tr>\n",
       "      <th>11</th>\n",
       "      <td>1981</td>\n",
       "      <td>402158</td>\n",
       "      <td>NaN</td>\n",
       "      <td>14005076.0</td>\n",
       "      <td>69611.0</td>\n",
       "      <td>14074687.0</td>\n",
       "      <td>249.100000</td>\n",
       "      <td>76.3</td>\n",
       "    </tr>\n",
       "    <tr>\n",
       "      <th>12</th>\n",
       "      <td>1982</td>\n",
       "      <td>377695</td>\n",
       "      <td>NaN</td>\n",
       "      <td>14158034.0</td>\n",
       "      <td>66786.0</td>\n",
       "      <td>14224820.0</td>\n",
       "      <td>251.600000</td>\n",
       "      <td>76.7</td>\n",
       "    </tr>\n",
       "    <tr>\n",
       "      <th>13</th>\n",
       "      <td>1983</td>\n",
       "      <td>381521</td>\n",
       "      <td>NaN</td>\n",
       "      <td>14310610.0</td>\n",
       "      <td>65870.0</td>\n",
       "      <td>14376480.0</td>\n",
       "      <td>254.200000</td>\n",
       "      <td>76.2</td>\n",
       "    </tr>\n",
       "    <tr>\n",
       "      <th>14</th>\n",
       "      <td>1984</td>\n",
       "      <td>368332</td>\n",
       "      <td>NaN</td>\n",
       "      <td>14392912.0</td>\n",
       "      <td>67556.0</td>\n",
       "      <td>14460468.0</td>\n",
       "      <td>255.600000</td>\n",
       "      <td>75.3</td>\n",
       "    </tr>\n",
       "    <tr>\n",
       "      <th>15</th>\n",
       "      <td>1985</td>\n",
       "      <td>….</td>\n",
       "      <td>NaN</td>\n",
       "      <td>14452439.0</td>\n",
       "      <td>68811.0</td>\n",
       "      <td>14521250.0</td>\n",
       "      <td>256.600000</td>\n",
       "      <td>74.3</td>\n",
       "    </tr>\n",
       "    <tr>\n",
       "      <th>16</th>\n",
       "      <td>1986</td>\n",
       "      <td>….</td>\n",
       "      <td>NaN</td>\n",
       "      <td>14534210.0</td>\n",
       "      <td>71238.0</td>\n",
       "      <td>14605448.0</td>\n",
       "      <td>258.100000</td>\n",
       "      <td>73.6</td>\n",
       "    </tr>\n",
       "    <tr>\n",
       "      <th>17</th>\n",
       "      <td>1987</td>\n",
       "      <td>229533</td>\n",
       "      <td>NaN</td>\n",
       "      <td>14614075.0</td>\n",
       "      <td>73051.0</td>\n",
       "      <td>14687126.0</td>\n",
       "      <td>259.500000</td>\n",
       "      <td>73.1</td>\n",
       "    </tr>\n",
       "    <tr>\n",
       "      <th>18</th>\n",
       "      <td>1988</td>\n",
       "      <td>184084</td>\n",
       "      <td>NaN</td>\n",
       "      <td>14641499.0</td>\n",
       "      <td>75514.0</td>\n",
       "      <td>14717013.0</td>\n",
       "      <td>259.900000</td>\n",
       "      <td>72.6</td>\n",
       "    </tr>\n",
       "    <tr>\n",
       "      <th>19</th>\n",
       "      <td>1989</td>\n",
       "      <td>157958</td>\n",
       "      <td>NaN</td>\n",
       "      <td>14773078.0</td>\n",
       "      <td>78232.0</td>\n",
       "      <td>14851310.0</td>\n",
       "      <td>262.100000</td>\n",
       "      <td>72.6</td>\n",
       "    </tr>\n",
       "    <tr>\n",
       "      <th>20</th>\n",
       "      <td>1990</td>\n",
       "      <td>….</td>\n",
       "      <td>NaN</td>\n",
       "      <td>14916903.0</td>\n",
       "      <td>84613.0</td>\n",
       "      <td>15001516.0</td>\n",
       "      <td>264.500000</td>\n",
       "      <td>72.7</td>\n",
       "    </tr>\n",
       "    <tr>\n",
       "      <th>21</th>\n",
       "      <td>1991</td>\n",
       "      <td>….</td>\n",
       "      <td>NaN</td>\n",
       "      <td>15005822.0</td>\n",
       "      <td>88673.0</td>\n",
       "      <td>15094495.0</td>\n",
       "      <td>265.900000</td>\n",
       "      <td>76.4</td>\n",
       "    </tr>\n",
       "    <tr>\n",
       "      <th>22</th>\n",
       "      <td>1992</td>\n",
       "      <td>….</td>\n",
       "      <td>NaN</td>\n",
       "      <td>15173122.0</td>\n",
       "      <td>94049.0</td>\n",
       "      <td>15267171.0</td>\n",
       "      <td>268.800000</td>\n",
       "      <td>77.2</td>\n",
       "    </tr>\n",
       "    <tr>\n",
       "      <th>23</th>\n",
       "      <td>1993</td>\n",
       "      <td>….</td>\n",
       "      <td>NaN</td>\n",
       "      <td>15579001.0</td>\n",
       "      <td>96301.0</td>\n",
       "      <td>15675302.0</td>\n",
       "      <td>275.800000</td>\n",
       "      <td>79.3</td>\n",
       "    </tr>\n",
       "    <tr>\n",
       "      <th>24</th>\n",
       "      <td>1994</td>\n",
       "      <td>….</td>\n",
       "      <td>NaN</td>\n",
       "      <td>15763384.0</td>\n",
       "      <td>100317.0</td>\n",
       "      <td>15863701.0</td>\n",
       "      <td>279.100000</td>\n",
       "      <td>79.7</td>\n",
       "    </tr>\n",
       "    <tr>\n",
       "      <th>25</th>\n",
       "      <td>1995</td>\n",
       "      <td>….</td>\n",
       "      <td>NaN</td>\n",
       "      <td>15986779.0</td>\n",
       "      <td>104566.0</td>\n",
       "      <td>16091345.0</td>\n",
       "      <td>283.100000</td>\n",
       "      <td>80.7</td>\n",
       "    </tr>\n",
       "    <tr>\n",
       "      <th>26</th>\n",
       "      <td>1996</td>\n",
       "      <td>….</td>\n",
       "      <td>NaN</td>\n",
       "      <td>16007373.0</td>\n",
       "      <td>107199.0</td>\n",
       "      <td>16114572.0</td>\n",
       "      <td>283.400000</td>\n",
       "      <td>80.7</td>\n",
       "    </tr>\n",
       "    <tr>\n",
       "      <th>27</th>\n",
       "      <td>1997</td>\n",
       "      <td>….</td>\n",
       "      <td>NaN</td>\n",
       "      <td>15962819.0</td>\n",
       "      <td>109145.0</td>\n",
       "      <td>16071964.0</td>\n",
       "      <td>282.500000</td>\n",
       "      <td>80.4</td>\n",
       "    </tr>\n",
       "    <tr>\n",
       "      <th>28</th>\n",
       "      <td>1998</td>\n",
       "      <td>….</td>\n",
       "      <td>NaN</td>\n",
       "      <td>15798237.0</td>\n",
       "      <td>113733.0</td>\n",
       "      <td>15911970.0</td>\n",
       "      <td>279.600000</td>\n",
       "      <td>79.2</td>\n",
       "    </tr>\n",
       "    <tr>\n",
       "      <th>29</th>\n",
       "      <td>1999</td>\n",
       "      <td>….</td>\n",
       "      <td>NaN</td>\n",
       "      <td>15819938.0</td>\n",
       "      <td>121194.0</td>\n",
       "      <td>15941132.0</td>\n",
       "      <td>280.100000</td>\n",
       "      <td>79.0</td>\n",
       "    </tr>\n",
       "    <tr>\n",
       "      <th>30</th>\n",
       "      <td>2000</td>\n",
       "      <td>….</td>\n",
       "      <td>NaN</td>\n",
       "      <td>15886306.0</td>\n",
       "      <td>132117.0</td>\n",
       "      <td>16018423.0</td>\n",
       "      <td>281.300000</td>\n",
       "      <td>79.0</td>\n",
       "    </tr>\n",
       "    <tr>\n",
       "      <th>31</th>\n",
       "      <td>2001</td>\n",
       "      <td>….</td>\n",
       "      <td>NaN</td>\n",
       "      <td>15991452.0</td>\n",
       "      <td>139850.0</td>\n",
       "      <td>16131302.0</td>\n",
       "      <td>283.100000</td>\n",
       "      <td>79.4</td>\n",
       "    </tr>\n",
       "    <tr>\n",
       "      <th>32</th>\n",
       "      <td>2002 (c)</td>\n",
       "      <td>….</td>\n",
       "      <td>NaN</td>\n",
       "      <td>16068316.0</td>\n",
       "      <td>147690.0</td>\n",
       "      <td>16216006.0</td>\n",
       "      <td>281.962080</td>\n",
       "      <td>79.8</td>\n",
       "    </tr>\n",
       "    <tr>\n",
       "      <th>33</th>\n",
       "      <td>2003</td>\n",
       "      <td>….</td>\n",
       "      <td>NaN</td>\n",
       "      <td>16122740.0</td>\n",
       "      <td>153890.0</td>\n",
       "      <td>16276630.0</td>\n",
       "      <td>282.208948</td>\n",
       "      <td>73.9</td>\n",
       "    </tr>\n",
       "    <tr>\n",
       "      <th>34</th>\n",
       "      <td>2004</td>\n",
       "      <td>….</td>\n",
       "      <td>NaN</td>\n",
       "      <td>16164924.0</td>\n",
       "      <td>157560.0</td>\n",
       "      <td>16322484.0</td>\n",
       "      <td>281.149160</td>\n",
       "      <td>74.1</td>\n",
       "    </tr>\n",
       "    <tr>\n",
       "      <th>35</th>\n",
       "      <td>2005</td>\n",
       "      <td>….</td>\n",
       "      <td>NaN</td>\n",
       "      <td>16234791.0</td>\n",
       "      <td>163237.0</td>\n",
       "      <td>16398028.0</td>\n",
       "      <td>280.515944</td>\n",
       "      <td>72.6</td>\n",
       "    </tr>\n",
       "    <tr>\n",
       "      <th>36</th>\n",
       "      <td>2006</td>\n",
       "      <td>….</td>\n",
       "      <td>NaN</td>\n",
       "      <td>16294594.0</td>\n",
       "      <td>171554.0</td>\n",
       "      <td>16466148.0</td>\n",
       "      <td>280.630579</td>\n",
       "      <td>71.3</td>\n",
       "    </tr>\n",
       "    <tr>\n",
       "      <th>37</th>\n",
       "      <td>2007</td>\n",
       "      <td>….</td>\n",
       "      <td>NaN</td>\n",
       "      <td>16387184.0</td>\n",
       "      <td>174600.0</td>\n",
       "      <td>16561784.0</td>\n",
       "      <td>281.451911</td>\n",
       "      <td>68.5</td>\n",
       "    </tr>\n",
       "    <tr>\n",
       "      <th>38</th>\n",
       "      <td>2008</td>\n",
       "      <td>….</td>\n",
       "      <td>NaN</td>\n",
       "      <td>16491966.0</td>\n",
       "      <td>186613.0</td>\n",
       "      <td>16678579.0</td>\n",
       "      <td>281.179158</td>\n",
       "      <td>67.9</td>\n",
       "    </tr>\n",
       "    <tr>\n",
       "      <th>39</th>\n",
       "      <td>2009</td>\n",
       "      <td>….</td>\n",
       "      <td>NaN</td>\n",
       "      <td>16756491.0</td>\n",
       "      <td>191752.0</td>\n",
       "      <td>16564739.0</td>\n",
       "      <td>284.005501</td>\n",
       "      <td>67.2</td>\n",
       "    </tr>\n",
       "    <tr>\n",
       "      <th>40</th>\n",
       "      <td>2010</td>\n",
       "      <td>….</td>\n",
       "      <td>NaN</td>\n",
       "      <td>16654612.0</td>\n",
       "      <td>206512.0</td>\n",
       "      <td>16861124.0</td>\n",
       "      <td>281.374755</td>\n",
       "      <td>66.9</td>\n",
       "    </tr>\n",
       "    <tr>\n",
       "      <th>41</th>\n",
       "      <td>2011</td>\n",
       "      <td>….</td>\n",
       "      <td>NaN</td>\n",
       "      <td>16706617.0</td>\n",
       "      <td>228347.0</td>\n",
       "      <td>16934964.0</td>\n",
       "      <td>281.423469</td>\n",
       "      <td>66.4</td>\n",
       "    </tr>\n",
       "    <tr>\n",
       "      <th>42</th>\n",
       "      <td>2012</td>\n",
       "      <td>….</td>\n",
       "      <td>NaN</td>\n",
       "      <td>16813317.0</td>\n",
       "      <td>270396.0</td>\n",
       "      <td>17083713.0</td>\n",
       "      <td>283.080082</td>\n",
       "      <td>66.8</td>\n",
       "    </tr>\n",
       "    <tr>\n",
       "      <th>43</th>\n",
       "      <td>2013</td>\n",
       "      <td>….</td>\n",
       "      <td>NaN</td>\n",
       "      <td>16809202.0</td>\n",
       "      <td>273423.0</td>\n",
       "      <td>17082625.0</td>\n",
       "      <td>281.630863</td>\n",
       "      <td>65.0</td>\n",
       "    </tr>\n",
       "    <tr>\n",
       "      <th>44</th>\n",
       "      <td>2014</td>\n",
       "      <td>….</td>\n",
       "      <td>NaN</td>\n",
       "      <td>16720087.0</td>\n",
       "      <td>289907.0</td>\n",
       "      <td>17009994.0</td>\n",
       "      <td>275.079847</td>\n",
       "      <td>64.8</td>\n",
       "    </tr>\n",
       "  </tbody>\n",
       "</table>\n",
       "</div>"
      ]
     },
     "execution_count": 5,
     "metadata": {},
     "output_type": "execute_result"
    }
   ],
   "execution_count": 5
  },
  {
   "metadata": {},
   "cell_type": "markdown",
   "source": "Notiamo che l'aggregazione delle righe sul file excel sta generando confusione per pandas, dunque rinominiamo manualmente l'header della tabella. Inoltre notiamo che la riga 0 è vuota, quindi possiamo eliminarla. La stessa cosa vale per la terza colonna, che è vuota e non rappresenta nulla (su entrambi gli sheet).",
   "id": "cf3202f59d09d6cc"
  },
  {
   "metadata": {
    "ExecuteTime": {
     "end_time": "2025-06-19T14:00:52.095068Z",
     "start_time": "2025-06-19T14:00:52.091257Z"
    }
   },
   "cell_type": "code",
   "source": [
    "columns = [\n",
    "    \"Anno\", \n",
    "    \"Radio (a)\",\n",
    "    \"TV - Uso privato\", \n",
    "    \"TV - Speciali (b)\", \n",
    "    \"TV - Totale\", \n",
    "    \"Abbonamenti TV per 1000 abitanti\",\n",
    "    \"Abbonamenti TV per 100 famiglie\"\n",
    "]"
   ],
   "id": "3c2da07b080f437c",
   "outputs": [],
   "execution_count": 6
  },
  {
   "metadata": {
    "ExecuteTime": {
     "end_time": "2025-06-19T14:00:52.104084Z",
     "start_time": "2025-06-19T14:00:52.096066Z"
    }
   },
   "cell_type": "code",
   "source": [
    "df1.drop('Unnamed: 2', axis=1, inplace=True) # axis = 1 in questo caso fa in modo di eliminare una colonna, inplace settato a true fa operare sullo stesso df\n",
    "df2.drop('Unnamed: 2', axis=1, inplace=True) \n",
    "df1.drop(0, inplace=True)\n",
    "df2.drop(0, inplace=True)\n",
    "\n",
    "df1.columns=columns\n",
    "df2.columns=columns"
   ],
   "id": "68eceb90fe147ea8",
   "outputs": [],
   "execution_count": 7
  },
  {
   "metadata": {},
   "cell_type": "markdown",
   "source": "Notiamo che una parte degli anni sembra essere un float, quindi specifichiamo il valore a int",
   "id": "239fafc52b8d1aa5"
  },
  {
   "metadata": {
    "ExecuteTime": {
     "end_time": "2025-06-19T14:00:52.109714Z",
     "start_time": "2025-06-19T14:00:52.105084Z"
    }
   },
   "cell_type": "code",
   "source": "df1[\"Anno\"] = df1[\"Anno\"].astype(int)",
   "id": "b5e862c47d9631dc",
   "outputs": [],
   "execution_count": 8
  },
  {
   "metadata": {},
   "cell_type": "markdown",
   "source": "Concateniamo ora i due dataframe derivanti dai due fogli del file",
   "id": "ccbc42925c96598a"
  },
  {
   "metadata": {
    "ExecuteTime": {
     "end_time": "2025-06-19T14:00:52.117685Z",
     "start_time": "2025-06-19T14:00:52.110716Z"
    }
   },
   "cell_type": "code",
   "source": "df = pd.concat([df1, df2], ignore_index=True) # dal momento che l'indice riparte da 0 nel secondo foglio, settiamo ignore_index a true",
   "id": "2d2bec185ab9923",
   "outputs": [],
   "execution_count": 9
  },
  {
   "metadata": {
    "ExecuteTime": {
     "end_time": "2025-06-19T14:00:52.128881Z",
     "start_time": "2025-06-19T14:00:52.119679Z"
    }
   },
   "cell_type": "code",
   "source": "df",
   "id": "5e305c5b56aae87a",
   "outputs": [
    {
     "data": {
      "text/plain": [
       "    Anno  Radio (a) TV - Uso privato TV - Speciali (b) TV - Totale  \\\n",
       "0   1936   697062.0                -                 -           -   \n",
       "1   1937   825732.0                -                 -           -   \n",
       "2   1938   965577.0                -                 -           -   \n",
       "3   1939  1130540.0                -                 -           -   \n",
       "4   1940  1329723.0                -                 -           -   \n",
       "..   ...        ...              ...               ...         ...   \n",
       "74  2010         ….       16654612.0          206512.0  16861124.0   \n",
       "75  2011         ….       16706617.0          228347.0  16934964.0   \n",
       "76  2012         ….       16813317.0          270396.0  17083713.0   \n",
       "77  2013         ….       16809202.0          273423.0  17082625.0   \n",
       "78  2014         ….       16720087.0          289907.0  17009994.0   \n",
       "\n",
       "   Abbonamenti TV per 1000 abitanti Abbonamenti TV per 100 famiglie  \n",
       "0                                 -                               -  \n",
       "1                                 -                               -  \n",
       "2                                 -                               -  \n",
       "3                                 -                               -  \n",
       "4                                 -                               -  \n",
       "..                              ...                             ...  \n",
       "74                       281.374755                            66.9  \n",
       "75                       281.423469                            66.4  \n",
       "76                       283.080082                            66.8  \n",
       "77                       281.630863                            65.0  \n",
       "78                       275.079847                            64.8  \n",
       "\n",
       "[79 rows x 7 columns]"
      ],
      "text/html": [
       "<div>\n",
       "<style scoped>\n",
       "    .dataframe tbody tr th:only-of-type {\n",
       "        vertical-align: middle;\n",
       "    }\n",
       "\n",
       "    .dataframe tbody tr th {\n",
       "        vertical-align: top;\n",
       "    }\n",
       "\n",
       "    .dataframe thead th {\n",
       "        text-align: right;\n",
       "    }\n",
       "</style>\n",
       "<table border=\"1\" class=\"dataframe\">\n",
       "  <thead>\n",
       "    <tr style=\"text-align: right;\">\n",
       "      <th></th>\n",
       "      <th>Anno</th>\n",
       "      <th>Radio (a)</th>\n",
       "      <th>TV - Uso privato</th>\n",
       "      <th>TV - Speciali (b)</th>\n",
       "      <th>TV - Totale</th>\n",
       "      <th>Abbonamenti TV per 1000 abitanti</th>\n",
       "      <th>Abbonamenti TV per 100 famiglie</th>\n",
       "    </tr>\n",
       "  </thead>\n",
       "  <tbody>\n",
       "    <tr>\n",
       "      <th>0</th>\n",
       "      <td>1936</td>\n",
       "      <td>697062.0</td>\n",
       "      <td>-</td>\n",
       "      <td>-</td>\n",
       "      <td>-</td>\n",
       "      <td>-</td>\n",
       "      <td>-</td>\n",
       "    </tr>\n",
       "    <tr>\n",
       "      <th>1</th>\n",
       "      <td>1937</td>\n",
       "      <td>825732.0</td>\n",
       "      <td>-</td>\n",
       "      <td>-</td>\n",
       "      <td>-</td>\n",
       "      <td>-</td>\n",
       "      <td>-</td>\n",
       "    </tr>\n",
       "    <tr>\n",
       "      <th>2</th>\n",
       "      <td>1938</td>\n",
       "      <td>965577.0</td>\n",
       "      <td>-</td>\n",
       "      <td>-</td>\n",
       "      <td>-</td>\n",
       "      <td>-</td>\n",
       "      <td>-</td>\n",
       "    </tr>\n",
       "    <tr>\n",
       "      <th>3</th>\n",
       "      <td>1939</td>\n",
       "      <td>1130540.0</td>\n",
       "      <td>-</td>\n",
       "      <td>-</td>\n",
       "      <td>-</td>\n",
       "      <td>-</td>\n",
       "      <td>-</td>\n",
       "    </tr>\n",
       "    <tr>\n",
       "      <th>4</th>\n",
       "      <td>1940</td>\n",
       "      <td>1329723.0</td>\n",
       "      <td>-</td>\n",
       "      <td>-</td>\n",
       "      <td>-</td>\n",
       "      <td>-</td>\n",
       "      <td>-</td>\n",
       "    </tr>\n",
       "    <tr>\n",
       "      <th>...</th>\n",
       "      <td>...</td>\n",
       "      <td>...</td>\n",
       "      <td>...</td>\n",
       "      <td>...</td>\n",
       "      <td>...</td>\n",
       "      <td>...</td>\n",
       "      <td>...</td>\n",
       "    </tr>\n",
       "    <tr>\n",
       "      <th>74</th>\n",
       "      <td>2010</td>\n",
       "      <td>….</td>\n",
       "      <td>16654612.0</td>\n",
       "      <td>206512.0</td>\n",
       "      <td>16861124.0</td>\n",
       "      <td>281.374755</td>\n",
       "      <td>66.9</td>\n",
       "    </tr>\n",
       "    <tr>\n",
       "      <th>75</th>\n",
       "      <td>2011</td>\n",
       "      <td>….</td>\n",
       "      <td>16706617.0</td>\n",
       "      <td>228347.0</td>\n",
       "      <td>16934964.0</td>\n",
       "      <td>281.423469</td>\n",
       "      <td>66.4</td>\n",
       "    </tr>\n",
       "    <tr>\n",
       "      <th>76</th>\n",
       "      <td>2012</td>\n",
       "      <td>….</td>\n",
       "      <td>16813317.0</td>\n",
       "      <td>270396.0</td>\n",
       "      <td>17083713.0</td>\n",
       "      <td>283.080082</td>\n",
       "      <td>66.8</td>\n",
       "    </tr>\n",
       "    <tr>\n",
       "      <th>77</th>\n",
       "      <td>2013</td>\n",
       "      <td>….</td>\n",
       "      <td>16809202.0</td>\n",
       "      <td>273423.0</td>\n",
       "      <td>17082625.0</td>\n",
       "      <td>281.630863</td>\n",
       "      <td>65.0</td>\n",
       "    </tr>\n",
       "    <tr>\n",
       "      <th>78</th>\n",
       "      <td>2014</td>\n",
       "      <td>….</td>\n",
       "      <td>16720087.0</td>\n",
       "      <td>289907.0</td>\n",
       "      <td>17009994.0</td>\n",
       "      <td>275.079847</td>\n",
       "      <td>64.8</td>\n",
       "    </tr>\n",
       "  </tbody>\n",
       "</table>\n",
       "<p>79 rows × 7 columns</p>\n",
       "</div>"
      ]
     },
     "execution_count": 10,
     "metadata": {},
     "output_type": "execute_result"
    }
   ],
   "execution_count": 10
  },
  {
   "metadata": {},
   "cell_type": "markdown",
   "source": "La struttura del df è parzialmente pulita, resta solo da rendere come index la colonna anno e pulire l'anno 2002",
   "id": "3e45cd5eaeb7ec57"
  },
  {
   "metadata": {
    "ExecuteTime": {
     "end_time": "2025-06-19T14:00:52.136285Z",
     "start_time": "2025-06-19T14:00:52.129871Z"
    }
   },
   "cell_type": "code",
   "source": "df.loc[df[\"Anno\"] == \"2002 (c)\", \"Anno\"] = 2002 # il primo è l'indice della riga, il secondo della colonna",
   "id": "7d35e1e38aa9d423",
   "outputs": [],
   "execution_count": 11
  },
  {
   "metadata": {
    "ExecuteTime": {
     "end_time": "2025-06-19T14:00:52.144931Z",
     "start_time": "2025-06-19T14:00:52.137285Z"
    }
   },
   "cell_type": "code",
   "source": "df.set_index(\"Anno\", inplace=True)",
   "id": "7e7e68ea0fee6b7",
   "outputs": [],
   "execution_count": 12
  },
  {
   "metadata": {},
   "cell_type": "markdown",
   "source": "Analizzando la colonna degli ascolti radio si nota che molti valori sono sporchi (rappresentati con \"...\"). Per pulire il df, rimpiazziamo questi valori con NaN.",
   "id": "9719b68c90d2fa91"
  },
  {
   "metadata": {
    "ExecuteTime": {
     "end_time": "2025-06-19T14:00:52.151136Z",
     "start_time": "2025-06-19T14:00:52.145928Z"
    }
   },
   "cell_type": "code",
   "source": "df.replace(\"….\", pd.NA, inplace=True)",
   "id": "c1ea396d886424d0",
   "outputs": [],
   "execution_count": 13
  },
  {
   "metadata": {},
   "cell_type": "markdown",
   "source": "Ciononostante la colonna non è ancora numerica, quindi dobbiamo convertirla",
   "id": "411ba9dbe5d890ff"
  },
  {
   "metadata": {
    "ExecuteTime": {
     "end_time": "2025-06-19T14:00:52.156798Z",
     "start_time": "2025-06-19T14:00:52.152127Z"
    }
   },
   "cell_type": "code",
   "source": "df[\"Radio (a)\"] = pd.to_numeric(df[\"Radio (a)\"], errors=\"coerce\")",
   "id": "c0fabae1788b4137",
   "outputs": [],
   "execution_count": 14
  },
  {
   "metadata": {},
   "cell_type": "markdown",
   "source": "Ammettiamo di voler lavorare solo sugli ascolti radio (li prendiamo dal 1936 al 1989 in quanto in seguito i dati non sono disponibili)",
   "id": "5e5316e618eda59d"
  },
  {
   "metadata": {
    "ExecuteTime": {
     "end_time": "2025-06-19T14:00:52.164350Z",
     "start_time": "2025-06-19T14:00:52.157790Z"
    }
   },
   "cell_type": "code",
   "source": "df_radio = df.loc[(df.index >= 1936) & (df.index <= 1989), ['Radio (a)']].copy()\n",
   "id": "ccacec30e63e630c",
   "outputs": [],
   "execution_count": 15
  },
  {
   "metadata": {},
   "cell_type": "markdown",
   "source": [
    "Nota bene, questo codice invece non avrebbe funzionato in quanto \"Anno\" è un index\n",
    "\n",
    "df_radio = df.loc[\n",
    "    (df[\"Anno\"] >= 1936) & (df[\"Anno\"] <= 1989),  \n",
    "    [\"Anno\", \"Radio (a)\"]\n",
    "].copy()"
   ],
   "id": "bcb70d0a1a01453e"
  },
  {
   "metadata": {},
   "cell_type": "markdown",
   "source": "Possiamo provare ad interpolare i dati mancanti (dal momento che ce ne sono pochi)",
   "id": "3d1b8b0cf5bfd47a"
  },
  {
   "metadata": {
    "ExecuteTime": {
     "end_time": "2025-06-19T14:00:52.170485Z",
     "start_time": "2025-06-19T14:00:52.165350Z"
    }
   },
   "cell_type": "code",
   "source": "df_radio[\"Radio (a)\"] = df_radio[\"Radio (a)\"].interpolate(method=\"linear\")",
   "id": "b8e6b129fa69554a",
   "outputs": [],
   "execution_count": 16
  },
  {
   "metadata": {
    "ExecuteTime": {
     "end_time": "2025-06-19T14:00:52.826700Z",
     "start_time": "2025-06-19T14:00:52.171473Z"
    }
   },
   "cell_type": "code",
   "source": "df_radio.plot(kind='line') ",
   "id": "7491884a3f0658b8",
   "outputs": [
    {
     "data": {
      "text/plain": [
       "<Axes: xlabel='Anno'>"
      ]
     },
     "execution_count": 17,
     "metadata": {},
     "output_type": "execute_result"
    },
    {
     "data": {
      "text/plain": [
       "<Figure size 640x480 with 1 Axes>"
      ],
      "image/png": "[encoded data removed]"
     },
     "metadata": {},
     "output_type": "display_data"
    }
   ],
   "execution_count": 17
  },
  {
   "metadata": {},
   "cell_type": "markdown",
   "source": "Con plotly express",
   "id": "bbe4305463e357c4"
  },
  {
   "metadata": {
    "ExecuteTime": {
     "end_time": "2025-06-19T14:00:53.465517Z",
     "start_time": "2025-06-19T14:00:52.828665Z"
    }
   },
   "cell_type": "code",
   "source": [
    "fig = px.line(df_radio, x=df_radio.index, y=\"Radio (a)\")\n",
    "fig.show()"
   ],
   "id": "54ca6a0ca0d71e77",
   "outputs": [
    {
     "data": {
      "application/vnd.plotly.v1+json": {
       "data": [
        {
         "hovertemplate": "Anno=%{x}<br>Radio (a)=%{y}<extra></extra>",
         "legendgroup": "",
         "line": {
          "color": "#636efa",
          "dash": "solid"
         },
         "marker": {
          "symbol": "circle"
         },
         "mode": "lines",
         "name": "",
         "orientation": "v",
         "showlegend": false,
         "x": [
          1936,
          1937,
          1938,
          1939,
          1940,
          1941,
          1942,
          1943,
          1944,
          1945,
          1946,
          1947,
          1948,
          1949,
          1950,
          1951,
          1952,
          1953,
          1954,
          1955,
          1956,
          1957,
          1958,
          1959,
          1960,
          1961,
          1962,
          1963,
          1964,
          1965,
          1966,
          1967,
          1968,
          1969,
          1970,
          1971,
          1972,
          1973,
          1974,
          1975,
          1976,
          1977,
          1978,
          1979,
          1980,
          1981,
          1982,
          1983,
          1984,
          1985,
          1986,
          1987,
          1988,
          1989
         ],
         "xaxis": "x",
         "y": {
          "dtype": "f8",
          "bdata": "AAAAAMxFJUEAAAAACDMpQQAAAACSdy1BAAAAACxAMUEAAAAAO0o0QQAAAACt/zhBAAAAAG7kO0EAAAAAtjk7QQAAAAA3ijhBAAAAAIIfOUEAAAAAbzw8QQAAAAA+sT5BAAAAANLRQEEAAAAAOZRDQQAAAIBt60dBAAAAAI4YTEEAAABAhiBQQQAAAICqT1JBAAAAgOqQVEEAAACAsIBVQQAAAIDUXFZBAAAAgIvsVkEAAADAQQxXQQAAAIBH8VZBAAAAwPdvVkEAAACA6tdVQQAAAIDNSFVBAAAAAJUjVEEAAAAA+KNSQQAAAEBhb1FBAAAAwNYBUEEAAAAAxFRNQQAAAIAie0NBAAAAgJjCQEEAAAAA1M87QQAAAAAm/DZBAAAAALcdM0EAAAAAcC0vQQAAAAAGLClBAAAAABbRJUEAAAAAusEjQQAAAABwpSJBAAAAAIBCIEEAAAAAHFQcQQAAAACgohlBAAAAALiLGEEAAAAAfA0XQQAAAABESRdBAAAAADB7FkGrqqqqRqgTQVVVVVVd1RBBAAAAAOgEDEEAAAAAoHgGQQAAAAAwSANB"
         },
         "yaxis": "y",
         "type": "scatter"
        }
       ],
       "layout": {
        "template": {
         "data": {
          "histogram2dcontour": [
           {
            "type": "histogram2dcontour",
            "colorbar": {
             "outlinewidth": 0,
             "ticks": ""
            },
            "colorscale": [
             [
              0.0,
              "#0d0887"
             ],
             [
              0.1111111111111111,
              "#46039f"
             ],
             [
              0.2222222222222222,
              "#7201a8"
             ],
             [
              0.3333333333333333,
              "#9c179e"
             ],
             [
              0.4444444444444444,
              "#bd3786"
             ],
             [
              0.5555555555555556,
              "#d8576b"
             ],
             [
              0.6666666666666666,
              "#ed7953"
             ],
             [
              0.7777777777777778,
              "#fb9f3a"
             ],
             [
              0.8888888888888888,
              "#fdca26"
             ],
             [
              1.0,
              "#f0f921"
             ]
            ]
           }
          ],
          "choropleth": [
           {
            "type": "choropleth",
            "colorbar": {
             "outlinewidth": 0,
             "ticks": ""
            }
           }
          ],
          "histogram2d": [
           {
            "type": "histogram2d",
            "colorbar": {
             "outlinewidth": 0,
             "ticks": ""
            },
            "colorscale": [
             [
              0.0,
              "#0d0887"
             ],
             [
              0.1111111111111111,
              "#46039f"
             ],
             [
              0.2222222222222222,
              "#7201a8"
             ],
             [
              0.3333333333333333,
              "#9c179e"
             ],
             [
              0.4444444444444444,
              "#bd3786"
             ],
             [
              0.5555555555555556,
              "#d8576b"
             ],
             [
              0.6666666666666666,
              "#ed7953"
             ],
             [
              0.7777777777777778,
              "#fb9f3a"
             ],
             [
              0.8888888888888888,
              "#fdca26"
             ],
             [
              1.0,
              "#f0f921"
             ]
            ]
           }
          ],
          "heatmap": [
           {
            "type": "heatmap",
            "colorbar": {
             "outlinewidth": 0,
             "ticks": ""
            },
            "colorscale": [
             [
              0.0,
              "#0d0887"
             ],
             [
              0.1111111111111111,
              "#46039f"
             ],
             [
              0.2222222222222222,
              "#7201a8"
             ],
             [
              0.3333333333333333,
              "#9c179e"
             ],
             [
              0.4444444444444444,
              "#bd3786"
             ],
             [
              0.5555555555555556,
              "#d8576b"
             ],
             [
              0.6666666666666666,
              "#ed7953"
             ],
             [
              0.7777777777777778,
              "#fb9f3a"
             ],
             [
              0.8888888888888888,
              "#fdca26"
             ],
             [
              1.0,
              "#f0f921"
             ]
            ]
           }
          ],
          "contourcarpet": [
           {
            "type": "contourcarpet",
            "colorbar": {
             "outlinewidth": 0,
             "ticks": ""
            }
           }
          ],
          "contour": [
           {
            "type": "contour",
            "colorbar": {
             "outlinewidth": 0,
             "ticks": ""
            },
            "colorscale": [
             [
              0.0,
              "#0d0887"
             ],
             [
              0.1111111111111111,
              "#46039f"
             ],
             [
              0.2222222222222222,
              "#7201a8"
             ],
             [
              0.3333333333333333,
              "#9c179e"
             ],
             [
              0.4444444444444444,
              "#bd3786"
             ],
             [
              0.5555555555555556,
              "#d8576b"
             ],
             [
              0.6666666666666666,
              "#ed7953"
             ],
             [
              0.7777777777777778,
              "#fb9f3a"
             ],
             [
              0.8888888888888888,
              "#fdca26"
             ],
             [
              1.0,
              "#f0f921"
             ]
            ]
           }
          ],
          "surface": [
           {
            "type": "surface",
            "colorbar": {
             "outlinewidth": 0,
             "ticks": ""
            },
            "colorscale": [
             [
              0.0,
              "#0d0887"
             ],
             [
              0.1111111111111111,
              "#46039f"
             ],
             [
              0.2222222222222222,
              "#7201a8"
             ],
             [
              0.3333333333333333,
              "#9c179e"
             ],
             [
              0.4444444444444444,
              "#bd3786"
             ],
             [
              0.5555555555555556,
              "#d8576b"
             ],
             [
              0.6666666666666666,
              "#ed7953"
             ],
             [
              0.7777777777777778,
              "#fb9f3a"
             ],
             [
              0.8888888888888888,
              "#fdca26"
             ],
             [
              1.0,
              "#f0f921"
             ]
            ]
           }
          ],
          "mesh3d": [
           {
            "type": "mesh3d",
            "colorbar": {
             "outlinewidth": 0,
             "ticks": ""
            }
           }
          ],
          "scatter": [
           {
            "marker": {
             "line": {
              "color": "#283442"
             }
            },
            "type": "scatter"
           }
          ],
          "parcoords": [
           {
            "type": "parcoords",
            "line": {
             "colorbar": {
              "outlinewidth": 0,
              "ticks": ""
             }
            }
           }
          ],
          "scatterpolargl": [
           {
            "type": "scatterpolargl",
            "marker": {
             "colorbar": {
              "outlinewidth": 0,
              "ticks": ""
             }
            }
           }
          ],
          "bar": [
           {
            "error_x": {
             "color": "#f2f5fa"
            },
            "error_y": {
             "color": "#f2f5fa"
            },
            "marker": {
             "line": {
              "color": "rgb(17,17,17)",
              "width": 0.5
             },
             "pattern": {
              "fillmode": "overlay",
              "size": 10,
              "solidity": 0.2
             }
            },
            "type": "bar"
           }
          ],
          "scattergeo": [
           {
            "type": "scattergeo",
            "marker": {
             "colorbar": {
              "outlinewidth": 0,
              "ticks": ""
             }
            }
           }
          ],
          "scatterpolar": [
           {
            "type": "scatterpolar",
            "marker": {
             "colorbar": {
              "outlinewidth": 0,
              "ticks": ""
             }
            }
           }
          ],
          "histogram": [
           {
            "marker": {
             "pattern": {
              "fillmode": "overlay",
              "size": 10,
              "solidity": 0.2
             }
            },
            "type": "histogram"
           }
          ],
          "scattergl": [
           {
            "marker": {
             "line": {
              "color": "#283442"
             }
            },
            "type": "scattergl"
           }
          ],
          "scatter3d": [
           {
            "type": "scatter3d",
            "line": {
             "colorbar": {
              "outlinewidth": 0,
              "ticks": ""
             }
            },
            "marker": {
             "colorbar": {
              "outlinewidth": 0,
              "ticks": ""
             }
            }
           }
          ],
          "scattermap": [
           {
            "type": "scattermap",
            "marker": {
             "colorbar": {
              "outlinewidth": 0,
              "ticks": ""
             }
            }
           }
          ],
          "scattermapbox": [
           {
            "type": "scattermapbox",
            "marker": {
             "colorbar": {
              "outlinewidth": 0,
              "ticks": ""
             }
            }
           }
          ],
          "scatterternary": [
           {
            "type": "scatterternary",
            "marker": {
             "colorbar": {
              "outlinewidth": 0,
              "ticks": ""
             }
            }
           }
          ],
          "scattercarpet": [
           {
            "type": "scattercarpet",
            "marker": {
             "colorbar": {
              "outlinewidth": 0,
              "ticks": ""
             }
            }
           }
          ],
          "carpet": [
           {
            "aaxis": {
             "endlinecolor": "#A2B1C6",
             "gridcolor": "#506784",
             "linecolor": "#506784",
             "minorgridcolor": "#506784",
             "startlinecolor": "#A2B1C6"
            },
            "baxis": {
             "endlinecolor": "#A2B1C6",
             "gridcolor": "#506784",
             "linecolor": "#506784",
             "minorgridcolor": "#506784",
             "startlinecolor": "#A2B1C6"
            },
            "type": "carpet"
           }
          ],
          "table": [
           {
            "cells": {
             "fill": {
              "color": "#506784"
             },
             "line": {
              "color": "rgb(17,17,17)"
             }
            },
            "header": {
             "fill": {
              "color": "#2a3f5f"
             },
             "line": {
              "color": "rgb(17,17,17)"
             }
            },
            "type": "table"
           }
          ],
          "barpolar": [
           {
            "marker": {
             "line": {
              "color": "rgb(17,17,17)",
              "width": 0.5
             },
             "pattern": {
              "fillmode": "overlay",
              "size": 10,
              "solidity": 0.2
             }
            },
            "type": "barpolar"
           }
          ],
          "pie": [
           {
            "automargin": true,
            "type": "pie"
           }
          ]
         },
         "layout": {
          "autotypenumbers": "strict",
          "colorway": [
           "#636efa",
           "#EF553B",
           "#00cc96",
           "#ab63fa",
           "#FFA15A",
           "#19d3f3",
           "#FF6692",
           "#B6E880",
           "#FF97FF",
           "#FECB52"
          ],
          "font": {
           "color": "#f2f5fa"
          },
          "hovermode": "closest",
          "hoverlabel": {
           "align": "left"
          },
          "paper_bgcolor": "rgb(17,17,17)",
          "plot_bgcolor": "rgb(17,17,17)",
          "polar": {
           "bgcolor": "rgb(17,17,17)",
           "angularaxis": {
            "gridcolor": "#506784",
            "linecolor": "#506784",
            "ticks": ""
           },
           "radialaxis": {
            "gridcolor": "#506784",
            "linecolor": "#506784",
            "ticks": ""
           }
          },
          "ternary": {
           "bgcolor": "rgb(17,17,17)",
           "aaxis": {
            "gridcolor": "#506784",
            "linecolor": "#506784",
            "ticks": ""
           },
           "baxis": {
            "gridcolor": "#506784",
            "linecolor": "#506784",
            "ticks": ""
           },
           "caxis": {
            "gridcolor": "#506784",
            "linecolor": "#506784",
            "ticks": ""
           }
          },
          "coloraxis": {
           "colorbar": {
            "outlinewidth": 0,
            "ticks": ""
           }
          },
          "colorscale": {
           "sequential": [
            [
             0.0,
             "#0d0887"
            ],
            [
             0.1111111111111111,
             "#46039f"
            ],
            [
             0.2222222222222222,
             "#7201a8"
            ],
            [
             0.3333333333333333,
             "#9c179e"
            ],
            [
             0.4444444444444444,
             "#bd3786"
            ],
            [
             0.5555555555555556,
             "#d8576b"
            ],
            [
             0.6666666666666666,
             "#ed7953"
            ],
            [
             0.7777777777777778,
             "#fb9f3a"
            ],
            [
             0.8888888888888888,
             "#fdca26"
            ],
            [
             1.0,
             "#f0f921"
            ]
           ],
           "sequentialminus": [
            [
             0.0,
             "#0d0887"
            ],
            [
             0.1111111111111111,
             "#46039f"
            ],
            [
             0.2222222222222222,
             "#7201a8"
            ],
            [
             0.3333333333333333,
             "#9c179e"
            ],
            [
             0.4444444444444444,
             "#bd3786"
            ],
            [
             0.5555555555555556,
             "#d8576b"
            ],
            [
             0.6666666666666666,
             "#ed7953"
            ],
            [
             0.7777777777777778,
             "#fb9f3a"
            ],
            [
             0.8888888888888888,
             "#fdca26"
            ],
            [
             1.0,
             "#f0f921"
            ]
           ],
           "diverging": [
            [
             0,
             "#8e0152"
            ],
            [
             0.1,
             "#c51b7d"
            ],
            [
             0.2,
             "#de77ae"
            ],
            [
             0.3,
             "#f1b6da"
            ],
            [
             0.4,
             "#fde0ef"
            ],
            [
             0.5,
             "#f7f7f7"
            ],
            [
             0.6,
             "#e6f5d0"
            ],
            [
             0.7,
             "#b8e186"
            ],
            [
             0.8,
             "#7fbc41"
            ],
            [
             0.9,
             "#4d9221"
            ],
            [
             1,
             "#276419"
            ]
           ]
          },
          "xaxis": {
           "gridcolor": "#283442",
           "linecolor": "#506784",
           "ticks": "",
           "title": {
            "standoff": 15
           },
           "zerolinecolor": "#283442",
           "automargin": true,
           "zerolinewidth": 2
          },
          "yaxis": {
           "gridcolor": "#283442",
           "linecolor": "#506784",
           "ticks": "",
           "title": {
            "standoff": 15
           },
           "zerolinecolor": "#283442",
           "automargin": true,
           "zerolinewidth": 2
          },
          "scene": {
           "xaxis": {
            "backgroundcolor": "rgb(17,17,17)",
            "gridcolor": "#506784",
            "linecolor": "#506784",
            "showbackground": true,
            "ticks": "",
            "zerolinecolor": "#C8D4E3",
            "gridwidth": 2
           },
           "yaxis": {
            "backgroundcolor": "rgb(17,17,17)",
            "gridcolor": "#506784",
            "linecolor": "#506784",
            "showbackground": true,
            "ticks": "",
            "zerolinecolor": "#C8D4E3",
            "gridwidth": 2
           },
           "zaxis": {
            "backgroundcolor": "rgb(17,17,17)",
            "gridcolor": "#506784",
            "linecolor": "#506784",
            "showbackground": true,
            "ticks": "",
            "zerolinecolor": "#C8D4E3",
            "gridwidth": 2
           }
          },
          "shapedefaults": {
           "line": {
            "color": "#f2f5fa"
           }
          },
          "annotationdefaults": {
           "arrowcolor": "#f2f5fa",
           "arrowhead": 0,
           "arrowwidth": 1
          },
          "geo": {
           "bgcolor": "rgb(17,17,17)",
           "landcolor": "rgb(17,17,17)",
           "subunitcolor": "#506784",
           "showland": true,
           "showlakes": true,
           "lakecolor": "rgb(17,17,17)"
          },
          "title": {
           "x": 0.05
          },
          "updatemenudefaults": {
           "bgcolor": "#506784",
           "borderwidth": 0
          },
          "sliderdefaults": {
           "bgcolor": "#C8D4E3",
           "borderwidth": 1,
           "bordercolor": "rgb(17,17,17)",
           "tickwidth": 0
          },
          "mapbox": {
           "style": "dark"
          }
         }
        },
        "xaxis": {
         "anchor": "y",
         "domain": [
          0.0,
          1.0
         ],
         "title": {
          "text": "Anno"
         }
        },
        "yaxis": {
         "anchor": "x",
         "domain": [
          0.0,
          1.0
         ],
         "title": {
          "text": "Radio (a)"
         }
        },
        "legend": {
         "tracegroupgap": 0
        },
        "margin": {
         "t": 60
        }
       },
       "config": {
        "plotlyServerURL": "https://plot.ly"
       }
      }
     },
     "metadata": {},
     "output_type": "display_data"
    }
   ],
   "execution_count": 18
  },
  {
   "metadata": {},
   "cell_type": "markdown",
   "source": "Proviamo a creare un database per inserirci i dati dal dataframe. Creiamo inizialmente una cartella Database.",
   "id": "633db65f5936d387"
  },
  {
   "metadata": {
    "ExecuteTime": {
     "end_time": "2025-06-19T14:00:53.471599Z",
     "start_time": "2025-06-19T14:00:53.467521Z"
    }
   },
   "cell_type": "code",
   "source": "db_path = (os.path.join(os.getcwd(), 'Database'))",
   "id": "fc4cae98850d628f",
   "outputs": [],
   "execution_count": 19
  },
  {
   "metadata": {},
   "cell_type": "markdown",
   "source": "Dopodichè creiamo una connessione al database, se non esiste il file (in questo caso 'database.db') viene creato.",
   "id": "9839a74543d0e8d"
  },
  {
   "metadata": {
    "ExecuteTime": {
     "end_time": "2025-06-19T14:00:53.481401Z",
     "start_time": "2025-06-19T14:00:53.472597Z"
    }
   },
   "cell_type": "code",
   "source": "conn = db.connect(os.path.join(db_path, 'database.db'))",
   "id": "34f40b683d828d72",
   "outputs": [],
   "execution_count": 20
  },
  {
   "metadata": {},
   "cell_type": "markdown",
   "source": "Creiamo la tabella ascolti_radio sul db, specificandone il name e chiamando il metodo .to_sql sul df",
   "id": "af9d96b97156eb0c"
  },
  {
   "metadata": {},
   "cell_type": "markdown",
   "source": "Creiamo il cursore",
   "id": "7313750eb443bd7"
  },
  {
   "metadata": {
    "ExecuteTime": {
     "end_time": "2025-06-19T14:00:53.488727Z",
     "start_time": "2025-06-19T14:00:53.482391Z"
    }
   },
   "cell_type": "code",
   "source": "cursor = conn.cursor()",
   "id": "1e66138c1739b40f",
   "outputs": [],
   "execution_count": 21
  },
  {
   "metadata": {
    "ExecuteTime": {
     "end_time": "2025-06-19T14:00:53.504840Z",
     "start_time": "2025-06-19T14:00:53.489718Z"
    }
   },
   "cell_type": "code",
   "source": "cursor.execute(\"DROP TABLE IF EXISTS ascolti_radio\")",
   "id": "92572725dc7d3268",
   "outputs": [
    {
     "data": {
      "text/plain": [
       "<sqlite3.Cursor at 0x1f8423cbf40>"
      ]
     },
     "execution_count": 22,
     "metadata": {},
     "output_type": "execute_result"
    }
   ],
   "execution_count": 22
  },
  {
   "metadata": {},
   "cell_type": "markdown",
   "source": "",
   "id": "a45a6185f5331c77"
  },
  {
   "metadata": {
    "ExecuteTime": {
     "end_time": "2025-06-19T14:00:53.509173Z",
     "start_time": "2025-06-19T14:00:53.505840Z"
    }
   },
   "cell_type": "code",
   "source": "",
   "id": "c8d963f2bbb3389b",
   "outputs": [],
   "execution_count": 22
  },
  {
   "metadata": {
    "ExecuteTime": {
     "end_time": "2025-06-19T14:00:53.520434Z",
     "start_time": "2025-06-19T14:00:53.510175Z"
    }
   },
   "cell_type": "code",
   "source": [
    "cursor.execute(\"\"\"CREATE TABLE IF NOT EXISTS ascolti_radio (\n",
    "Anno INTEGER PRIMARY KEY,\n",
    "\"Radio (a)\" DOUBLE,\n",
    "\"TV - Uso privato\" DOUBLE\n",
    ")\"\"\")"
   ],
   "id": "ca8933d7b4912b17",
   "outputs": [
    {
     "data": {
      "text/plain": [
       "<sqlite3.Cursor at 0x1f8423cbf40>"
      ]
     },
     "execution_count": 23,
     "metadata": {},
     "output_type": "execute_result"
    }
   ],
   "execution_count": 23
  },
  {
   "metadata": {
    "ExecuteTime": {
     "end_time": "2025-06-19T14:00:53.534430Z",
     "start_time": "2025-06-19T14:00:53.521430Z"
    }
   },
   "cell_type": "code",
   "source": "df_radio.to_sql(name='ascolti_radio', con=conn, if_exists='append')",
   "id": "e3e873672d50f8b8",
   "outputs": [
    {
     "data": {
      "text/plain": [
       "54"
      ]
     },
     "execution_count": 24,
     "metadata": {},
     "output_type": "execute_result"
    }
   ],
   "execution_count": 24
  },
  {
   "metadata": {},
   "cell_type": "markdown",
   "source": "Eseguiamo la query",
   "id": "3c03f88d0e5d5054"
  },
  {
   "metadata": {
    "ExecuteTime": {
     "end_time": "2025-06-19T14:00:53.540262Z",
     "start_time": "2025-06-19T14:00:53.535437Z"
    }
   },
   "cell_type": "code",
   "source": "cursor.execute(\"SELECT * FROM ascolti_radio\")",
   "id": "253a071790bb4a7d",
   "outputs": [
    {
     "data": {
      "text/plain": [
       "<sqlite3.Cursor at 0x1f8423cbf40>"
      ]
     },
     "execution_count": 25,
     "metadata": {},
     "output_type": "execute_result"
    }
   ],
   "execution_count": 25
  },
  {
   "metadata": {},
   "cell_type": "markdown",
   "source": "Salviamone i risultati nella variabile rows e dopodichè stampiamo i risultati",
   "id": "fd3d30ff88e73374"
  },
  {
   "metadata": {
    "ExecuteTime": {
     "end_time": "2025-06-19T14:00:53.546391Z",
     "start_time": "2025-06-19T14:00:53.541148Z"
    }
   },
   "cell_type": "code",
   "source": "rows = cursor.fetchall()",
   "id": "37647171ee356a97",
   "outputs": [],
   "execution_count": 26
  },
  {
   "metadata": {
    "ExecuteTime": {
     "end_time": "2025-06-19T14:00:53.553382Z",
     "start_time": "2025-06-19T14:00:53.548381Z"
    }
   },
   "cell_type": "code",
   "source": [
    "for row in rows:\n",
    "    print(row)"
   ],
   "id": "11f995eabe820646",
   "outputs": [
    {
     "name": "stdout",
     "output_type": "stream",
     "text": [
      "(1936, 697062.0, None)\n",
      "(1937, 825732.0, None)\n",
      "(1938, 965577.0, None)\n",
      "(1939, 1130540.0, None)\n",
      "(1940, 1329723.0, None)\n",
      "(1941, 1638317.0, None)\n",
      "(1942, 1827950.0, None)\n",
      "(1943, 1784246.0, None)\n",
      "(1944, 1608247.0, None)\n",
      "(1945, 1646466.0, None)\n",
      "(1946, 1850479.0, None)\n",
      "(1947, 2011454.0, None)\n",
      "(1948, 2204580.0, None)\n",
      "(1949, 2566258.0, None)\n",
      "(1950, 3135195.0, None)\n",
      "(1951, 3682588.0, None)\n",
      "(1952, 4227609.0, None)\n",
      "(1953, 4800170.0, None)\n",
      "(1954, 5391274.0, None)\n",
      "(1955, 5636802.0, None)\n",
      "(1956, 5862226.0, None)\n",
      "(1957, 6009390.0, None)\n",
      "(1958, 6041863.0, None)\n",
      "(1959, 6014238.0, None)\n",
      "(1960, 5881823.0, None)\n",
      "(1961, 5726122.0, None)\n",
      "(1962, 5579574.0, None)\n",
      "(1963, 5279316.0, None)\n",
      "(1964, 4886496.0, None)\n",
      "(1965, 4570501.0, None)\n",
      "(1966, 4196187.0, None)\n",
      "(1967, 3844488.0, None)\n",
      "(1968, 2553413.0, None)\n",
      "(1969, 2196785.0, None)\n",
      "(1970, 1822676.0, None)\n",
      "(1971, 1506342.0, None)\n",
      "(1972, 1252791.0, None)\n",
      "(1973, 1021624.0, None)\n",
      "(1974, 824835.0, None)\n",
      "(1975, 714891.0, None)\n",
      "(1976, 647389.0, None)\n",
      "(1977, 611000.0, None)\n",
      "(1978, 532800.0, None)\n",
      "(1979, 464135.0, None)\n",
      "(1980, 420008.0, None)\n",
      "(1981, 402158.0, None)\n",
      "(1982, 377695.0, None)\n",
      "(1983, 381521.0, None)\n",
      "(1984, 368332.0, None)\n",
      "(1985, 322065.6666666667, None)\n",
      "(1986, 275799.3333333333, None)\n",
      "(1987, 229533.0, None)\n",
      "(1988, 184084.0, None)\n",
      "(1989, 157958.0, None)\n"
     ]
    }
   ],
   "execution_count": 27
  },
  {
   "metadata": {},
   "cell_type": "markdown",
   "source": "Fare riferimento al modulo main per la creazione delle API",
   "id": "c1dfeecd0a7616ab"
  },
  {
   "metadata": {},
   "cell_type": "markdown",
   "source": "Tornando alla dataviz, cerchiamo ora di concatenare (anche se si poteva fare solo un sottodf di quello iniziale) anche gli ascolti TV",
   "id": "f29fc848cff9c838"
  },
  {
   "metadata": {},
   "cell_type": "markdown",
   "source": "Puliamo inizialmente gli ascolti TV privati",
   "id": "d042f4f289e687aa"
  },
  {
   "metadata": {
    "ExecuteTime": {
     "end_time": "2025-06-19T14:00:53.559233Z",
     "start_time": "2025-06-19T14:00:53.554382Z"
    }
   },
   "cell_type": "code",
   "source": "df.replace(\"-\", pd.NA, inplace=True)",
   "id": "c8b9f03fb39cff64",
   "outputs": [],
   "execution_count": 28
  },
  {
   "metadata": {
    "ExecuteTime": {
     "end_time": "2025-06-19T14:00:53.565362Z",
     "start_time": "2025-06-19T14:00:53.559233Z"
    }
   },
   "cell_type": "code",
   "source": "df[\"TV - Uso privato\"] = pd.to_numeric(df[\"TV - Uso privato\"], errors=\"coerce\")",
   "id": "91f11f551c605591",
   "outputs": [],
   "execution_count": 29
  },
  {
   "metadata": {
    "ExecuteTime": {
     "end_time": "2025-06-19T14:00:53.571863Z",
     "start_time": "2025-06-19T14:00:53.566361Z"
    }
   },
   "cell_type": "code",
   "source": "df_tv_priv = df.loc[(df.index >= 1936) & (df.index <= 1989), ['TV - Uso privato']].copy()",
   "id": "89aa88ed07c7541a",
   "outputs": [],
   "execution_count": 30
  },
  {
   "metadata": {
    "ExecuteTime": {
     "end_time": "2025-06-19T14:00:53.583989Z",
     "start_time": "2025-06-19T14:00:53.572854Z"
    }
   },
   "cell_type": "code",
   "source": "df_tv_priv",
   "id": "d6bd4bbcd46af259",
   "outputs": [
    {
     "data": {
      "text/plain": [
       "      TV - Uso privato\n",
       "Anno                  \n",
       "1936               NaN\n",
       "1937               NaN\n",
       "1938               NaN\n",
       "1939               NaN\n",
       "1940               NaN\n",
       "1941               NaN\n",
       "1942               NaN\n",
       "1943               NaN\n",
       "1944               NaN\n",
       "1945               NaN\n",
       "1946               NaN\n",
       "1947               NaN\n",
       "1948               NaN\n",
       "1949               NaN\n",
       "1950               NaN\n",
       "1951               NaN\n",
       "1952               NaN\n",
       "1953               NaN\n",
       "1954           72539.0\n",
       "1955          149819.0\n",
       "1956          313125.0\n",
       "1957          609309.0\n",
       "1958         1031348.0\n",
       "1959         1515730.0\n",
       "1960         2103638.0\n",
       "1961         2756234.0\n",
       "1962         3484711.0\n",
       "1963         4343776.0\n",
       "1964         5281825.0\n",
       "1965         6078934.0\n",
       "1966         6901729.0\n",
       "1967         7725738.0\n",
       "1968         8470301.0\n",
       "1969         9178151.0\n",
       "1970         9893679.0\n",
       "1971        10559128.0\n",
       "1972        11186821.0\n",
       "1973        11720275.0\n",
       "1974        12164423.0\n",
       "1975        12415740.0\n",
       "1976        12677432.0\n",
       "1977        13027633.0\n",
       "1978        13337794.0\n",
       "1979        13637644.0\n",
       "1980        13911580.0\n",
       "1981        14005076.0\n",
       "1982        14158034.0\n",
       "1983        14310610.0\n",
       "1984        14392912.0\n",
       "1985        14452439.0\n",
       "1986        14534210.0\n",
       "1987        14614075.0\n",
       "1988        14641499.0\n",
       "1989        14773078.0"
      ],
      "text/html": [
       "<div>\n",
       "<style scoped>\n",
       "    .dataframe tbody tr th:only-of-type {\n",
       "        vertical-align: middle;\n",
       "    }\n",
       "\n",
       "    .dataframe tbody tr th {\n",
       "        vertical-align: top;\n",
       "    }\n",
       "\n",
       "    .dataframe thead th {\n",
       "        text-align: right;\n",
       "    }\n",
       "</style>\n",
       "<table border=\"1\" class=\"dataframe\">\n",
       "  <thead>\n",
       "    <tr style=\"text-align: right;\">\n",
       "      <th></th>\n",
       "      <th>TV - Uso privato</th>\n",
       "    </tr>\n",
       "    <tr>\n",
       "      <th>Anno</th>\n",
       "      <th></th>\n",
       "    </tr>\n",
       "  </thead>\n",
       "  <tbody>\n",
       "    <tr>\n",
       "      <th>1936</th>\n",
       "      <td>NaN</td>\n",
       "    </tr>\n",
       "    <tr>\n",
       "      <th>1937</th>\n",
       "      <td>NaN</td>\n",
       "    </tr>\n",
       "    <tr>\n",
       "      <th>1938</th>\n",
       "      <td>NaN</td>\n",
       "    </tr>\n",
       "    <tr>\n",
       "      <th>1939</th>\n",
       "      <td>NaN</td>\n",
       "    </tr>\n",
       "    <tr>\n",
       "      <th>1940</th>\n",
       "      <td>NaN</td>\n",
       "    </tr>\n",
       "    <tr>\n",
       "      <th>1941</th>\n",
       "      <td>NaN</td>\n",
       "    </tr>\n",
       "    <tr>\n",
       "      <th>1942</th>\n",
       "      <td>NaN</td>\n",
       "    </tr>\n",
       "    <tr>\n",
       "      <th>1943</th>\n",
       "      <td>NaN</td>\n",
       "    </tr>\n",
       "    <tr>\n",
       "      <th>1944</th>\n",
       "      <td>NaN</td>\n",
       "    </tr>\n",
       "    <tr>\n",
       "      <th>1945</th>\n",
       "      <td>NaN</td>\n",
       "    </tr>\n",
       "    <tr>\n",
       "      <th>1946</th>\n",
       "      <td>NaN</td>\n",
       "    </tr>\n",
       "    <tr>\n",
       "      <th>1947</th>\n",
       "      <td>NaN</td>\n",
       "    </tr>\n",
       "    <tr>\n",
       "      <th>1948</th>\n",
       "      <td>NaN</td>\n",
       "    </tr>\n",
       "    <tr>\n",
       "      <th>1949</th>\n",
       "      <td>NaN</td>\n",
       "    </tr>\n",
       "    <tr>\n",
       "      <th>1950</th>\n",
       "      <td>NaN</td>\n",
       "    </tr>\n",
       "    <tr>\n",
       "      <th>1951</th>\n",
       "      <td>NaN</td>\n",
       "    </tr>\n",
       "    <tr>\n",
       "      <th>1952</th>\n",
       "      <td>NaN</td>\n",
       "    </tr>\n",
       "    <tr>\n",
       "      <th>1953</th>\n",
       "      <td>NaN</td>\n",
       "    </tr>\n",
       "    <tr>\n",
       "      <th>1954</th>\n",
       "      <td>72539.0</td>\n",
       "    </tr>\n",
       "    <tr>\n",
       "      <th>1955</th>\n",
       "      <td>149819.0</td>\n",
       "    </tr>\n",
       "    <tr>\n",
       "      <th>1956</th>\n",
       "      <td>313125.0</td>\n",
       "    </tr>\n",
       "    <tr>\n",
       "      <th>1957</th>\n",
       "      <td>609309.0</td>\n",
       "    </tr>\n",
       "    <tr>\n",
       "      <th>1958</th>\n",
       "      <td>1031348.0</td>\n",
       "    </tr>\n",
       "    <tr>\n",
       "      <th>1959</th>\n",
       "      <td>1515730.0</td>\n",
       "    </tr>\n",
       "    <tr>\n",
       "      <th>1960</th>\n",
       "      <td>2103638.0</td>\n",
       "    </tr>\n",
       "    <tr>\n",
       "      <th>1961</th>\n",
       "      <td>2756234.0</td>\n",
       "    </tr>\n",
       "    <tr>\n",
       "      <th>1962</th>\n",
       "      <td>3484711.0</td>\n",
       "    </tr>\n",
       "    <tr>\n",
       "      <th>1963</th>\n",
       "      <td>4343776.0</td>\n",
       "    </tr>\n",
       "    <tr>\n",
       "      <th>1964</th>\n",
       "      <td>5281825.0</td>\n",
       "    </tr>\n",
       "    <tr>\n",
       "      <th>1965</th>\n",
       "      <td>6078934.0</td>\n",
       "    </tr>\n",
       "    <tr>\n",
       "      <th>1966</th>\n",
       "      <td>6901729.0</td>\n",
       "    </tr>\n",
       "    <tr>\n",
       "      <th>1967</th>\n",
       "      <td>7725738.0</td>\n",
       "    </tr>\n",
       "    <tr>\n",
       "      <th>1968</th>\n",
       "      <td>8470301.0</td>\n",
       "    </tr>\n",
       "    <tr>\n",
       "      <th>1969</th>\n",
       "      <td>9178151.0</td>\n",
       "    </tr>\n",
       "    <tr>\n",
       "      <th>1970</th>\n",
       "      <td>9893679.0</td>\n",
       "    </tr>\n",
       "    <tr>\n",
       "      <th>1971</th>\n",
       "      <td>10559128.0</td>\n",
       "    </tr>\n",
       "    <tr>\n",
       "      <th>1972</th>\n",
       "      <td>11186821.0</td>\n",
       "    </tr>\n",
       "    <tr>\n",
       "      <th>1973</th>\n",
       "      <td>11720275.0</td>\n",
       "    </tr>\n",
       "    <tr>\n",
       "      <th>1974</th>\n",
       "      <td>12164423.0</td>\n",
       "    </tr>\n",
       "    <tr>\n",
       "      <th>1975</th>\n",
       "      <td>12415740.0</td>\n",
       "    </tr>\n",
       "    <tr>\n",
       "      <th>1976</th>\n",
       "      <td>12677432.0</td>\n",
       "    </tr>\n",
       "    <tr>\n",
       "      <th>1977</th>\n",
       "      <td>13027633.0</td>\n",
       "    </tr>\n",
       "    <tr>\n",
       "      <th>1978</th>\n",
       "      <td>13337794.0</td>\n",
       "    </tr>\n",
       "    <tr>\n",
       "      <th>1979</th>\n",
       "      <td>13637644.0</td>\n",
       "    </tr>\n",
       "    <tr>\n",
       "      <th>1980</th>\n",
       "      <td>13911580.0</td>\n",
       "    </tr>\n",
       "    <tr>\n",
       "      <th>1981</th>\n",
       "      <td>14005076.0</td>\n",
       "    </tr>\n",
       "    <tr>\n",
       "      <th>1982</th>\n",
       "      <td>14158034.0</td>\n",
       "    </tr>\n",
       "    <tr>\n",
       "      <th>1983</th>\n",
       "      <td>14310610.0</td>\n",
       "    </tr>\n",
       "    <tr>\n",
       "      <th>1984</th>\n",
       "      <td>14392912.0</td>\n",
       "    </tr>\n",
       "    <tr>\n",
       "      <th>1985</th>\n",
       "      <td>14452439.0</td>\n",
       "    </tr>\n",
       "    <tr>\n",
       "      <th>1986</th>\n",
       "      <td>14534210.0</td>\n",
       "    </tr>\n",
       "    <tr>\n",
       "      <th>1987</th>\n",
       "      <td>14614075.0</td>\n",
       "    </tr>\n",
       "    <tr>\n",
       "      <th>1988</th>\n",
       "      <td>14641499.0</td>\n",
       "    </tr>\n",
       "    <tr>\n",
       "      <th>1989</th>\n",
       "      <td>14773078.0</td>\n",
       "    </tr>\n",
       "  </tbody>\n",
       "</table>\n",
       "</div>"
      ]
     },
     "execution_count": 31,
     "metadata": {},
     "output_type": "execute_result"
    }
   ],
   "execution_count": 31
  },
  {
   "metadata": {},
   "cell_type": "markdown",
   "source": "Dobbiamo affiancare le colonne, dunque utilizziamo axis=1",
   "id": "6435f4cf7a0f9f71"
  },
  {
   "metadata": {
    "ExecuteTime": {
     "end_time": "2025-06-19T14:00:53.589620Z",
     "start_time": "2025-06-19T14:00:53.584976Z"
    }
   },
   "cell_type": "code",
   "source": "df_radio_tv_priv = pd.concat([df_radio, df_tv_priv], axis=1)",
   "id": "851fb356873689c4",
   "outputs": [],
   "execution_count": 32
  },
  {
   "metadata": {
    "ExecuteTime": {
     "end_time": "2025-06-19T14:00:53.603625Z",
     "start_time": "2025-06-19T14:00:53.590620Z"
    }
   },
   "cell_type": "code",
   "source": "df_radio_tv_priv",
   "id": "3987970a1708a039",
   "outputs": [
    {
     "data": {
      "text/plain": [
       "         Radio (a)  TV - Uso privato\n",
       "Anno                                \n",
       "1936  6.970620e+05               NaN\n",
       "1937  8.257320e+05               NaN\n",
       "1938  9.655770e+05               NaN\n",
       "1939  1.130540e+06               NaN\n",
       "1940  1.329723e+06               NaN\n",
       "1941  1.638317e+06               NaN\n",
       "1942  1.827950e+06               NaN\n",
       "1943  1.784246e+06               NaN\n",
       "1944  1.608247e+06               NaN\n",
       "1945  1.646466e+06               NaN\n",
       "1946  1.850479e+06               NaN\n",
       "1947  2.011454e+06               NaN\n",
       "1948  2.204580e+06               NaN\n",
       "1949  2.566258e+06               NaN\n",
       "1950  3.135195e+06               NaN\n",
       "1951  3.682588e+06               NaN\n",
       "1952  4.227609e+06               NaN\n",
       "1953  4.800170e+06               NaN\n",
       "1954  5.391274e+06           72539.0\n",
       "1955  5.636802e+06          149819.0\n",
       "1956  5.862226e+06          313125.0\n",
       "1957  6.009390e+06          609309.0\n",
       "1958  6.041863e+06         1031348.0\n",
       "1959  6.014238e+06         1515730.0\n",
       "1960  5.881823e+06         2103638.0\n",
       "1961  5.726122e+06         2756234.0\n",
       "1962  5.579574e+06         3484711.0\n",
       "1963  5.279316e+06         4343776.0\n",
       "1964  4.886496e+06         5281825.0\n",
       "1965  4.570501e+06         6078934.0\n",
       "1966  4.196187e+06         6901729.0\n",
       "1967  3.844488e+06         7725738.0\n",
       "1968  2.553413e+06         8470301.0\n",
       "1969  2.196785e+06         9178151.0\n",
       "1970  1.822676e+06         9893679.0\n",
       "1971  1.506342e+06        10559128.0\n",
       "1972  1.252791e+06        11186821.0\n",
       "1973  1.021624e+06        11720275.0\n",
       "1974  8.248350e+05        12164423.0\n",
       "1975  7.148910e+05        12415740.0\n",
       "1976  6.473890e+05        12677432.0\n",
       "1977  6.110000e+05        13027633.0\n",
       "1978  5.328000e+05        13337794.0\n",
       "1979  4.641350e+05        13637644.0\n",
       "1980  4.200080e+05        13911580.0\n",
       "1981  4.021580e+05        14005076.0\n",
       "1982  3.776950e+05        14158034.0\n",
       "1983  3.815210e+05        14310610.0\n",
       "1984  3.683320e+05        14392912.0\n",
       "1985  3.220657e+05        14452439.0\n",
       "1986  2.757993e+05        14534210.0\n",
       "1987  2.295330e+05        14614075.0\n",
       "1988  1.840840e+05        14641499.0\n",
       "1989  1.579580e+05        14773078.0"
      ],
      "text/html": [
       "<div>\n",
       "<style scoped>\n",
       "    .dataframe tbody tr th:only-of-type {\n",
       "        vertical-align: middle;\n",
       "    }\n",
       "\n",
       "    .dataframe tbody tr th {\n",
       "        vertical-align: top;\n",
       "    }\n",
       "\n",
       "    .dataframe thead th {\n",
       "        text-align: right;\n",
       "    }\n",
       "</style>\n",
       "<table border=\"1\" class=\"dataframe\">\n",
       "  <thead>\n",
       "    <tr style=\"text-align: right;\">\n",
       "      <th></th>\n",
       "      <th>Radio (a)</th>\n",
       "      <th>TV - Uso privato</th>\n",
       "    </tr>\n",
       "    <tr>\n",
       "      <th>Anno</th>\n",
       "      <th></th>\n",
       "      <th></th>\n",
       "    </tr>\n",
       "  </thead>\n",
       "  <tbody>\n",
       "    <tr>\n",
       "      <th>1936</th>\n",
       "      <td>6.970620e+05</td>\n",
       "      <td>NaN</td>\n",
       "    </tr>\n",
       "    <tr>\n",
       "      <th>1937</th>\n",
       "      <td>8.257320e+05</td>\n",
       "      <td>NaN</td>\n",
       "    </tr>\n",
       "    <tr>\n",
       "      <th>1938</th>\n",
       "      <td>9.655770e+05</td>\n",
       "      <td>NaN</td>\n",
       "    </tr>\n",
       "    <tr>\n",
       "      <th>1939</th>\n",
       "      <td>1.130540e+06</td>\n",
       "      <td>NaN</td>\n",
       "    </tr>\n",
       "    <tr>\n",
       "      <th>1940</th>\n",
       "      <td>1.329723e+06</td>\n",
       "      <td>NaN</td>\n",
       "    </tr>\n",
       "    <tr>\n",
       "      <th>1941</th>\n",
       "      <td>1.638317e+06</td>\n",
       "      <td>NaN</td>\n",
       "    </tr>\n",
       "    <tr>\n",
       "      <th>1942</th>\n",
       "      <td>1.827950e+06</td>\n",
       "      <td>NaN</td>\n",
       "    </tr>\n",
       "    <tr>\n",
       "      <th>1943</th>\n",
       "      <td>1.784246e+06</td>\n",
       "      <td>NaN</td>\n",
       "    </tr>\n",
       "    <tr>\n",
       "      <th>1944</th>\n",
       "      <td>1.608247e+06</td>\n",
       "      <td>NaN</td>\n",
       "    </tr>\n",
       "    <tr>\n",
       "      <th>1945</th>\n",
       "      <td>1.646466e+06</td>\n",
       "      <td>NaN</td>\n",
       "    </tr>\n",
       "    <tr>\n",
       "      <th>1946</th>\n",
       "      <td>1.850479e+06</td>\n",
       "      <td>NaN</td>\n",
       "    </tr>\n",
       "    <tr>\n",
       "      <th>1947</th>\n",
       "      <td>2.011454e+06</td>\n",
       "      <td>NaN</td>\n",
       "    </tr>\n",
       "    <tr>\n",
       "      <th>1948</th>\n",
       "      <td>2.204580e+06</td>\n",
       "      <td>NaN</td>\n",
       "    </tr>\n",
       "    <tr>\n",
       "      <th>1949</th>\n",
       "      <td>2.566258e+06</td>\n",
       "      <td>NaN</td>\n",
       "    </tr>\n",
       "    <tr>\n",
       "      <th>1950</th>\n",
       "      <td>3.135195e+06</td>\n",
       "      <td>NaN</td>\n",
       "    </tr>\n",
       "    <tr>\n",
       "      <th>1951</th>\n",
       "      <td>3.682588e+06</td>\n",
       "      <td>NaN</td>\n",
       "    </tr>\n",
       "    <tr>\n",
       "      <th>1952</th>\n",
       "      <td>4.227609e+06</td>\n",
       "      <td>NaN</td>\n",
       "    </tr>\n",
       "    <tr>\n",
       "      <th>1953</th>\n",
       "      <td>4.800170e+06</td>\n",
       "      <td>NaN</td>\n",
       "    </tr>\n",
       "    <tr>\n",
       "      <th>1954</th>\n",
       "      <td>5.391274e+06</td>\n",
       "      <td>72539.0</td>\n",
       "    </tr>\n",
       "    <tr>\n",
       "      <th>1955</th>\n",
       "      <td>5.636802e+06</td>\n",
       "      <td>149819.0</td>\n",
       "    </tr>\n",
       "    <tr>\n",
       "      <th>1956</th>\n",
       "      <td>5.862226e+06</td>\n",
       "      <td>313125.0</td>\n",
       "    </tr>\n",
       "    <tr>\n",
       "      <th>1957</th>\n",
       "      <td>6.009390e+06</td>\n",
       "      <td>609309.0</td>\n",
       "    </tr>\n",
       "    <tr>\n",
       "      <th>1958</th>\n",
       "      <td>6.041863e+06</td>\n",
       "      <td>1031348.0</td>\n",
       "    </tr>\n",
       "    <tr>\n",
       "      <th>1959</th>\n",
       "      <td>6.014238e+06</td>\n",
       "      <td>1515730.0</td>\n",
       "    </tr>\n",
       "    <tr>\n",
       "      <th>1960</th>\n",
       "      <td>5.881823e+06</td>\n",
       "      <td>2103638.0</td>\n",
       "    </tr>\n",
       "    <tr>\n",
       "      <th>1961</th>\n",
       "      <td>5.726122e+06</td>\n",
       "      <td>2756234.0</td>\n",
       "    </tr>\n",
       "    <tr>\n",
       "      <th>1962</th>\n",
       "      <td>5.579574e+06</td>\n",
       "      <td>3484711.0</td>\n",
       "    </tr>\n",
       "    <tr>\n",
       "      <th>1963</th>\n",
       "      <td>5.279316e+06</td>\n",
       "      <td>4343776.0</td>\n",
       "    </tr>\n",
       "    <tr>\n",
       "      <th>1964</th>\n",
       "      <td>4.886496e+06</td>\n",
       "      <td>5281825.0</td>\n",
       "    </tr>\n",
       "    <tr>\n",
       "      <th>1965</th>\n",
       "      <td>4.570501e+06</td>\n",
       "      <td>6078934.0</td>\n",
       "    </tr>\n",
       "    <tr>\n",
       "      <th>1966</th>\n",
       "      <td>4.196187e+06</td>\n",
       "      <td>6901729.0</td>\n",
       "    </tr>\n",
       "    <tr>\n",
       "      <th>1967</th>\n",
       "      <td>3.844488e+06</td>\n",
       "      <td>7725738.0</td>\n",
       "    </tr>\n",
       "    <tr>\n",
       "      <th>1968</th>\n",
       "      <td>2.553413e+06</td>\n",
       "      <td>8470301.0</td>\n",
       "    </tr>\n",
       "    <tr>\n",
       "      <th>1969</th>\n",
       "      <td>2.196785e+06</td>\n",
       "      <td>9178151.0</td>\n",
       "    </tr>\n",
       "    <tr>\n",
       "      <th>1970</th>\n",
       "      <td>1.822676e+06</td>\n",
       "      <td>9893679.0</td>\n",
       "    </tr>\n",
       "    <tr>\n",
       "      <th>1971</th>\n",
       "      <td>1.506342e+06</td>\n",
       "      <td>10559128.0</td>\n",
       "    </tr>\n",
       "    <tr>\n",
       "      <th>1972</th>\n",
       "      <td>1.252791e+06</td>\n",
       "      <td>11186821.0</td>\n",
       "    </tr>\n",
       "    <tr>\n",
       "      <th>1973</th>\n",
       "      <td>1.021624e+06</td>\n",
       "      <td>11720275.0</td>\n",
       "    </tr>\n",
       "    <tr>\n",
       "      <th>1974</th>\n",
       "      <td>8.248350e+05</td>\n",
       "      <td>12164423.0</td>\n",
       "    </tr>\n",
       "    <tr>\n",
       "      <th>1975</th>\n",
       "      <td>7.148910e+05</td>\n",
       "      <td>12415740.0</td>\n",
       "    </tr>\n",
       "    <tr>\n",
       "      <th>1976</th>\n",
       "      <td>6.473890e+05</td>\n",
       "      <td>12677432.0</td>\n",
       "    </tr>\n",
       "    <tr>\n",
       "      <th>1977</th>\n",
       "      <td>6.110000e+05</td>\n",
       "      <td>13027633.0</td>\n",
       "    </tr>\n",
       "    <tr>\n",
       "      <th>1978</th>\n",
       "      <td>5.328000e+05</td>\n",
       "      <td>13337794.0</td>\n",
       "    </tr>\n",
       "    <tr>\n",
       "      <th>1979</th>\n",
       "      <td>4.641350e+05</td>\n",
       "      <td>13637644.0</td>\n",
       "    </tr>\n",
       "    <tr>\n",
       "      <th>1980</th>\n",
       "      <td>4.200080e+05</td>\n",
       "      <td>13911580.0</td>\n",
       "    </tr>\n",
       "    <tr>\n",
       "      <th>1981</th>\n",
       "      <td>4.021580e+05</td>\n",
       "      <td>14005076.0</td>\n",
       "    </tr>\n",
       "    <tr>\n",
       "      <th>1982</th>\n",
       "      <td>3.776950e+05</td>\n",
       "      <td>14158034.0</td>\n",
       "    </tr>\n",
       "    <tr>\n",
       "      <th>1983</th>\n",
       "      <td>3.815210e+05</td>\n",
       "      <td>14310610.0</td>\n",
       "    </tr>\n",
       "    <tr>\n",
       "      <th>1984</th>\n",
       "      <td>3.683320e+05</td>\n",
       "      <td>14392912.0</td>\n",
       "    </tr>\n",
       "    <tr>\n",
       "      <th>1985</th>\n",
       "      <td>3.220657e+05</td>\n",
       "      <td>14452439.0</td>\n",
       "    </tr>\n",
       "    <tr>\n",
       "      <th>1986</th>\n",
       "      <td>2.757993e+05</td>\n",
       "      <td>14534210.0</td>\n",
       "    </tr>\n",
       "    <tr>\n",
       "      <th>1987</th>\n",
       "      <td>2.295330e+05</td>\n",
       "      <td>14614075.0</td>\n",
       "    </tr>\n",
       "    <tr>\n",
       "      <th>1988</th>\n",
       "      <td>1.840840e+05</td>\n",
       "      <td>14641499.0</td>\n",
       "    </tr>\n",
       "    <tr>\n",
       "      <th>1989</th>\n",
       "      <td>1.579580e+05</td>\n",
       "      <td>14773078.0</td>\n",
       "    </tr>\n",
       "  </tbody>\n",
       "</table>\n",
       "</div>"
      ]
     },
     "execution_count": 33,
     "metadata": {},
     "output_type": "execute_result"
    }
   ],
   "execution_count": 33
  },
  {
   "metadata": {},
   "cell_type": "markdown",
   "source": "Svuotiamo la tabella (nota, non esiste truncate)",
   "id": "e56066239353ab72"
  },
  {
   "metadata": {
    "ExecuteTime": {
     "end_time": "2025-06-19T14:00:53.611206Z",
     "start_time": "2025-06-19T14:00:53.604622Z"
    }
   },
   "cell_type": "code",
   "source": "cursor.execute(\"DELETE FROM ascolti_radio\")",
   "id": "d7e9d38fc03aab58",
   "outputs": [
    {
     "data": {
      "text/plain": [
       "<sqlite3.Cursor at 0x1f8423cbf40>"
      ]
     },
     "execution_count": 34,
     "metadata": {},
     "output_type": "execute_result"
    }
   ],
   "execution_count": 34
  },
  {
   "metadata": {
    "ExecuteTime": {
     "end_time": "2025-06-19T14:00:53.625767Z",
     "start_time": "2025-06-19T14:00:53.612201Z"
    }
   },
   "cell_type": "code",
   "source": "df_radio_tv_priv.to_sql(name='ascolti_radio', con=conn, if_exists='append')",
   "id": "bb50849c9ab2ef41",
   "outputs": [
    {
     "data": {
      "text/plain": [
       "54"
      ]
     },
     "execution_count": 35,
     "metadata": {},
     "output_type": "execute_result"
    }
   ],
   "execution_count": 35
  },
  {
   "metadata": {},
   "cell_type": "markdown",
   "source": "Creiamo ora una nuova figura passando le due serie sull'asse Y",
   "id": "1dc8c4451ea06615"
  },
  {
   "metadata": {
    "ExecuteTime": {
     "end_time": "2025-06-19T14:00:58.093525Z",
     "start_time": "2025-06-19T14:00:58.047926Z"
    }
   },
   "cell_type": "code",
   "source": [
    "fig2 = px.line(df_radio_tv_priv, x=df_radio_tv_priv.index, y=[\"Radio (a)\", \"TV - Uso privato\"])\n",
    "fig2.show()\n"
   ],
   "id": "9c4e8b073468049d",
   "outputs": [
    {
     "data": {
      "application/vnd.plotly.v1+json": {
       "data": [
        {
         "hovertemplate": "variable=Radio (a)<br>Anno=%{x}<br>value=%{y}<extra></extra>",
         "legendgroup": "Radio (a)",
         "line": {
          "color": "#636efa",
          "dash": "solid"
         },
         "marker": {
          "symbol": "circle"
         },
         "mode": "lines",
         "name": "Radio (a)",
         "orientation": "v",
         "showlegend": true,
         "x": [
          1936,
          1937,
          1938,
          1939,
          1940,
          1941,
          1942,
          1943,
          1944,
          1945,
          1946,
          1947,
          1948,
          1949,
          1950,
          1951,
          1952,
          1953,
          1954,
          1955,
          1956,
          1957,
          1958,
          1959,
          1960,
          1961,
          1962,
          1963,
          1964,
          1965,
          1966,
          1967,
          1968,
          1969,
          1970,
          1971,
          1972,
          1973,
          1974,
          1975,
          1976,
          1977,
          1978,
          1979,
          1980,
          1981,
          1982,
          1983,
          1984,
          1985,
          1986,
          1987,
          1988,
          1989
         ],
         "xaxis": "x",
         "y": {
          "dtype": "f8",
          "bdata": "AAAAAMxFJUEAAAAACDMpQQAAAACSdy1BAAAAACxAMUEAAAAAO0o0QQAAAACt/zhBAAAAAG7kO0EAAAAAtjk7QQAAAAA3ijhBAAAAAIIfOUEAAAAAbzw8QQAAAAA+sT5BAAAAANLRQEEAAAAAOZRDQQAAAIBt60dBAAAAAI4YTEEAAABAhiBQQQAAAICqT1JBAAAAgOqQVEEAAACAsIBVQQAAAIDUXFZBAAAAgIvsVkEAAADAQQxXQQAAAIBH8VZBAAAAwPdvVkEAAACA6tdVQQAAAIDNSFVBAAAAAJUjVEEAAAAA+KNSQQAAAEBhb1FBAAAAwNYBUEEAAAAAxFRNQQAAAIAie0NBAAAAgJjCQEEAAAAA1M87QQAAAAAm/DZBAAAAALcdM0EAAAAAcC0vQQAAAAAGLClBAAAAABbRJUEAAAAAusEjQQAAAABwpSJBAAAAAIBCIEEAAAAAHFQcQQAAAACgohlBAAAAALiLGEEAAAAAfA0XQQAAAABESRdBAAAAADB7FkGrqqqqRqgTQVVVVVVd1RBBAAAAAOgEDEEAAAAAoHgGQQAAAAAwSANB"
         },
         "yaxis": "y",
         "type": "scatter"
        },
        {
         "hovertemplate": "variable=TV - Uso privato<br>Anno=%{x}<br>value=%{y}<extra></extra>",
         "legendgroup": "TV - Uso privato",
         "line": {
          "color": "#EF553B",
          "dash": "solid"
         },
         "marker": {
          "symbol": "circle"
         },
         "mode": "lines",
         "name": "TV - Uso privato",
         "orientation": "v",
         "showlegend": true,
         "x": [
          1936,
          1937,
          1938,
          1939,
          1940,
          1941,
          1942,
          1943,
          1944,
          1945,
          1946,
          1947,
          1948,
          1949,
          1950,
          1951,
          1952,
          1953,
          1954,
          1955,
          1956,
          1957,
          1958,
          1959,
          1960,
          1961,
          1962,
          1963,
          1964,
          1965,
          1966,
          1967,
          1968,
          1969,
          1970,
          1971,
          1972,
          1973,
          1974,
          1975,
          1976,
          1977,
          1978,
          1979,
          1980,
          1981,
          1982,
          1983,
          1984,
          1985,
          1986,
          1987,
          1988,
          1989
         ],
         "xaxis": "x",
         "y": {
          "dtype": "f8",
          "bdata": "AAAAAAAA+H8AAAAAAAD4fwAAAAAAAPh/AAAAAAAA+H8AAAAAAAD4fwAAAAAAAPh/AAAAAAAA+H8AAAAAAAD4fwAAAAAAAPh/AAAAAAAA+H8AAAAAAAD4fwAAAAAAAPh/AAAAAAAA+H8AAAAAAAD4fwAAAAAAAPh/AAAAAAAA+H8AAAAAAAD4fwAAAAAAAPh/AAAAALC18UAAAAAA2EkCQQAAAACUHBNBAAAAADqYIkEAAAAAaHkvQQAAAADSIDdBAAAAAKsMQEEAAAAARQdFQQAAAIATlkpBAAAAAPiRUEEAAABACCZUQQAAAIB1MFdBAAAAQPhTWkEAAACAqnhdQQAAAKDjJ2BBAAAA4ISBYUEAAADg5d5iQQAAAADTI2RBAAAAoFBWZUEAAABgylpmQQAAAOCoM2dBAAAAgF+uZ0EAAAAAJy5oQQAAACAm2WhBAAAAQJhwaUEAAACAAQNqQQAAAIDDiGpBAAAAgGq2akEAAABAGgFrQQAAAECaS2tBAAAAAMpza0EAAADg2pBrQQAAAEDIuGtBAAAAYMffa0EAAABgK+1rQQAAAMBqLWxB"
         },
         "yaxis": "y",
         "type": "scatter"
        }
       ],
       "layout": {
        "template": {
         "data": {
          "histogram2dcontour": [
           {
            "type": "histogram2dcontour",
            "colorbar": {
             "outlinewidth": 0,
             "ticks": ""
            },
            "colorscale": [
             [
              0.0,
              "#0d0887"
             ],
             [
              0.1111111111111111,
              "#46039f"
             ],
             [
              0.2222222222222222,
              "#7201a8"
             ],
             [
              0.3333333333333333,
              "#9c179e"
             ],
             [
              0.4444444444444444,
              "#bd3786"
             ],
             [
              0.5555555555555556,
              "#d8576b"
             ],
             [
              0.6666666666666666,
              "#ed7953"
             ],
             [
              0.7777777777777778,
              "#fb9f3a"
             ],
             [
              0.8888888888888888,
              "#fdca26"
             ],
             [
              1.0,
              "#f0f921"
             ]
            ]
           }
          ],
          "choropleth": [
           {
            "type": "choropleth",
            "colorbar": {
             "outlinewidth": 0,
             "ticks": ""
            }
           }
          ],
          "histogram2d": [
           {
            "type": "histogram2d",
            "colorbar": {
             "outlinewidth": 0,
             "ticks": ""
            },
            "colorscale": [
             [
              0.0,
              "#0d0887"
             ],
             [
              0.1111111111111111,
              "#46039f"
             ],
             [
              0.2222222222222222,
              "#7201a8"
             ],
             [
              0.3333333333333333,
              "#9c179e"
             ],
             [
              0.4444444444444444,
              "#bd3786"
             ],
             [
              0.5555555555555556,
              "#d8576b"
             ],
             [
              0.6666666666666666,
              "#ed7953"
             ],
             [
              0.7777777777777778,
              "#fb9f3a"
             ],
             [
              0.8888888888888888,
              "#fdca26"
             ],
             [
              1.0,
              "#f0f921"
             ]
            ]
           }
          ],
          "heatmap": [
           {
            "type": "heatmap",
            "colorbar": {
             "outlinewidth": 0,
             "ticks": ""
            },
            "colorscale": [
             [
              0.0,
              "#0d0887"
             ],
             [
              0.1111111111111111,
              "#46039f"
             ],
             [
              0.2222222222222222,
              "#7201a8"
             ],
             [
              0.3333333333333333,
              "#9c179e"
             ],
             [
              0.4444444444444444,
              "#bd3786"
             ],
             [
              0.5555555555555556,
              "#d8576b"
             ],
             [
              0.6666666666666666,
              "#ed7953"
             ],
             [
              0.7777777777777778,
              "#fb9f3a"
             ],
             [
              0.8888888888888888,
              "#fdca26"
             ],
             [
              1.0,
              "#f0f921"
             ]
            ]
           }
          ],
          "contourcarpet": [
           {
            "type": "contourcarpet",
            "colorbar": {
             "outlinewidth": 0,
             "ticks": ""
            }
           }
          ],
          "contour": [
           {
            "type": "contour",
            "colorbar": {
             "outlinewidth": 0,
             "ticks": ""
            },
            "colorscale": [
             [
              0.0,
              "#0d0887"
             ],
             [
              0.1111111111111111,
              "#46039f"
             ],
             [
              0.2222222222222222,
              "#7201a8"
             ],
             [
              0.3333333333333333,
              "#9c179e"
             ],
             [
              0.4444444444444444,
              "#bd3786"
             ],
             [
              0.5555555555555556,
              "#d8576b"
             ],
             [
              0.6666666666666666,
              "#ed7953"
             ],
             [
              0.7777777777777778,
              "#fb9f3a"
             ],
             [
              0.8888888888888888,
              "#fdca26"
             ],
             [
              1.0,
              "#f0f921"
             ]
            ]
           }
          ],
          "surface": [
           {
            "type": "surface",
            "colorbar": {
             "outlinewidth": 0,
             "ticks": ""
            },
            "colorscale": [
             [
              0.0,
              "#0d0887"
             ],
             [
              0.1111111111111111,
              "#46039f"
             ],
             [
              0.2222222222222222,
              "#7201a8"
             ],
             [
              0.3333333333333333,
              "#9c179e"
             ],
             [
              0.4444444444444444,
              "#bd3786"
             ],
             [
              0.5555555555555556,
              "#d8576b"
             ],
             [
              0.6666666666666666,
              "#ed7953"
             ],
             [
              0.7777777777777778,
              "#fb9f3a"
             ],
             [
              0.8888888888888888,
              "#fdca26"
             ],
             [
              1.0,
              "#f0f921"
             ]
            ]
           }
          ],
          "mesh3d": [
           {
            "type": "mesh3d",
            "colorbar": {
             "outlinewidth": 0,
             "ticks": ""
            }
           }
          ],
          "scatter": [
           {
            "marker": {
             "line": {
              "color": "#283442"
             }
            },
            "type": "scatter"
           }
          ],
          "parcoords": [
           {
            "type": "parcoords",
            "line": {
             "colorbar": {
              "outlinewidth": 0,
              "ticks": ""
             }
            }
           }
          ],
          "scatterpolargl": [
           {
            "type": "scatterpolargl",
            "marker": {
             "colorbar": {
              "outlinewidth": 0,
              "ticks": ""
             }
            }
           }
          ],
          "bar": [
           {
            "error_x": {
             "color": "#f2f5fa"
            },
            "error_y": {
             "color": "#f2f5fa"
            },
            "marker": {
             "line": {
              "color": "rgb(17,17,17)",
              "width": 0.5
             },
             "pattern": {
              "fillmode": "overlay",
              "size": 10,
              "solidity": 0.2
             }
            },
            "type": "bar"
           }
          ],
          "scattergeo": [
           {
            "type": "scattergeo",
            "marker": {
             "colorbar": {
              "outlinewidth": 0,
              "ticks": ""
             }
            }
           }
          ],
          "scatterpolar": [
           {
            "type": "scatterpolar",
            "marker": {
             "colorbar": {
              "outlinewidth": 0,
              "ticks": ""
             }
            }
           }
          ],
          "histogram": [
           {
            "marker": {
             "pattern": {
              "fillmode": "overlay",
              "size": 10,
              "solidity": 0.2
             }
            },
            "type": "histogram"
           }
          ],
          "scattergl": [
           {
            "marker": {
             "line": {
              "color": "#283442"
             }
            },
            "type": "scattergl"
           }
          ],
          "scatter3d": [
           {
            "type": "scatter3d",
            "line": {
             "colorbar": {
              "outlinewidth": 0,
              "ticks": ""
             }
            },
            "marker": {
             "colorbar": {
              "outlinewidth": 0,
              "ticks": ""
             }
            }
           }
          ],
          "scattermap": [
           {
            "type": "scattermap",
            "marker": {
             "colorbar": {
              "outlinewidth": 0,
              "ticks": ""
             }
            }
           }
          ],
          "scattermapbox": [
           {
            "type": "scattermapbox",
            "marker": {
             "colorbar": {
              "outlinewidth": 0,
              "ticks": ""
             }
            }
           }
          ],
          "scatterternary": [
           {
            "type": "scatterternary",
            "marker": {
             "colorbar": {
              "outlinewidth": 0,
              "ticks": ""
             }
            }
           }
          ],
          "scattercarpet": [
           {
            "type": "scattercarpet",
            "marker": {
             "colorbar": {
              "outlinewidth": 0,
              "ticks": ""
             }
            }
           }
          ],
          "carpet": [
           {
            "aaxis": {
             "endlinecolor": "#A2B1C6",
             "gridcolor": "#506784",
             "linecolor": "#506784",
             "minorgridcolor": "#506784",
             "startlinecolor": "#A2B1C6"
            },
            "baxis": {
             "endlinecolor": "#A2B1C6",
             "gridcolor": "#506784",
             "linecolor": "#506784",
             "minorgridcolor": "#506784",
             "startlinecolor": "#A2B1C6"
            },
            "type": "carpet"
           }
          ],
          "table": [
           {
            "cells": {
             "fill": {
              "color": "#506784"
             },
             "line": {
              "color": "rgb(17,17,17)"
             }
            },
            "header": {
             "fill": {
              "color": "#2a3f5f"
             },
             "line": {
              "color": "rgb(17,17,17)"
             }
            },
            "type": "table"
           }
          ],
          "barpolar": [
           {
            "marker": {
             "line": {
              "color": "rgb(17,17,17)",
              "width": 0.5
             },
             "pattern": {
              "fillmode": "overlay",
              "size": 10,
              "solidity": 0.2
             }
            },
            "type": "barpolar"
           }
          ],
          "pie": [
           {
            "automargin": true,
            "type": "pie"
           }
          ]
         },
         "layout": {
          "autotypenumbers": "strict",
          "colorway": [
           "#636efa",
           "#EF553B",
           "#00cc96",
           "#ab63fa",
           "#FFA15A",
           "#19d3f3",
           "#FF6692",
           "#B6E880",
           "#FF97FF",
           "#FECB52"
          ],
          "font": {
           "color": "#f2f5fa"
          },
          "hovermode": "closest",
          "hoverlabel": {
           "align": "left"
          },
          "paper_bgcolor": "rgb(17,17,17)",
          "plot_bgcolor": "rgb(17,17,17)",
          "polar": {
           "bgcolor": "rgb(17,17,17)",
           "angularaxis": {
            "gridcolor": "#506784",
            "linecolor": "#506784",
            "ticks": ""
           },
           "radialaxis": {
            "gridcolor": "#506784",
            "linecolor": "#506784",
            "ticks": ""
           }
          },
          "ternary": {
           "bgcolor": "rgb(17,17,17)",
           "aaxis": {
            "gridcolor": "#506784",
            "linecolor": "#506784",
            "ticks": ""
           },
           "baxis": {
            "gridcolor": "#506784",
            "linecolor": "#506784",
            "ticks": ""
           },
           "caxis": {
            "gridcolor": "#506784",
            "linecolor": "#506784",
            "ticks": ""
           }
          },
          "coloraxis": {
           "colorbar": {
            "outlinewidth": 0,
            "ticks": ""
           }
          },
          "colorscale": {
           "sequential": [
            [
             0.0,
             "#0d0887"
            ],
            [
             0.1111111111111111,
             "#46039f"
            ],
            [
             0.2222222222222222,
             "#7201a8"
            ],
            [
             0.3333333333333333,
             "#9c179e"
            ],
            [
             0.4444444444444444,
             "#bd3786"
            ],
            [
             0.5555555555555556,
             "#d8576b"
            ],
            [
             0.6666666666666666,
             "#ed7953"
            ],
            [
             0.7777777777777778,
             "#fb9f3a"
            ],
            [
             0.8888888888888888,
             "#fdca26"
            ],
            [
             1.0,
             "#f0f921"
            ]
           ],
           "sequentialminus": [
            [
             0.0,
             "#0d0887"
            ],
            [
             0.1111111111111111,
             "#46039f"
            ],
            [
             0.2222222222222222,
             "#7201a8"
            ],
            [
             0.3333333333333333,
             "#9c179e"
            ],
            [
             0.4444444444444444,
             "#bd3786"
            ],
            [
             0.5555555555555556,
             "#d8576b"
            ],
            [
             0.6666666666666666,
             "#ed7953"
            ],
            [
             0.7777777777777778,
             "#fb9f3a"
            ],
            [
             0.8888888888888888,
             "#fdca26"
            ],
            [
             1.0,
             "#f0f921"
            ]
           ],
           "diverging": [
            [
             0,
             "#8e0152"
            ],
            [
             0.1,
             "#c51b7d"
            ],
            [
             0.2,
             "#de77ae"
            ],
            [
             0.3,
             "#f1b6da"
            ],
            [
             0.4,
             "#fde0ef"
            ],
            [
             0.5,
             "#f7f7f7"
            ],
            [
             0.6,
             "#e6f5d0"
            ],
            [
             0.7,
             "#b8e186"
            ],
            [
             0.8,
             "#7fbc41"
            ],
            [
             0.9,
             "#4d9221"
            ],
            [
             1,
             "#276419"
            ]
           ]
          },
          "xaxis": {
           "gridcolor": "#283442",
           "linecolor": "#506784",
           "ticks": "",
           "title": {
            "standoff": 15
           },
           "zerolinecolor": "#283442",
           "automargin": true,
           "zerolinewidth": 2
          },
          "yaxis": {
           "gridcolor": "#283442",
           "linecolor": "#506784",
           "ticks": "",
           "title": {
            "standoff": 15
           },
           "zerolinecolor": "#283442",
           "automargin": true,
           "zerolinewidth": 2
          },
          "scene": {
           "xaxis": {
            "backgroundcolor": "rgb(17,17,17)",
            "gridcolor": "#506784",
            "linecolor": "#506784",
            "showbackground": true,
            "ticks": "",
            "zerolinecolor": "#C8D4E3",
            "gridwidth": 2
           },
           "yaxis": {
            "backgroundcolor": "rgb(17,17,17)",
            "gridcolor": "#506784",
            "linecolor": "#506784",
            "showbackground": true,
            "ticks": "",
            "zerolinecolor": "#C8D4E3",
            "gridwidth": 2
           },
           "zaxis": {
            "backgroundcolor": "rgb(17,17,17)",
            "gridcolor": "#506784",
            "linecolor": "#506784",
            "showbackground": true,
            "ticks": "",
            "zerolinecolor": "#C8D4E3",
            "gridwidth": 2
           }
          },
          "shapedefaults": {
           "line": {
            "color": "#f2f5fa"
           }
          },
          "annotationdefaults": {
           "arrowcolor": "#f2f5fa",
           "arrowhead": 0,
           "arrowwidth": 1
          },
          "geo": {
           "bgcolor": "rgb(17,17,17)",
           "landcolor": "rgb(17,17,17)",
           "subunitcolor": "#506784",
           "showland": true,
           "showlakes": true,
           "lakecolor": "rgb(17,17,17)"
          },
          "title": {
           "x": 0.05
          },
          "updatemenudefaults": {
           "bgcolor": "#506784",
           "borderwidth": 0
          },
          "sliderdefaults": {
           "bgcolor": "#C8D4E3",
           "borderwidth": 1,
           "bordercolor": "rgb(17,17,17)",
           "tickwidth": 0
          },
          "mapbox": {
           "style": "dark"
          }
         }
        },
        "xaxis": {
         "anchor": "y",
         "domain": [
          0.0,
          1.0
         ],
         "title": {
          "text": "Anno"
         }
        },
        "yaxis": {
         "anchor": "x",
         "domain": [
          0.0,
          1.0
         ],
         "title": {
          "text": "value"
         }
        },
        "legend": {
         "title": {
          "text": "variable"
         },
         "tracegroupgap": 0
        },
        "margin": {
         "t": 60
        }
       },
       "config": {
        "plotlyServerURL": "https://plot.ly"
       }
      }
     },
     "metadata": {},
     "output_type": "display_data"
    }
   ],
   "execution_count": 37
  },
  {
   "metadata": {
    "ExecuteTime": {
     "end_time": "2025-06-19T14:37:03.880263Z",
     "start_time": "2025-06-19T14:37:03.859628Z"
    }
   },
   "cell_type": "code",
   "source": "df_radio_tv_priv.to_csv(os.path.join(os.getcwd(), 'Outputs', 'ascolti_radio_tv_priv.csv'))",
   "id": "79f1dcf9bbc87c4c",
   "outputs": [],
   "execution_count": 38
  },
  {
   "metadata": {},
   "cell_type": "code",
   "outputs": [],
   "execution_count": null,
   "source": "",
   "id": "6ba2839bc3ef1eb5"
  }
 ],
 "metadata": {
  "kernelspec": {
   "display_name": "Python 3",
   "language": "python",
   "name": "python3"
  },
  "language_info": {
   "codemirror_mode": {
    "name": "ipython",
    "version": 2
   },
   "file_extension": ".py",
   "mimetype": "text/x-python",
   "name": "python",
   "nbconvert_exporter": "python",
   "pygments_lexer": "ipython2",
   "version": "2.7.6"
  }
 },
 "nbformat": 4,
 "nbformat_minor": 5
}
